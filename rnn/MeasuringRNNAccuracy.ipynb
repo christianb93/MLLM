{
  "nbformat": 4,
  "nbformat_minor": 0,
  "metadata": {
    "colab": {
      "provenance": [],
      "authorship_tag": "ABX9TyOsLQ7IE0NGqxZQN0ElNxqK"
    },
    "kernelspec": {
      "name": "python3",
      "display_name": "Python 3"
    },
    "language_info": {
      "name": "python"
    },
    "accelerator": "GPU",
    "gpuClass": "standard"
  },
  "cells": [
    {
      "cell_type": "code",
      "execution_count": 1,
      "metadata": {
        "id": "Zo8K5ltfrwiH"
      },
      "outputs": [],
      "source": [
        "import torch"
      ]
    },
    {
      "cell_type": "code",
      "source": [
        "import math\n",
        "\n",
        "class RNN(torch.nn.Module):\n",
        "\n",
        "  def __init__(self, d_in, d_hidden, init_uniform = True):\n",
        "    super().__init__()\n",
        "    self._d_hidden = d_hidden\n",
        "    self._d_in = d_in\n",
        "    k = math.sqrt(1 / d_hidden)\n",
        "    self._w_ih = torch.nn.Parameter(torch.randn(d_hidden, d_in))\n",
        "    self._b_ih = torch.nn.Parameter(torch.randn(d_hidden))\n",
        "    self._w_hh = torch.nn.Parameter(torch.randn(d_hidden, d_hidden))\n",
        "    self._b_hh = torch.nn.Parameter(torch.randn(d_hidden))\n",
        "    if init_uniform:\n",
        "      with torch.no_grad():\n",
        "        self._w_ih.uniform_(-k, k)\n",
        "        self._w_hh.uniform_(-k, k)\n",
        "\n",
        "  def forward(self, x, h = None):\n",
        "    L = x.shape[0]\n",
        "    device = self._w_ih.device\n",
        "    if h is None:\n",
        "        h = torch.zeros(self._d_hidden).to(device)\n",
        "    out = []\n",
        "    for t in range(L):\n",
        "      h = torch.tanh(x[t] @ self._w_ih.t() + self._b_ih + h @ self._w_hh.t() + self._b_hh)\n",
        "      out.append(h)\n",
        "    return torch.stack(out), h"
      ],
      "metadata": {
        "id": "DoAkd55sr3Fa"
      },
      "execution_count": 2,
      "outputs": []
    },
    {
      "cell_type": "code",
      "source": [
        "\n",
        "class MyModel(torch.nn.Module):\n",
        "\n",
        "  def __init__(self, d_in, d_hidden, init_uniform = True, use_lstm = False):\n",
        "    self._d_hidden = d_hidden\n",
        "    self._d_in = d_in\n",
        "    super().__init__()\n",
        "    if use_lstm:\n",
        "      self._rnn = torch.nn.LSTM(input_size = d_in, hidden_size = d_hidden)\n",
        "    else:\n",
        "      self._rnn = RNN(d_in = d_in, d_hidden = d_hidden, init_uniform = True)\n",
        "    self._linear = torch.nn.Linear(in_features = d_hidden, out_features = d_in)\n",
        "\n",
        "  def forward(self, x, h = None):\n",
        "    rnn_out, hidden = self._rnn(x, h)\n",
        "    out = self._linear(rnn_out)\n",
        "    return out, hidden "
      ],
      "metadata": {
        "id": "rgLVvDwXr35t"
      },
      "execution_count": 3,
      "outputs": []
    },
    {
      "cell_type": "code",
      "source": [
        "\n",
        "class CounterDataSet(torch.utils.data.Dataset):\n",
        "\n",
        "  def __init__(self, V, L):\n",
        "    super().__init__()\n",
        "    self._V = V\n",
        "    self._L = L\n",
        "\n",
        "  def __getitem__(self, index):\n",
        "    if not index < len(self):\n",
        "      raise KeyError\n",
        "    #\n",
        "    # Input at index is the sequence of length L \n",
        "    # starting at index\n",
        "    #\n",
        "    inputs = torch.arange(index, index + self._L, dtype = torch.long)\n",
        "    #\n",
        "    # Target is always the first element of the sequence\n",
        "    #\n",
        "    targets = torch.tensor(self._L*[index], dtype=torch.long)\n",
        "    inputs = torch.nn.functional.one_hot(inputs, num_classes = self._V)\n",
        "    inputs = inputs.to(torch.float32)\n",
        "    return inputs, targets\n",
        "\n",
        "  def __len__(self):\n",
        "    return self._V - self._L\n",
        "\n",
        "\n",
        "def collate_fn(list):\n",
        "    X = []\n",
        "    Y = []\n",
        "    for index, [x, y] in enumerate(list):\n",
        "        Y.append(y)\n",
        "        X.append(x)\n",
        "    #\n",
        "    # Stack along batch dimension\n",
        "    #        \n",
        "    X = torch.stack(X, dim = 1)\n",
        "    Y = torch.stack(Y, dim = 1)\n",
        "    return X, Y "
      ],
      "metadata": {
        "id": "7HB67WXCr7fh"
      },
      "execution_count": 4,
      "outputs": []
    },
    {
      "cell_type": "code",
      "source": [
        "def train(model, epochs, train_data_loader, lr = 0.025, device = \"cpu\", loss_fn = torch.nn.functional.cross_entropy):\n",
        "    losses = []\n",
        "    optimizer = torch.optim.Adam(model.parameters(), lr = lr)\n",
        "    lr_lambda = lambda epoch: (epochs - epoch) / epochs\n",
        "    scheduler = torch.optim.lr_scheduler.LambdaLR(optimizer, lr_lambda=lr_lambda, verbose = False)\n",
        "    for epoch in range(epochs):\n",
        "        epoch_loss = 0\n",
        "        items_in_epoch = 0\n",
        "        for X, Y in train_data_loader:\n",
        "            items_in_epoch = items_in_epoch + 1\n",
        "            f, hidden = model(X.to(device))\n",
        "            targets = Y.to(device)\n",
        "            #\n",
        "            # f is the model output and has shape (L, B, V)\n",
        "            # targets are the targets and have shape (L, B) \n",
        "            # so we first flatten them\n",
        "            #\n",
        "            V = f.shape[2]\n",
        "            f = f.view(-1, V)\n",
        "            targets = targets.flatten()\n",
        "            loss = loss_fn(f, targets)            \n",
        "            optimizer.zero_grad()\n",
        "            loss.backward()\n",
        "            optimizer.step()\n",
        "            \n",
        "            losses.append(loss.item())\n",
        "            epoch_loss = epoch_loss + loss.item()\n",
        "\n",
        "        epoch_loss = epoch_loss / items_in_epoch\n",
        "        scheduler.step()\n",
        "\n",
        "    return losses\n",
        "\n",
        "def eval_model(model, V, device, L = 3):\n",
        "  with torch.no_grad():\n",
        "    eval_ds = CounterDataSet(V = V, L = L)\n",
        "    accuracy = 0\n",
        "    for i in range(len(eval_ds)):\n",
        "      inputs, targets = eval_ds[i]\n",
        "      out, _ = model(inputs.to(device))\n",
        "      p = torch.softmax(out[-1], dim = 0)\n",
        "      guess = torch.argmax(p).item()\n",
        "      if guess == targets[-1]:\n",
        "        accuracy += 1\n",
        "    accuracy = accuracy / len(eval_ds)\n",
        "  return accuracy"
      ],
      "metadata": {
        "id": "Bzwr8qa8sHW7"
      },
      "execution_count": 5,
      "outputs": []
    },
    {
      "cell_type": "code",
      "source": [
        "device = \"cuda\" if torch.cuda.is_available() else \"cpu\"\n",
        "print(f\"Using device {device}\")\n",
        "V = 512\n",
        "D_HIDDEN = 32\n",
        "accuracies_rnn = []\n",
        "accuracies_lstm = []\n",
        "lengths = [l for l in range(4, 20, 2)]\n",
        "epochs = 100\n",
        "#\n",
        "# Do a run with an ordinary RNN\n",
        "#\n",
        "for L in lengths:\n",
        "  model = MyModel(d_in = V, d_hidden = D_HIDDEN, init_uniform = True)\n",
        "  model = model.to(device)\n",
        "  ds = CounterDataSet(V = V, L = L)\n",
        "  BATCH_SIZE = len(ds) \n",
        "\n",
        "  training_data = torch.utils.data.DataLoader(ds, batch_size = BATCH_SIZE, shuffle = True, collate_fn = collate_fn, drop_last = True)\n",
        "  losses = train(model, lr=0.1, epochs=epochs, train_data_loader = training_data, device = device)\n",
        "  accuracy = eval_model(model, V, device, L = L)\n",
        "  accuracies_rnn.append(accuracy)\n",
        "  print(f\"Sequence length {L} ---> accuracy (RNN) {accuracy}\")\n",
        "\n",
        "\n",
        "#\n",
        "# And a second run with an LSTM\n",
        "#\n",
        "for L in lengths:\n",
        "  model = MyModel(d_in = V, d_hidden = D_HIDDEN, init_uniform = True, use_lstm = True)\n",
        "  model = model.to(device)\n",
        "  ds = CounterDataSet(V = V, L = L)\n",
        "  BATCH_SIZE = len(ds) \n",
        "\n",
        "  training_data = torch.utils.data.DataLoader(ds, batch_size = BATCH_SIZE, shuffle = True, collate_fn = collate_fn, drop_last = True)\n",
        "  losses = train(model, lr=0.1, epochs=epochs, train_data_loader = training_data, device = device)\n",
        "  accuracy = eval_model(model, V, device, L = L)\n",
        "  accuracies_lstm.append(accuracy)\n",
        "  print(f\"Sequence length {L} ---> accuracy (LSTM) {accuracy}\")\n",
        "\n",
        "\n",
        "import matplotlib.pyplot as plt\n",
        "plt.plot(lengths, accuracies_rnn, lengths, accuracies_lstm)\n"
      ],
      "metadata": {
        "colab": {
          "base_uri": "https://localhost:8080/",
          "height": 760
        },
        "id": "MDIFhNultJMQ",
        "outputId": "f3ad7d6b-8dff-4bea-e1c1-9757756a8ca0"
      },
      "execution_count": 6,
      "outputs": [
        {
          "output_type": "stream",
          "name": "stdout",
          "text": [
            "Using device cuda\n",
            "Sequence length 4 ---> accuracy (RNN) 1.0\n",
            "Sequence length 6 ---> accuracy (RNN) 1.0\n",
            "Sequence length 8 ---> accuracy (RNN) 0.9940476190476191\n",
            "Sequence length 10 ---> accuracy (RNN) 0.9900398406374502\n",
            "Sequence length 12 ---> accuracy (RNN) 0.926\n",
            "Sequence length 14 ---> accuracy (RNN) 0.8313253012048193\n",
            "Sequence length 16 ---> accuracy (RNN) 0.594758064516129\n",
            "Sequence length 18 ---> accuracy (RNN) 0.5769230769230769\n",
            "Sequence length 4 ---> accuracy (LSTM) 1.0\n",
            "Sequence length 6 ---> accuracy (LSTM) 1.0\n",
            "Sequence length 8 ---> accuracy (LSTM) 1.0\n",
            "Sequence length 10 ---> accuracy (LSTM) 1.0\n",
            "Sequence length 12 ---> accuracy (LSTM) 1.0\n",
            "Sequence length 14 ---> accuracy (LSTM) 1.0\n",
            "Sequence length 16 ---> accuracy (LSTM) 1.0\n",
            "Sequence length 18 ---> accuracy (LSTM) 1.0\n"
          ]
        },
        {
          "output_type": "execute_result",
          "data": {
            "text/plain": [
              "[<matplotlib.lines.Line2D at 0x7f49e444c940>,\n",
              " <matplotlib.lines.Line2D at 0x7f49e444c9a0>]"
            ]
          },
          "metadata": {},
          "execution_count": 6
        },
        {
          "output_type": "display_data",
          "data": {
            "text/plain": [
              "<Figure size 640x480 with 1 Axes>"
            ],
            "image/png": "[encoded data removed]"
          },
          "metadata": {}
        }
      ]
    },
    {
      "cell_type": "code",
      "source": [],
      "metadata": {
        "id": "05XYblvOr_Vz"
      },
      "execution_count": 6,
      "outputs": []
    }
  ]
}