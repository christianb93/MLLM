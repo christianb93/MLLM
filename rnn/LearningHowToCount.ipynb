{
  "nbformat": 4,
  "nbformat_minor": 0,
  "metadata": {
    "colab": {
      "provenance": [],
      "authorship_tag": "ABX9TyP0IefYY9jOHdYoJjx/f79h"
    },
    "kernelspec": {
      "name": "python3",
      "display_name": "Python 3"
    },
    "language_info": {
      "name": "python"
    }
  },
  "cells": [
    {
      "cell_type": "code",
      "execution_count": 1,
      "metadata": {
        "id": "iOtf_R5j5Wtt"
      },
      "outputs": [],
      "source": [
        "import torch"
      ]
    },
    {
      "cell_type": "markdown",
      "source": [
        "Here is our RNN. We have already seen the forward method in the last blog post. Putting together this class is straightforward, the only point which requires some care is to wrap the parameters that we want to be trainable in a *torch.nn.Parameter* instance so that PyTorch registers them as parameters."
      ],
      "metadata": {
        "id": "GGkHH_9jFiEi"
      }
    },
    {
      "cell_type": "code",
      "source": [
        "class RNN(torch.nn.Module):\n",
        "\n",
        "  def __init__(self, d_in, d_hidden):\n",
        "    super().__init__()\n",
        "    self._d_hidden = d_hidden\n",
        "    self._d_in = d_in\n",
        "    self._w_ih = torch.nn.Parameter(torch.randn((d_hidden, d_in)))\n",
        "    self._b_ih = torch.nn.Parameter(torch.randn(d_hidden))\n",
        "    self._w_hh = torch.nn.Parameter(torch.randn((d_hidden, d_hidden)))\n",
        "    self._b_hh = torch.nn.Parameter(torch.randn(d_hidden))\n",
        "\n",
        "  def forward(self, x, h = None):\n",
        "    L = x.shape[0]\n",
        "    if h is None:\n",
        "        h = torch.zeros(self._d_hidden)\n",
        "    out = []\n",
        "    for t in range(L):\n",
        "      h = torch.tanh(x[t] @ self._w_ih.t() + self._b_ih + h @ self._w_hh.t() + self._b_hh)\n",
        "      out.append(h)\n",
        "    return torch.stack(out), h"
      ],
      "metadata": {
        "id": "jou65wr-5iVY"
      },
      "execution_count": 2,
      "outputs": []
    },
    {
      "cell_type": "markdown",
      "source": [
        "To have a full model, we still need to add a linear layer on top of the RNN which converts the data back from the hidden dimension into the dimension corresponding to the vocabulary. So our full model will consist of an RNN layer followed by a linear layer. As usual, the final softmax is not included but will be taken care of in the loss function."
      ],
      "metadata": {
        "id": "bVbyZJDFF2wV"
      }
    },
    {
      "cell_type": "code",
      "source": [
        "class MyModel(torch.nn.Module):\n",
        "\n",
        "  def __init__(self, d_in, d_hidden):\n",
        "    self._d_hidden = d_hidden\n",
        "    self._d_in = d_in\n",
        "    super().__init__()\n",
        "    self._rnn = RNN(d_in = d_in, d_hidden = d_hidden)\n",
        "    self._linear = torch.nn.Linear(in_features = d_hidden, out_features = d_in)\n",
        "\n",
        "  def forward(self, x, h = None):\n",
        "    rnn_out, hidden = self._rnn(x, h)\n",
        "    out = self._linear(rnn_out)\n",
        "    return out, hidden  \n",
        "\n",
        "  "
      ],
      "metadata": {
        "id": "B2ClkLrqBWZe"
      },
      "execution_count": 3,
      "outputs": []
    },
    {
      "cell_type": "markdown",
      "source": [
        "Next we need a dataset. The dataset actually implements the teacher forcing. Specifically, given an input sequence which is simply a short sequence of consecutive numbers, we form the corresponding sequence of targets by shifting the inputs to the rights. If, for instance, the inputs are [0,1,2,3,4], the corresponding target is [1,2,3,4,5]."
      ],
      "metadata": {
        "id": "zhQW35VrGKaO"
      }
    },
    {
      "cell_type": "code",
      "source": [
        "class CounterDataSet(torch.utils.data.Dataset):\n",
        "\n",
        "  def __init__(self, V, L):\n",
        "    super().__init__()\n",
        "    self._V = V\n",
        "    self._L = L\n",
        "\n",
        "  def __getitem__(self, index):\n",
        "    if not index < len(self):\n",
        "      raise KeyError\n",
        "    #\n",
        "    # Input at index is the sequence of length L \n",
        "    # starting at index\n",
        "    #\n",
        "    inputs =   torch.tensor([i for i in range(index, index + self._L)], dtype = torch.long)\n",
        "    targets = torch.tensor([i for i in range(index + 1, index + self._L + 1)], dtype=torch.long)\n",
        "    inputs = torch.nn.functional.one_hot(inputs, num_classes = self._V).to(torch.float32)\n",
        "    return inputs, targets\n",
        "\n",
        "  def __len__(self):\n",
        "    return self._V - self._L\n"
      ],
      "metadata": {
        "id": "kUsL7UuM6ffR"
      },
      "execution_count": 4,
      "outputs": []
    },
    {
      "cell_type": "markdown",
      "source": [
        "Let us try this out. We create a dataset with a small value of V that still allows for visual inspection and print the first item. We see that the input (which uses one-hot encoding) represents the sequence [0,1,2,3], whereas the corresponding targets are [1,2,3,4]"
      ],
      "metadata": {
        "id": "cJG81GE9Gqt5"
      }
    },
    {
      "cell_type": "code",
      "source": [
        "ds = CounterDataSet(V = 10, L = 4)\n",
        "#\n",
        "# Print last item\n",
        "#\n",
        "x, y = ds[0]\n",
        "print(x)\n",
        "print(y)"
      ],
      "metadata": {
        "colab": {
          "base_uri": "https://localhost:8080/"
        },
        "id": "EqyCJdqy74jm",
        "outputId": "4f9f5754-6c63-4b97-aec6-7333779a2650"
      },
      "execution_count": 5,
      "outputs": [
        {
          "output_type": "stream",
          "name": "stdout",
          "text": [
            "tensor([[1., 0., 0., 0., 0., 0., 0., 0., 0., 0.],\n",
            "        [0., 1., 0., 0., 0., 0., 0., 0., 0., 0.],\n",
            "        [0., 0., 1., 0., 0., 0., 0., 0., 0., 0.],\n",
            "        [0., 0., 0., 1., 0., 0., 0., 0., 0., 0.]])\n",
            "tensor([1, 2, 3, 4])\n"
          ]
        }
      ]
    },
    {
      "cell_type": "markdown",
      "source": [
        "To be able to train our model, we still need a bit of boilerplate code. The collate function will be used to assemble a set of items into a batch. Note that we use the second dimension as the batch dimension. In the training function, we need to keep in mind that the output of the model will be of shape (L,B,V) whereas the targets (which are the labels only) have shape (L,B). To be able to feed this into the loss function, we reshape the inputs and targets to have dimensions (L x B, V) and (L x B), which is what the loss function expects.\n",
        "\n",
        "Of course our data set is very small and the network will simply memorize all training samples. Our training run is very short and should only take a few seconds, even on a CPU."
      ],
      "metadata": {
        "id": "qqDMpo7eHBdi"
      }
    },
    {
      "cell_type": "code",
      "source": [
        "def collate_fn(list):\n",
        "    X = []\n",
        "    Y = []\n",
        "    for index, [x, y] in enumerate(list):\n",
        "        Y.append(y)\n",
        "        X.append(x)\n",
        "    #\n",
        "    # Stack along batch dimension\n",
        "    #        \n",
        "    X = torch.stack(X, dim = 1)\n",
        "    Y = torch.stack(Y, dim = 1)\n",
        "    return X, Y \n",
        "\n",
        "loader = torch.utils.data.DataLoader(ds, batch_size = 2, shuffle = False, collate_fn = collate_fn)\n",
        "iter = loader.__iter__()\n",
        "x, y = next(iter)\n",
        "#\n",
        "# Inputs are of dimension (L, B, V)\n",
        "# Targets are of dimension (L, B)\n",
        "#\n",
        "print(x.shape)\n",
        "print(y.shape)\n",
        "print(x[:,0,:])\n",
        "print(y[:,0])"
      ],
      "metadata": {
        "colab": {
          "base_uri": "https://localhost:8080/"
        },
        "id": "MdS17au4-uXK",
        "outputId": "19a5fc3f-4799-477d-a0eb-eb56d4c11409"
      },
      "execution_count": 6,
      "outputs": [
        {
          "output_type": "stream",
          "name": "stdout",
          "text": [
            "torch.Size([4, 2, 10])\n",
            "torch.Size([4, 2])\n",
            "tensor([[1., 0., 0., 0., 0., 0., 0., 0., 0., 0.],\n",
            "        [0., 1., 0., 0., 0., 0., 0., 0., 0., 0.],\n",
            "        [0., 0., 1., 0., 0., 0., 0., 0., 0., 0.],\n",
            "        [0., 0., 0., 1., 0., 0., 0., 0., 0., 0.]])\n",
            "tensor([1, 2, 3, 4])\n"
          ]
        }
      ]
    },
    {
      "cell_type": "code",
      "source": [
        "def train(model, epochs, train_data_loader, lr = 0.025, device = \"cpu\", loss_fn = torch.nn.functional.cross_entropy):\n",
        "    losses = []\n",
        "    optimizer = torch.optim.Adam(model.parameters(), lr = lr)\n",
        "    lr_lambda = lambda epoch: (epochs - epoch) / epochs\n",
        "    scheduler = torch.optim.lr_scheduler.LambdaLR(optimizer, lr_lambda=lr_lambda, verbose = False)\n",
        "    for epoch in range(epochs):\n",
        "        epoch_loss = 0\n",
        "        items_in_epoch = 0\n",
        "        for X, Y in train_data_loader:\n",
        "            items_in_epoch = items_in_epoch + 1\n",
        "            f, hidden = model(X.to(device))\n",
        "            targets = Y.to(device)\n",
        "            #\n",
        "            # f is the model output and has shape (L, B, V)\n",
        "            # targets are the targets and have shape (L, B) \n",
        "            # so we first flatten them\n",
        "            #\n",
        "            V = f.shape[2]\n",
        "            f = f.view(-1, V)\n",
        "            targets = targets.flatten()\n",
        "            loss = loss_fn(f, targets)            \n",
        "            optimizer.zero_grad()\n",
        "            loss.backward()\n",
        "            optimizer.step()\n",
        "            \n",
        "            losses.append(loss.item())\n",
        "            epoch_loss = epoch_loss + loss.item()\n",
        "\n",
        "        epoch_loss = epoch_loss / items_in_epoch\n",
        "        print(f\"Completed epoch {epoch}, mean loss in epoch is {epoch_loss}\")\n",
        "        scheduler.step()\n",
        "\n",
        "    return losses\n",
        "\n",
        "device = \"cuda\" if torch.cuda.is_available() else \"cpu\"\n",
        "print(f\"Using device {device}\")\n",
        "V = 128\n",
        "L = 6\n",
        "D_HIDDEN = 32\n",
        "model = MyModel(d_in = V, d_hidden = D_HIDDEN)\n",
        "model = model.to(device)\n",
        "ds = CounterDataSet(V = V, L = L)\n",
        "BATCH_SIZE = len(ds) // 2\n",
        "\n",
        "training_data = torch.utils.data.DataLoader(ds, batch_size = BATCH_SIZE, shuffle = True, collate_fn = collate_fn, drop_last = True)\n",
        "losses = train(model, lr=0.1, epochs=25, train_data_loader = training_data, device = device)\n",
        "\n",
        "import matplotlib.pyplot as plt\n",
        "plt.plot(losses)  "
      ],
      "metadata": {
        "colab": {
          "base_uri": "https://localhost:8080/",
          "height": 898
        },
        "id": "f5GtdPqW9h4V",
        "outputId": "067a2311-ad41-4cf7-ede5-e09bfe0a6426"
      },
      "execution_count": 7,
      "outputs": [
        {
          "output_type": "stream",
          "name": "stdout",
          "text": [
            "Using device cpu\n",
            "Completed epoch 0, mean loss in epoch is 4.920872211456299\n",
            "Completed epoch 1, mean loss in epoch is 3.8525729179382324\n",
            "Completed epoch 2, mean loss in epoch is 3.0924001932144165\n",
            "Completed epoch 3, mean loss in epoch is 2.4735904932022095\n",
            "Completed epoch 4, mean loss in epoch is 2.039393365383148\n",
            "Completed epoch 5, mean loss in epoch is 1.6201226711273193\n",
            "Completed epoch 6, mean loss in epoch is 1.2232605814933777\n",
            "Completed epoch 7, mean loss in epoch is 1.0380517840385437\n",
            "Completed epoch 8, mean loss in epoch is 0.7445066273212433\n",
            "Completed epoch 9, mean loss in epoch is 0.5589053630828857\n",
            "Completed epoch 10, mean loss in epoch is 0.4509558528661728\n",
            "Completed epoch 11, mean loss in epoch is 0.345085009932518\n",
            "Completed epoch 12, mean loss in epoch is 0.2476726993918419\n",
            "Completed epoch 13, mean loss in epoch is 0.1986043006181717\n",
            "Completed epoch 14, mean loss in epoch is 0.16385888308286667\n",
            "Completed epoch 15, mean loss in epoch is 0.13710297644138336\n",
            "Completed epoch 16, mean loss in epoch is 0.1231643557548523\n",
            "Completed epoch 17, mean loss in epoch is 0.11977362632751465\n",
            "Completed epoch 18, mean loss in epoch is 0.0941416583955288\n",
            "Completed epoch 19, mean loss in epoch is 0.07940812036395073\n",
            "Completed epoch 20, mean loss in epoch is 0.07390766963362694\n",
            "Completed epoch 21, mean loss in epoch is 0.0682312361896038\n",
            "Completed epoch 22, mean loss in epoch is 0.06482874602079391\n",
            "Completed epoch 23, mean loss in epoch is 0.06149347126483917\n",
            "Completed epoch 24, mean loss in epoch is 0.05994946323335171\n"
          ]
        },
        {
          "output_type": "execute_result",
          "data": {
            "text/plain": [
              "[<matplotlib.lines.Line2D at 0x7f5d59c411f0>]"
            ]
          },
          "metadata": {},
          "execution_count": 7
        },
        {
          "output_type": "display_data",
          "data": {
            "text/plain": [
              "<Figure size 640x480 with 1 Axes>"
            ],
            "image/png": "[encoded data removed]"
          },
          "metadata": {}
        }
      ]
    },
    {
      "cell_type": "markdown",
      "source": [
        "Finally we sample from the model. We use the sequence 7,8,9,10 as prompt and do of course expect that the model correctly predicts 11 as the next value."
      ],
      "metadata": {
        "id": "4OFge3eJIHZa"
      }
    },
    {
      "cell_type": "code",
      "source": [
        "#\n",
        "# Input is the sequence [7,8,9,10]\n",
        "#\n",
        "input = torch.tensor([i for i in range(7, 11)], dtype=torch.long)\n",
        "input = torch.nn.functional.one_hot(input, num_classes = V).to(torch.float32)\n",
        "out, hidden = model(input.to(device))\n",
        "#\n",
        "# Output has shape (L, V) \n",
        "#\n",
        "print(f\"Shape out output: {out.shape}\")\n",
        "#\n",
        "# Strip off last output and apply softmax\n",
        "# to obtain a probability distribution p of length V\n",
        "#\n",
        "p = torch.softmax(out[-1], dim = -1)\n",
        "print(p.shape)\n",
        "#\n",
        "# Predict\n",
        "#\n",
        "guess = torch.argmax(p).item()\n",
        "print(guess)"
      ],
      "metadata": {
        "colab": {
          "base_uri": "https://localhost:8080/"
        },
        "id": "JKgKX5LvEQ9G",
        "outputId": "d54dc822-9a54-4518-ac10-c195d029cff0"
      },
      "execution_count": 8,
      "outputs": [
        {
          "output_type": "stream",
          "name": "stdout",
          "text": [
            "Shape out output: torch.Size([4, 128])\n",
            "torch.Size([128])\n",
            "11\n"
          ]
        }
      ]
    },
    {
      "cell_type": "code",
      "source": [
        "#\n",
        "# Predict next value, reusing the hidden layer\n",
        "#\n",
        "input = torch.tensor([11], dtype=torch.long)\n",
        "input = torch.nn.functional.one_hot(input, num_classes = V).to(torch.float32)\n",
        "out, _ = model(input.to(device), hidden)\n",
        "\n",
        "p = torch.softmax(out[-1], dim = -1)\n",
        "guess = torch.argmax(p).item()\n",
        "print(guess)"
      ],
      "metadata": {
        "id": "CY5pSRHEMPIt",
        "outputId": "6ca9f8b2-9d7e-4222-fd8c-be3f36aeeef9",
        "colab": {
          "base_uri": "https://localhost:8080/"
        }
      },
      "execution_count": 9,
      "outputs": [
        {
          "output_type": "stream",
          "name": "stdout",
          "text": [
            "12\n"
          ]
        }
      ]
    }
  ]
}