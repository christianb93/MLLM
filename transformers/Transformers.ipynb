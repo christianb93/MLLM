{
  "cells": [
    {
      "cell_type": "markdown",
      "id": "483ed6e6-d73a-4c71-8411-c923beb8f905",
      "metadata": {
        "id": "483ed6e6-d73a-4c71-8411-c923beb8f905"
      },
      "source": [
        "First, we import the transformer library and load a pretrained GPT-Neo model. This will result in a model which is an instance of *torch.nn.Module*."
      ]
    },
    {
      "cell_type": "code",
      "source": [
        "!pip3 install torch==2.0.*\n",
        "!pip3 install transformers==4.27.4"
      ],
      "metadata": {
        "id": "bmHt_m8nTb6P",
        "outputId": "0516622d-c5a2-45af-d544-4abbed383329",
        "colab": {
          "base_uri": "https://localhost:8080/"
        }
      },
      "id": "bmHt_m8nTb6P",
      "execution_count": 1,
      "outputs": [
        {
          "output_type": "stream",
          "name": "stdout",
          "text": [
            "Looking in indexes: https://pypi.org/simple, https://us-python.pkg.dev/colab-wheels/public/simple/\n",
            "Requirement already satisfied: torch==2.0.* in /usr/local/lib/python3.10/dist-packages (2.0.1+cu118)\n",
            "Requirement already satisfied: filelock in /usr/local/lib/python3.10/dist-packages (from torch==2.0.*) (3.12.0)\n",
            "Requirement already satisfied: typing-extensions in /usr/local/lib/python3.10/dist-packages (from torch==2.0.*) (4.5.0)\n",
            "Requirement already satisfied: sympy in /usr/local/lib/python3.10/dist-packages (from torch==2.0.*) (1.11.1)\n",
            "Requirement already satisfied: networkx in /usr/local/lib/python3.10/dist-packages (from torch==2.0.*) (3.1)\n",
            "Requirement already satisfied: jinja2 in /usr/local/lib/python3.10/dist-packages (from torch==2.0.*) (3.1.2)\n",
            "Requirement already satisfied: triton==2.0.0 in /usr/local/lib/python3.10/dist-packages (from torch==2.0.*) (2.0.0)\n",
            "Requirement already satisfied: cmake in /usr/local/lib/python3.10/dist-packages (from triton==2.0.0->torch==2.0.*) (3.25.2)\n",
            "Requirement already satisfied: lit in /usr/local/lib/python3.10/dist-packages (from triton==2.0.0->torch==2.0.*) (16.0.5)\n",
            "Requirement already satisfied: MarkupSafe>=2.0 in /usr/local/lib/python3.10/dist-packages (from jinja2->torch==2.0.*) (2.1.2)\n",
            "Requirement already satisfied: mpmath>=0.19 in /usr/local/lib/python3.10/dist-packages (from sympy->torch==2.0.*) (1.3.0)\n",
            "Looking in indexes: https://pypi.org/simple, https://us-python.pkg.dev/colab-wheels/public/simple/\n",
            "Requirement already satisfied: transformers==4.27.4 in /usr/local/lib/python3.10/dist-packages (4.27.4)\n",
            "Requirement already satisfied: filelock in /usr/local/lib/python3.10/dist-packages (from transformers==4.27.4) (3.12.0)\n",
            "Requirement already satisfied: huggingface-hub<1.0,>=0.11.0 in /usr/local/lib/python3.10/dist-packages (from transformers==4.27.4) (0.15.1)\n",
            "Requirement already satisfied: numpy>=1.17 in /usr/local/lib/python3.10/dist-packages (from transformers==4.27.4) (1.22.4)\n",
            "Requirement already satisfied: packaging>=20.0 in /usr/local/lib/python3.10/dist-packages (from transformers==4.27.4) (23.1)\n",
            "Requirement already satisfied: pyyaml>=5.1 in /usr/local/lib/python3.10/dist-packages (from transformers==4.27.4) (6.0)\n",
            "Requirement already satisfied: regex!=2019.12.17 in /usr/local/lib/python3.10/dist-packages (from transformers==4.27.4) (2022.10.31)\n",
            "Requirement already satisfied: requests in /usr/local/lib/python3.10/dist-packages (from transformers==4.27.4) (2.27.1)\n",
            "Requirement already satisfied: tokenizers!=0.11.3,<0.14,>=0.11.1 in /usr/local/lib/python3.10/dist-packages (from transformers==4.27.4) (0.13.3)\n",
            "Requirement already satisfied: tqdm>=4.27 in /usr/local/lib/python3.10/dist-packages (from transformers==4.27.4) (4.65.0)\n",
            "Requirement already satisfied: fsspec in /usr/local/lib/python3.10/dist-packages (from huggingface-hub<1.0,>=0.11.0->transformers==4.27.4) (2023.4.0)\n",
            "Requirement already satisfied: typing-extensions>=3.7.4.3 in /usr/local/lib/python3.10/dist-packages (from huggingface-hub<1.0,>=0.11.0->transformers==4.27.4) (4.5.0)\n",
            "Requirement already satisfied: urllib3<1.27,>=1.21.1 in /usr/local/lib/python3.10/dist-packages (from requests->transformers==4.27.4) (1.26.15)\n",
            "Requirement already satisfied: certifi>=2017.4.17 in /usr/local/lib/python3.10/dist-packages (from requests->transformers==4.27.4) (2022.12.7)\n",
            "Requirement already satisfied: charset-normalizer~=2.0.0 in /usr/local/lib/python3.10/dist-packages (from requests->transformers==4.27.4) (2.0.12)\n",
            "Requirement already satisfied: idna<4,>=2.5 in /usr/local/lib/python3.10/dist-packages (from requests->transformers==4.27.4) (3.4)\n"
          ]
        }
      ]
    },
    {
      "cell_type": "code",
      "execution_count": 2,
      "id": "39f8b6b6-bf74-41fb-b0a5-09ad96913f09",
      "metadata": {
        "tags": [],
        "id": "39f8b6b6-bf74-41fb-b0a5-09ad96913f09",
        "outputId": "9d6e1935-c727-4d70-c045-40c7326eb6cf",
        "colab": {
          "base_uri": "https://localhost:8080/",
          "height": 1000,
          "referenced_widgets": [
            "b3b58aebbe9e4e01a5f1851f0ad5e134",
            "30479aa1c70c44089395803a74e2e4f1",
            "b8d5382a6d86497ca23076ae6e91f26b",
            "51c1fb1ae097479ba79dd99900859890",
            "b2cfaf7bc2e6476a81d8604668449c4f",
            "d625dd0668cb4591bc9665eec65cae67",
            "2a1c5b3bb8da44429f5cdbaf20fedc12",
            "82171d3f6aa542b08625706001e1056c",
            "14775083d95645168913aa13be6bfd84",
            "3d891772c99a4142ad06e59fbecaca61",
            "ba5bab42985c4367ab2d5e490ffb8077"
          ]
        }
      },
      "outputs": [
        {
          "output_type": "display_data",
          "data": {
            "text/plain": [
              "Downloading pytorch_model.bin:   0%|          | 0.00/5.31G [00:00<?, ?B/s]"
            ],
            "application/vnd.jupyter.widget-view+json": {
              "version_major": 2,
              "version_minor": 0,
              "model_id": "b3b58aebbe9e4e01a5f1851f0ad5e134"
            }
          },
          "metadata": {}
        },
        {
          "output_type": "stream",
          "name": "stdout",
          "text": [
            "GPTNeoForCausalLM(\n",
            "  (transformer): GPTNeoModel(\n",
            "    (wte): Embedding(50257, 2048)\n",
            "    (wpe): Embedding(2048, 2048)\n",
            "    (drop): Dropout(p=0.0, inplace=False)\n",
            "    (h): ModuleList(\n",
            "      (0-23): 24 x GPTNeoBlock(\n",
            "        (ln_1): LayerNorm((2048,), eps=1e-05, elementwise_affine=True)\n",
            "        (attn): GPTNeoAttention(\n",
            "          (attention): GPTNeoSelfAttention(\n",
            "            (attn_dropout): Dropout(p=0.0, inplace=False)\n",
            "            (resid_dropout): Dropout(p=0.0, inplace=False)\n",
            "            (k_proj): Linear(in_features=2048, out_features=2048, bias=False)\n",
            "            (v_proj): Linear(in_features=2048, out_features=2048, bias=False)\n",
            "            (q_proj): Linear(in_features=2048, out_features=2048, bias=False)\n",
            "            (out_proj): Linear(in_features=2048, out_features=2048, bias=True)\n",
            "          )\n",
            "        )\n",
            "        (ln_2): LayerNorm((2048,), eps=1e-05, elementwise_affine=True)\n",
            "        (mlp): GPTNeoMLP(\n",
            "          (c_fc): Linear(in_features=2048, out_features=8192, bias=True)\n",
            "          (c_proj): Linear(in_features=8192, out_features=2048, bias=True)\n",
            "          (act): NewGELUActivation()\n",
            "          (dropout): Dropout(p=0.0, inplace=False)\n",
            "        )\n",
            "      )\n",
            "    )\n",
            "    (ln_f): LayerNorm((2048,), eps=1e-05, elementwise_affine=True)\n",
            "  )\n",
            "  (lm_head): Linear(in_features=2048, out_features=50257, bias=False)\n",
            ")\n",
            "True\n",
            "GPTNeoConfig {\n",
            "  \"_name_or_path\": \"EleutherAI/gpt-neo-1.3B\",\n",
            "  \"activation_function\": \"gelu_new\",\n",
            "  \"architectures\": [\n",
            "    \"GPTNeoForCausalLM\"\n",
            "  ],\n",
            "  \"attention_dropout\": 0,\n",
            "  \"attention_layers\": [\n",
            "    \"global\",\n",
            "    \"local\",\n",
            "    \"global\",\n",
            "    \"local\",\n",
            "    \"global\",\n",
            "    \"local\",\n",
            "    \"global\",\n",
            "    \"local\",\n",
            "    \"global\",\n",
            "    \"local\",\n",
            "    \"global\",\n",
            "    \"local\",\n",
            "    \"global\",\n",
            "    \"local\",\n",
            "    \"global\",\n",
            "    \"local\",\n",
            "    \"global\",\n",
            "    \"local\",\n",
            "    \"global\",\n",
            "    \"local\",\n",
            "    \"global\",\n",
            "    \"local\",\n",
            "    \"global\",\n",
            "    \"local\"\n",
            "  ],\n",
            "  \"attention_types\": [\n",
            "    [\n",
            "      [\n",
            "        \"global\",\n",
            "        \"local\"\n",
            "      ],\n",
            "      12\n",
            "    ]\n",
            "  ],\n",
            "  \"bos_token_id\": 50256,\n",
            "  \"embed_dropout\": 0,\n",
            "  \"eos_token_id\": 50256,\n",
            "  \"gradient_checkpointing\": false,\n",
            "  \"hidden_size\": 2048,\n",
            "  \"initializer_range\": 0.02,\n",
            "  \"intermediate_size\": null,\n",
            "  \"layer_norm_epsilon\": 1e-05,\n",
            "  \"max_position_embeddings\": 2048,\n",
            "  \"model_type\": \"gpt_neo\",\n",
            "  \"num_heads\": 16,\n",
            "  \"num_layers\": 24,\n",
            "  \"resid_dropout\": 0,\n",
            "  \"summary_activation\": null,\n",
            "  \"summary_first_dropout\": 0.1,\n",
            "  \"summary_proj_to_labels\": true,\n",
            "  \"summary_type\": \"cls_index\",\n",
            "  \"summary_use_proj\": true,\n",
            "  \"task_specific_params\": {\n",
            "    \"text-generation\": {\n",
            "      \"do_sample\": true,\n",
            "      \"max_length\": 50,\n",
            "      \"temperature\": 0.9\n",
            "    }\n",
            "  },\n",
            "  \"tokenizer_class\": \"GPT2Tokenizer\",\n",
            "  \"transformers_version\": \"4.27.4\",\n",
            "  \"use_cache\": true,\n",
            "  \"vocab_size\": 50257,\n",
            "  \"window_size\": 256\n",
            "}\n",
            "\n"
          ]
        }
      ],
      "source": [
        "import transformers\n",
        "import torch\n",
        "#\n",
        "# Change this to \n",
        "# model_name=\"EleutherAI/gpt-neo-125m\"\n",
        "# to avoid the large download\n",
        "#\n",
        "model_name=\"EleutherAI/gpt-neo-1.3B\"\n",
        "model = transformers.AutoModelForCausalLM.from_pretrained(model_name)\n",
        "print(model)\n",
        "print(isinstance(model, torch.nn.Module))\n",
        "print(model.config)"
      ]
    },
    {
      "cell_type": "code",
      "source": [
        "#\n",
        "# Determine device\n",
        "#\n",
        "device = \"cuda\" if torch.cuda.is_available() else \"cpu\"\n",
        "print(f\"Using device {device}\")\n",
        "model = model.to(device)"
      ],
      "metadata": {
        "id": "ZII4Nh1yVlUZ",
        "outputId": "5f406ef0-8d41-4350-be54-4da77ae81eda",
        "colab": {
          "base_uri": "https://localhost:8080/"
        }
      },
      "id": "ZII4Nh1yVlUZ",
      "execution_count": 3,
      "outputs": [
        {
          "output_type": "stream",
          "name": "stdout",
          "text": [
            "Using device cuda\n"
          ]
        }
      ]
    },
    {
      "cell_type": "markdown",
      "id": "09f91c00-61a8-4a13-bd4f-7434f255c7a1",
      "metadata": {
        "id": "09f91c00-61a8-4a13-bd4f-7434f255c7a1"
      },
      "source": [
        "Next we need a matching tokenizer which will also act as the encoder. We can generate a tokenizer using *AutoTokenizer.from_pretrained*. We will see that apart from the vocabulary and methods to encode and decode, the tokenizer also contains information on special token which in general should match that in the model configuration *model.config*."
      ]
    },
    {
      "cell_type": "code",
      "execution_count": 4,
      "id": "8dc619b2-0c5d-489c-a8c7-f7b336c4238b",
      "metadata": {
        "tags": [],
        "id": "8dc619b2-0c5d-489c-a8c7-f7b336c4238b",
        "outputId": "fc08d3fe-dd90-4706-b487-4c0245b63131",
        "colab": {
          "base_uri": "https://localhost:8080/",
          "height": 182,
          "referenced_widgets": [
            "47d9abcbf3e141c99abd0aec805c0f37",
            "6d5b72921f7d405cbb871b336afb5e8d",
            "f5998bf008e04ca2af4e7a9b48fdf121",
            "d97d4394b418441392adb0e0e52cdbd4",
            "2a09b7a9155d47cfb081697ed9321b7d",
            "2c1a29a6ad2242d6b67bd11b1883a9c0",
            "4e3c75828f224e64a6416813e7852212",
            "cf0e88deade24d3f913ec852cec22207",
            "6521f5aae2f0491c8c273db958b82eb9",
            "6bd59e12ac134594ac6f33d7e38a27b6",
            "f62a1b3bfb6049f8830bd7d4624e6bf8",
            "c48e4a889b1d42b2b9758c252cb7ef53",
            "393c27b0e6d8499788abb9d3d07ebce4",
            "958d4953ad8b424c868fb138a866aa92",
            "9cc7762dbd804e3daffc2749d539453a",
            "c5c043db31a04de2855fdd0b0186ff99",
            "0639a7101f704a51ae6bde9b0c62c7a3",
            "c0693720cb4e4fd4b6e10e6fc4b12d0a",
            "5982ec4eed5343c390ae39f6926dca53",
            "d9993b225dc54f4bb73924ee94fa19a1",
            "4b4313a460ce44a3900d2c5a56c5f51e",
            "d3279cc5e9a246ba94dee2e2ca7e0170",
            "73f465aceede48e7a8b23b01b03afda7",
            "af38c06c59b04dec87ade930303fc777",
            "0815fe6f2cc843978dfb9fb3b4435d99",
            "64bf2143630a46289029398195aedd72",
            "7fe13ca5f45d4c7c963155b8789a1616",
            "ec0213b366044a8fb692afe86d7132a6",
            "fafaf541ce20491ca6ed5a52e5c49e3b",
            "3eec52d89322461fbee617aa19d2f335",
            "71d6b7a63ce94f01bf732564895a12b4",
            "be32ef9e54a947b6842d4b8f10878fa9",
            "c85587d1a9234e35b21bda8771698dba",
            "0e50a3ed82554822af956500e8163d70",
            "a1c002855b764f64ac6ee805677ab601",
            "08acf65096014a9c9f721c9610a6ac2c",
            "7abd29f176814b1682374af8f98bf010",
            "4c7300ffed8f4157bddcfac311a7dfda",
            "27fea7b5f44f40e9a2755c6b01cbc8ff",
            "551635c93c7e45eba46d9ae1d2543d41",
            "96a06bfb838a46398ef3796223033f3e",
            "d0f606900075420eb21eb1d0027e65fe",
            "a2a4d0d803884413994f42aedda37355",
            "4f4f595657a74ea1bdc3bc46d507f8b2"
          ]
        }
      },
      "outputs": [
        {
          "output_type": "display_data",
          "data": {
            "text/plain": [
              "Downloading (…)okenizer_config.json:   0%|          | 0.00/200 [00:00<?, ?B/s]"
            ],
            "application/vnd.jupyter.widget-view+json": {
              "version_major": 2,
              "version_minor": 0,
              "model_id": "47d9abcbf3e141c99abd0aec805c0f37"
            }
          },
          "metadata": {}
        },
        {
          "output_type": "display_data",
          "data": {
            "text/plain": [
              "Downloading (…)olve/main/vocab.json:   0%|          | 0.00/798k [00:00<?, ?B/s]"
            ],
            "application/vnd.jupyter.widget-view+json": {
              "version_major": 2,
              "version_minor": 0,
              "model_id": "c48e4a889b1d42b2b9758c252cb7ef53"
            }
          },
          "metadata": {}
        },
        {
          "output_type": "display_data",
          "data": {
            "text/plain": [
              "Downloading (…)olve/main/merges.txt:   0%|          | 0.00/456k [00:00<?, ?B/s]"
            ],
            "application/vnd.jupyter.widget-view+json": {
              "version_major": 2,
              "version_minor": 0,
              "model_id": "73f465aceede48e7a8b23b01b03afda7"
            }
          },
          "metadata": {}
        },
        {
          "output_type": "display_data",
          "data": {
            "text/plain": [
              "Downloading (…)cial_tokens_map.json:   0%|          | 0.00/90.0 [00:00<?, ?B/s]"
            ],
            "application/vnd.jupyter.widget-view+json": {
              "version_major": 2,
              "version_minor": 0,
              "model_id": "0e50a3ed82554822af956500e8163d70"
            }
          },
          "metadata": {}
        },
        {
          "output_type": "stream",
          "name": "stdout",
          "text": [
            "GPT2TokenizerFast(name_or_path='EleutherAI/gpt-neo-1.3B', vocab_size=50257, model_max_length=2048, is_fast=True, padding_side='right', truncation_side='right', special_tokens={'bos_token': '<|endoftext|>', 'eos_token': '<|endoftext|>', 'unk_token': '<|endoftext|>'})\n"
          ]
        }
      ],
      "source": [
        "tokenizer = transformers.AutoTokenizer.from_pretrained(model_name)\n",
        "print(tokenizer)"
      ]
    },
    {
      "cell_type": "code",
      "execution_count": 5,
      "id": "b81cbe2f-ce4f-4c69-92e2-eea6fef5b17a",
      "metadata": {
        "tags": [],
        "id": "b81cbe2f-ce4f-4c69-92e2-eea6fef5b17a",
        "outputId": "b54d6663-07f7-4d32-b111-d06c7f78b304",
        "colab": {
          "base_uri": "https://localhost:8080/"
        }
      },
      "outputs": [
        {
          "output_type": "stream",
          "name": "stdout",
          "text": [
            "Vocabulary size: 50257\n",
            "UNK token: <|endoftext|> (ID = 50256)\n",
            "BOS token: <|endoftext|> (ID = 50256)\n",
            "EOS token: <|endoftext|> (ID = 50256)\n"
          ]
        }
      ],
      "source": [
        "print(f\"Vocabulary size: {tokenizer.vocab_size}\")\n",
        "print(f\"UNK token: {tokenizer.unk_token} (ID = {tokenizer.unk_token_id})\")\n",
        "print(f\"BOS token: {tokenizer.bos_token} (ID = {tokenizer.bos_token_id})\")\n",
        "print(f\"EOS token: {tokenizer.eos_token} (ID = {tokenizer.eos_token_id})\")"
      ]
    },
    {
      "cell_type": "code",
      "execution_count": 6,
      "id": "023134da-de3c-4013-bb31-6eb25c681a72",
      "metadata": {
        "tags": [],
        "id": "023134da-de3c-4013-bb31-6eb25c681a72",
        "outputId": "038b9e51-d97c-4f89-8958-4002d924301a",
        "colab": {
          "base_uri": "https://localhost:8080/"
        }
      },
      "outputs": [
        {
          "output_type": "stream",
          "name": "stdout",
          "text": [
            "[1212, 318, 257, 1790, 1332]\n",
            "Token ID 1212 is This\n",
            "Token ID 318 is Ġis\n",
            "Token ID 257 is Ġa\n",
            "Token ID 1790 is Ġshort\n",
            "Token ID 1332 is Ġtest\n",
            "Result of decoding: This is a short test\n",
            "{'input_ids': [1212, 318, 257, 1790, 1332], 'attention_mask': [1, 1, 1, 1, 1]}\n"
          ]
        }
      ],
      "source": [
        "test = \"This is a short test\"\n",
        "ids = tokenizer.encode(test)\n",
        "print(ids)\n",
        "for id in ids:\n",
        "    print(f\"Token ID {id} is {tokenizer.convert_ids_to_tokens(id)}\")#\n",
        "print(f\"Result of decoding: {tokenizer.decode(ids)}\")\n",
        "print(tokenizer(test))"
      ]
    },
    {
      "cell_type": "markdown",
      "id": "3338d7cd-2abb-499d-90e2-0a1c59ddbb90",
      "metadata": {
        "id": "3338d7cd-2abb-499d-90e2-0a1c59ddbb90"
      },
      "source": [
        "Knowing how to decode and encode, we can now write a simple function to continue a prompt, as we have done it for our own transformer trained on the Wikipedia data set. The only difference that we have to observe is that the output of the model is not simply the logits, but a dictionary containing the logits and the past key values (we get to this point later)."
      ]
    },
    {
      "cell_type": "code",
      "execution_count": 7,
      "id": "dc6960c1-58a0-41fa-a814-6fa8542f65bc",
      "metadata": {
        "tags": [],
        "id": "dc6960c1-58a0-41fa-a814-6fa8542f65bc",
        "outputId": "8a3f93ad-f39d-40cb-a41d-88202b7a7849",
        "colab": {
          "base_uri": "https://localhost:8080/"
        }
      },
      "outputs": [
        {
          "output_type": "stream",
          "name": "stdout",
          "text": [
            "odict_keys(['logits', 'past_key_values'])\n",
            "torch.Size([5, 50257])\n",
            "24\n",
            "torch.Size([1, 16, 5, 128])\n",
            "torch.Size([1, 16, 5, 128])\n"
          ]
        }
      ],
      "source": [
        "out = model(torch.tensor(ids).to(device))\n",
        "print(out.keys())\n",
        "print(out.logits.shape)\n",
        "#\n",
        "# Past key values is an array with one entry per layer\n",
        "# For each layer, the shape is B x H x L x head_dim\n",
        "# see https://github.com/huggingface/transformers/blob/4e9f6fc67ce6290b3ab6efe2ddb1fcfc3e554382/src/transformers/models/gpt_neo/modeling_gpt_neo.py#L230\n",
        "#\n",
        "print(len(out.past_key_values))\n",
        "print(out.past_key_values[0][0].shape) # keys\n",
        "print(out.past_key_values[0][1].shape) # values"
      ]
    },
    {
      "cell_type": "code",
      "execution_count": 8,
      "id": "fc86f222-2181-4ec6-adba-8d04eaba2be2",
      "metadata": {
        "tags": [],
        "id": "fc86f222-2181-4ec6-adba-8d04eaba2be2"
      },
      "outputs": [],
      "source": [
        "def do_p_sampling(p, p_val = 0.95):\n",
        "    #\n",
        "    # Apply top-p sampling (nucleus sampling)\n",
        "    #\n",
        "    items , indices = torch.sort(p, descending = True)    \n",
        "    _k = max((torch.cumsum(items, dim = 0) <= p_val).to(int).sum().item(), 1)\n",
        "    keep = indices[:_k]\n",
        "    _p = [p[i] for i in keep]\n",
        "    idx = torch.distributions.categorical.Categorical(probs = torch.tensor(_p)).sample().item()\n",
        "    idx = keep[idx]\n",
        "    return idx.item()\n",
        "\n",
        "    \n",
        "def predict(model, prompt, length, tokenizer, temperature = 0.7,  p_val = 0.95):\n",
        "    model.eval()\n",
        "    with torch.no_grad():\n",
        "        sample = []\n",
        "        device = next(model.parameters()).device\n",
        "        #\n",
        "        # Turn prompt into sequence of token IDs\n",
        "        # \n",
        "        encoded_prompt  = tokenizer.encode(prompt)        \n",
        "        encoded_sample = encoded_prompt\n",
        "        encoded_prompt = torch.tensor(encoded_prompt, dtype = torch.long).unsqueeze(dim = 0)\n",
        "        with torch.no_grad():\n",
        "            out = model(encoded_prompt.to(device)).logits # shape B x L x V\n",
        "            while (len(encoded_sample) < length):\n",
        "                #\n",
        "                # Sample next character from last output. Note that we need to remove the\n",
        "                # batch dimension to obtain shape (L, V) and take the last element only\n",
        "                #\n",
        "                p = torch.nn.functional.softmax(out[0, -1, :] / temperature, dim = -1)\n",
        "                #\n",
        "                # Sample new index and append to encoded sample\n",
        "                #\n",
        "                encoded_sample.append(do_p_sampling(p, p_val))\n",
        "                #\n",
        "                # Feed new sequence\n",
        "                #\n",
        "                input = torch.tensor(encoded_sample[-model.config.max_position_embeddings:], dtype=torch.long)\n",
        "                input = torch.unsqueeze(input, dim = 0)\n",
        "                out = model(input.to(device)).logits\n",
        "                print(tokenizer.decode(encoded_sample))\n",
        "\n",
        "        return tokenizer.decode(encoded_sample)\n"
      ]
    },
    {
      "cell_type": "code",
      "execution_count": 9,
      "id": "20e8eea6-6981-4b98-8ada-aefed0ed5649",
      "metadata": {
        "tags": [],
        "id": "20e8eea6-6981-4b98-8ada-aefed0ed5649",
        "outputId": "6252f204-2be7-47a8-e419-c4a90be80053",
        "colab": {
          "base_uri": "https://localhost:8080/",
          "height": 174
        }
      },
      "outputs": [
        {
          "output_type": "stream",
          "name": "stdout",
          "text": [
            "My name is Joe and I am the\n",
            "My name is Joe and I am the president\n",
            "My name is Joe and I am the president of\n",
            "My name is Joe and I am the president of the\n",
            "My name is Joe and I am the president of the online\n",
            "My name is Joe and I am the president of the online poker\n",
            "My name is Joe and I am the president of the online poker room\n",
            "My name is Joe and I am the president of the online poker room on\n"
          ]
        },
        {
          "output_type": "execute_result",
          "data": {
            "text/plain": [
              "'My name is Joe and I am the president of the online poker room on'"
            ],
            "application/vnd.google.colaboratory.intrinsic+json": {
              "type": "string"
            }
          },
          "metadata": {},
          "execution_count": 9
        }
      ],
      "source": [
        "predict(model = model, prompt = \"My name is Joe and I am\", length = 15, tokenizer = tokenizer)"
      ]
    },
    {
      "cell_type": "markdown",
      "source": [
        "Let us now try to understand the role of the past key values that are part of the output of the model. First let us do a forward pass for a short text and analyze the outputs to see that they match our expectations."
      ],
      "metadata": {
        "id": "thtYl480WVWB"
      },
      "id": "thtYl480WVWB"
    },
    {
      "cell_type": "code",
      "execution_count": 10,
      "id": "4f6631cc-29cc-4fae-9d9c-f8cf500872a6",
      "metadata": {
        "tags": [],
        "id": "4f6631cc-29cc-4fae-9d9c-f8cf500872a6",
        "outputId": "7ff9b41b-4bf8-48a3-df28-7f458ea94be4",
        "colab": {
          "base_uri": "https://localhost:8080/"
        }
      },
      "outputs": [
        {
          "output_type": "stream",
          "name": "stdout",
          "text": [
            "torch.Size([1, 4])\n"
          ]
        }
      ],
      "source": [
        "prompt = \"A long time ago\"\n",
        "encoded_prompt = tokenizer.encode(prompt)\n",
        "input_ids = torch.tensor(encoded_prompt).unsqueeze(dim = 0)\n",
        "print(input_ids.shape) # B x L where B = 1 and L = 4"
      ]
    },
    {
      "cell_type": "code",
      "execution_count": 11,
      "id": "571c93a8-f4a7-458d-86f5-837b353abfe8",
      "metadata": {
        "tags": [],
        "id": "571c93a8-f4a7-458d-86f5-837b353abfe8",
        "outputId": "b84ef7a1-cede-4671-fb1b-7f55b776aab4",
        "colab": {
          "base_uri": "https://localhost:8080/"
        }
      },
      "outputs": [
        {
          "output_type": "stream",
          "name": "stdout",
          "text": [
            "torch.Size([1, 4, 50257])\n",
            "torch.Size([1, 16, 4, 128])\n"
          ]
        }
      ],
      "source": [
        "out = model(input_ids = input_ids.to(device))\n",
        "logits = out.logits\n",
        "print(logits.shape) # B x L x V\n",
        "past_key_values = out.past_key_values\n",
        "print(past_key_values[0][0].shape) # B x H x L x head_dim "
      ]
    },
    {
      "cell_type": "markdown",
      "source": [
        "We now do two forward passes. For the first forward pass, we pass the entire sequence as inputs, as usual. For the second forward pass, we use the cached keys and values. We then compare the outputs and verify that they coincide."
      ],
      "metadata": {
        "id": "tTQs6FylWutI"
      },
      "id": "tTQs6FylWutI"
    },
    {
      "cell_type": "code",
      "execution_count": 12,
      "id": "9c2f6c46-3b76-4932-8e5b-0bd8b1f4f8be",
      "metadata": {
        "tags": [],
        "id": "9c2f6c46-3b76-4932-8e5b-0bd8b1f4f8be",
        "outputId": "4453d0f2-22d1-4f3f-ada3-7bd9b91ec0d2",
        "colab": {
          "base_uri": "https://localhost:8080/"
        }
      },
      "outputs": [
        {
          "output_type": "stream",
          "name": "stdout",
          "text": [
            "torch.Size([1, 5, 50257])\n"
          ]
        }
      ],
      "source": [
        "#\n",
        "# First append new token and run entire new sample through model. It does not matter which token we choose\n",
        "#\n",
        "encoded_sample = encoded_prompt\n",
        "new_id = tokenizer.convert_tokens_to_ids(\",\")\n",
        "encoded_sample.append(new_id)\n",
        "input_ids = torch.tensor(encoded_sample).unsqueeze(dim = 0).to(device)\n",
        "out1 = model(input_ids = input_ids)\n",
        "print(out1.logits.shape) # B x (L + 1) x V"
      ]
    },
    {
      "cell_type": "code",
      "execution_count": 13,
      "id": "33e138b6-b114-4c2b-a851-da3ecf47c42d",
      "metadata": {
        "tags": [],
        "id": "33e138b6-b114-4c2b-a851-da3ecf47c42d",
        "outputId": "f2bfb3f9-3270-4ecd-8f75-735f4493dec3",
        "colab": {
          "base_uri": "https://localhost:8080/"
        }
      },
      "outputs": [
        {
          "output_type": "stream",
          "name": "stdout",
          "text": [
            "torch.Size([1, 50257])\n",
            "torch.Size([1, 16, 5, 128])\n",
            "tensor(-9.7990, device='cuda:0', grad_fn=<SelectBackward0>)\n",
            "tensor(-9.7990, device='cuda:0', grad_fn=<SelectBackward0>)\n"
          ]
        }
      ],
      "source": [
        "#\n",
        "# Now try the same with the past key values\n",
        "#\n",
        "out2 = model(input_ids = torch.tensor(new_id).unsqueeze(dim = 0).to(device), past_key_values = past_key_values)\n",
        "print(out2.logits.shape) # B x V\n",
        "#\n",
        "# the model will be kind and return the full past keys and values again - shape B x H x (L+1) x head_dim\n",
        "# \n",
        "print(out2.past_key_values[0][0].shape) \n",
        "print(out2.logits[0, 1])\n",
        "print(out1.logits[0, -1, 1])\n",
        "V = model.config.vocab_size\n",
        "assert torch.allclose(out1.logits[0, -1, :], out2.logits[0], rtol = 1e-2), \"Logits do not match\""
      ]
    },
    {
      "cell_type": "markdown",
      "id": "76488c58-afc1-4e98-a070-d010d22d739e",
      "metadata": {
        "id": "76488c58-afc1-4e98-a070-d010d22d739e"
      },
      "source": [
        "Let us now use this pattern for a new, significantly more efficient prediction method. When you run this, you will find that the first pass through the model still takes some time, but the remaining passes are much faster and bearable, even on a CPU."
      ]
    },
    {
      "cell_type": "code",
      "execution_count": 14,
      "id": "ee1c01a5-4e78-4f72-a35d-fe6a60cdc628",
      "metadata": {
        "tags": [],
        "id": "ee1c01a5-4e78-4f72-a35d-fe6a60cdc628"
      },
      "outputs": [],
      "source": [
        "def predict(model, prompt, length, tokenizer, temperature = 0.7,  p_val = 0.95):\n",
        "    model.eval()\n",
        "    with torch.no_grad():\n",
        "        sample = []\n",
        "        device = next(model.parameters()).device\n",
        "        #\n",
        "        # Turn prompt into sequence of token IDs\n",
        "        # \n",
        "        encoded_prompt  = tokenizer.encode(prompt)        \n",
        "        encoded_sample = encoded_prompt\n",
        "        input_ids = torch.tensor(encoded_prompt, dtype = torch.long).unsqueeze(dim = 0)\n",
        "        with torch.no_grad():\n",
        "            #\n",
        "            # First forward pass- use full prompt\n",
        "            #\n",
        "            out = model(input_ids = input_ids.to(device))\n",
        "            logits = out.logits[:, -1, :] # shape B x V\n",
        "            past_key_values = out.past_key_values\n",
        "            while (len(encoded_sample) < length):\n",
        "                #\n",
        "                # Sample next character \n",
        "                #\n",
        "                p = torch.nn.functional.softmax(logits[0, :] / temperature, dim = -1)\n",
        "                #\n",
        "                # Sample new index and append to encoded sample\n",
        "                #\n",
        "                idx = do_p_sampling(p, p_val)\n",
        "                encoded_sample.append(idx)\n",
        "                #\n",
        "                # Feed new index as input_ids and cached keys and values\n",
        "                #\n",
        "                input_ids = torch.tensor(idx).unsqueeze(dim = 0)\n",
        "                out = model(input_ids = input_ids.to(device), past_key_values = past_key_values)\n",
        "                logits = out.logits\n",
        "                past_key_values = out.past_key_values\n",
        "\n",
        "        return tokenizer.decode(encoded_sample)\n"
      ]
    },
    {
      "cell_type": "code",
      "execution_count": 15,
      "id": "1e03d511-bf12-4038-b644-da84b2a4b5e2",
      "metadata": {
        "tags": [],
        "id": "1e03d511-bf12-4038-b644-da84b2a4b5e2",
        "outputId": "8a17f7b6-9de0-4903-958b-44fd411ad364",
        "colab": {
          "base_uri": "https://localhost:8080/",
          "height": 53
        }
      },
      "outputs": [
        {
          "output_type": "execute_result",
          "data": {
            "text/plain": [
              "'My name is Joe and I am a serious fan of the Wall Street Journal. I also enjoy watching baseball. I have been known to drink beer and eat hot dogs. I am a strong believer in the concept of a Christian right wing. I have'"
            ],
            "application/vnd.google.colaboratory.intrinsic+json": {
              "type": "string"
            }
          },
          "metadata": {},
          "execution_count": 15
        }
      ],
      "source": [
        "predict(model = model, prompt = \"My name is Joe and I am\", length = 50, tokenizer = tokenizer)"
      ]
    }
  ],
  "metadata": {
    "kernelspec": {
      "display_name": "MLLM",
      "language": "python",
      "name": "mllm"
    },
    "language_info": {
      "codemirror_mode": {
        "name": "ipython",
        "version": 3
      },
      "file_extension": ".py",
      "mimetype": "text/x-python",
      "name": "python",
      "nbconvert_exporter": "python",
      "pygments_lexer": "ipython3",
      "version": "3.10.6"
    },
    "colab": {
      "provenance": [],
      "gpuType": "T4"
    },
    "accelerator": "GPU",
    "widgets": {
      "application/vnd.jupyter.widget-state+json": {
        "b3b58aebbe9e4e01a5f1851f0ad5e134": {
          "model_module": "@jupyter-widgets/controls",
          "model_name": "HBoxModel",
          "model_module_version": "1.5.0",
          "state": {
            "_dom_classes": [],
            "_model_module": "@jupyter-widgets/controls",
            "_model_module_version": "1.5.0",
            "_model_name": "HBoxModel",
            "_view_count": null,
            "_view_module": "@jupyter-widgets/controls",
            "_view_module_version": "1.5.0",
            "_view_name": "HBoxView",
            "box_style": "",
            "children": [
              "IPY_MODEL_30479aa1c70c44089395803a74e2e4f1",
              "IPY_MODEL_b8d5382a6d86497ca23076ae6e91f26b",
              "IPY_MODEL_51c1fb1ae097479ba79dd99900859890"
            ],
            "layout": "IPY_MODEL_b2cfaf7bc2e6476a81d8604668449c4f"
          }
        },
        "30479aa1c70c44089395803a74e2e4f1": {
          "model_module": "@jupyter-widgets/controls",
          "model_name": "HTMLModel",
          "model_module_version": "1.5.0",
          "state": {
            "_dom_classes": [],
            "_model_module": "@jupyter-widgets/controls",
            "_model_module_version": "1.5.0",
            "_model_name": "HTMLModel",
            "_view_count": null,
            "_view_module": "@jupyter-widgets/controls",
            "_view_module_version": "1.5.0",
            "_view_name": "HTMLView",
            "description": "",
            "description_tooltip": null,
            "layout": "IPY_MODEL_d625dd0668cb4591bc9665eec65cae67",
            "placeholder": "​",
            "style": "IPY_MODEL_2a1c5b3bb8da44429f5cdbaf20fedc12",
            "value": "Downloading pytorch_model.bin: 100%"
          }
        },
        "b8d5382a6d86497ca23076ae6e91f26b": {
          "model_module": "@jupyter-widgets/controls",
          "model_name": "FloatProgressModel",
          "model_module_version": "1.5.0",
          "state": {
            "_dom_classes": [],
            "_model_module": "@jupyter-widgets/controls",
            "_model_module_version": "1.5.0",
            "_model_name": "FloatProgressModel",
            "_view_count": null,
            "_view_module": "@jupyter-widgets/controls",
            "_view_module_version": "1.5.0",
            "_view_name": "ProgressView",
            "bar_style": "success",
            "description": "",
            "description_tooltip": null,
            "layout": "IPY_MODEL_82171d3f6aa542b08625706001e1056c",
            "max": 5312753599,
            "min": 0,
            "orientation": "horizontal",
            "style": "IPY_MODEL_14775083d95645168913aa13be6bfd84",
            "value": 5312753599
          }
        },
        "51c1fb1ae097479ba79dd99900859890": {
          "model_module": "@jupyter-widgets/controls",
          "model_name": "HTMLModel",
          "model_module_version": "1.5.0",
          "state": {
            "_dom_classes": [],
            "_model_module": "@jupyter-widgets/controls",
            "_model_module_version": "1.5.0",
            "_model_name": "HTMLModel",
            "_view_count": null,
            "_view_module": "@jupyter-widgets/controls",
            "_view_module_version": "1.5.0",
            "_view_name": "HTMLView",
            "description": "",
            "description_tooltip": null,
            "layout": "IPY_MODEL_3d891772c99a4142ad06e59fbecaca61",
            "placeholder": "​",
            "style": "IPY_MODEL_ba5bab42985c4367ab2d5e490ffb8077",
            "value": " 5.31G/5.31G [14:25&lt;00:00, 8.68MB/s]"
          }
        },
        "b2cfaf7bc2e6476a81d8604668449c4f": {
          "model_module": "@jupyter-widgets/base",
          "model_name": "LayoutModel",
          "model_module_version": "1.2.0",
          "state": {
            "_model_module": "@jupyter-widgets/base",
            "_model_module_version": "1.2.0",
            "_model_name": "LayoutModel",
            "_view_count": null,
            "_view_module": "@jupyter-widgets/base",
            "_view_module_version": "1.2.0",
            "_view_name": "LayoutView",
            "align_content": null,
            "align_items": null,
            "align_self": null,
            "border": null,
            "bottom": null,
            "display": null,
            "flex": null,
            "flex_flow": null,
            "grid_area": null,
            "grid_auto_columns": null,
            "grid_auto_flow": null,
            "grid_auto_rows": null,
            "grid_column": null,
            "grid_gap": null,
            "grid_row": null,
            "grid_template_areas": null,
            "grid_template_columns": null,
            "grid_template_rows": null,
            "height": null,
            "justify_content": null,
            "justify_items": null,
            "left": null,
            "margin": null,
            "max_height": null,
            "max_width": null,
            "min_height": null,
            "min_width": null,
            "object_fit": null,
            "object_position": null,
            "order": null,
            "overflow": null,
            "overflow_x": null,
            "overflow_y": null,
            "padding": null,
            "right": null,
            "top": null,
            "visibility": null,
            "width": null
          }
        },
        "d625dd0668cb4591bc9665eec65cae67": {
          "model_module": "@jupyter-widgets/base",
          "model_name": "LayoutModel",
          "model_module_version": "1.2.0",
          "state": {
            "_model_module": "@jupyter-widgets/base",
            "_model_module_version": "1.2.0",
            "_model_name": "LayoutModel",
            "_view_count": null,
            "_view_module": "@jupyter-widgets/base",
            "_view_module_version": "1.2.0",
            "_view_name": "LayoutView",
            "align_content": null,
            "align_items": null,
            "align_self": null,
            "border": null,
            "bottom": null,
            "display": null,
            "flex": null,
            "flex_flow": null,
            "grid_area": null,
            "grid_auto_columns": null,
            "grid_auto_flow": null,
            "grid_auto_rows": null,
            "grid_column": null,
            "grid_gap": null,
            "grid_row": null,
            "grid_template_areas": null,
            "grid_template_columns": null,
            "grid_template_rows": null,
            "height": null,
            "justify_content": null,
            "justify_items": null,
            "left": null,
            "margin": null,
            "max_height": null,
            "max_width": null,
            "min_height": null,
            "min_width": null,
            "object_fit": null,
            "object_position": null,
            "order": null,
            "overflow": null,
            "overflow_x": null,
            "overflow_y": null,
            "padding": null,
            "right": null,
            "top": null,
            "visibility": null,
            "width": null
          }
        },
        "2a1c5b3bb8da44429f5cdbaf20fedc12": {
          "model_module": "@jupyter-widgets/controls",
          "model_name": "DescriptionStyleModel",
          "model_module_version": "1.5.0",
          "state": {
            "_model_module": "@jupyter-widgets/controls",
            "_model_module_version": "1.5.0",
            "_model_name": "DescriptionStyleModel",
            "_view_count": null,
            "_view_module": "@jupyter-widgets/base",
            "_view_module_version": "1.2.0",
            "_view_name": "StyleView",
            "description_width": ""
          }
        },
        "82171d3f6aa542b08625706001e1056c": {
          "model_module": "@jupyter-widgets/base",
          "model_name": "LayoutModel",
          "model_module_version": "1.2.0",
          "state": {
            "_model_module": "@jupyter-widgets/base",
            "_model_module_version": "1.2.0",
            "_model_name": "LayoutModel",
            "_view_count": null,
            "_view_module": "@jupyter-widgets/base",
            "_view_module_version": "1.2.0",
            "_view_name": "LayoutView",
            "align_content": null,
            "align_items": null,
            "align_self": null,
            "border": null,
            "bottom": null,
            "display": null,
            "flex": null,
            "flex_flow": null,
            "grid_area": null,
            "grid_auto_columns": null,
            "grid_auto_flow": null,
            "grid_auto_rows": null,
            "grid_column": null,
            "grid_gap": null,
            "grid_row": null,
            "grid_template_areas": null,
            "grid_template_columns": null,
            "grid_template_rows": null,
            "height": null,
            "justify_content": null,
            "justify_items": null,
            "left": null,
            "margin": null,
            "max_height": null,
            "max_width": null,
            "min_height": null,
            "min_width": null,
            "object_fit": null,
            "object_position": null,
            "order": null,
            "overflow": null,
            "overflow_x": null,
            "overflow_y": null,
            "padding": null,
            "right": null,
            "top": null,
            "visibility": null,
            "width": null
          }
        },
        "14775083d95645168913aa13be6bfd84": {
          "model_module": "@jupyter-widgets/controls",
          "model_name": "ProgressStyleModel",
          "model_module_version": "1.5.0",
          "state": {
            "_model_module": "@jupyter-widgets/controls",
            "_model_module_version": "1.5.0",
            "_model_name": "ProgressStyleModel",
            "_view_count": null,
            "_view_module": "@jupyter-widgets/base",
            "_view_module_version": "1.2.0",
            "_view_name": "StyleView",
            "bar_color": null,
            "description_width": ""
          }
        },
        "3d891772c99a4142ad06e59fbecaca61": {
          "model_module": "@jupyter-widgets/base",
          "model_name": "LayoutModel",
          "model_module_version": "1.2.0",
          "state": {
            "_model_module": "@jupyter-widgets/base",
            "_model_module_version": "1.2.0",
            "_model_name": "LayoutModel",
            "_view_count": null,
            "_view_module": "@jupyter-widgets/base",
            "_view_module_version": "1.2.0",
            "_view_name": "LayoutView",
            "align_content": null,
            "align_items": null,
            "align_self": null,
            "border": null,
            "bottom": null,
            "display": null,
            "flex": null,
            "flex_flow": null,
            "grid_area": null,
            "grid_auto_columns": null,
            "grid_auto_flow": null,
            "grid_auto_rows": null,
            "grid_column": null,
            "grid_gap": null,
            "grid_row": null,
            "grid_template_areas": null,
            "grid_template_columns": null,
            "grid_template_rows": null,
            "height": null,
            "justify_content": null,
            "justify_items": null,
            "left": null,
            "margin": null,
            "max_height": null,
            "max_width": null,
            "min_height": null,
            "min_width": null,
            "object_fit": null,
            "object_position": null,
            "order": null,
            "overflow": null,
            "overflow_x": null,
            "overflow_y": null,
            "padding": null,
            "right": null,
            "top": null,
            "visibility": null,
            "width": null
          }
        },
        "ba5bab42985c4367ab2d5e490ffb8077": {
          "model_module": "@jupyter-widgets/controls",
          "model_name": "DescriptionStyleModel",
          "model_module_version": "1.5.0",
          "state": {
            "_model_module": "@jupyter-widgets/controls",
            "_model_module_version": "1.5.0",
            "_model_name": "DescriptionStyleModel",
            "_view_count": null,
            "_view_module": "@jupyter-widgets/base",
            "_view_module_version": "1.2.0",
            "_view_name": "StyleView",
            "description_width": ""
          }
        },
        "47d9abcbf3e141c99abd0aec805c0f37": {
          "model_module": "@jupyter-widgets/controls",
          "model_name": "HBoxModel",
          "model_module_version": "1.5.0",
          "state": {
            "_dom_classes": [],
            "_model_module": "@jupyter-widgets/controls",
            "_model_module_version": "1.5.0",
            "_model_name": "HBoxModel",
            "_view_count": null,
            "_view_module": "@jupyter-widgets/controls",
            "_view_module_version": "1.5.0",
            "_view_name": "HBoxView",
            "box_style": "",
            "children": [
              "IPY_MODEL_6d5b72921f7d405cbb871b336afb5e8d",
              "IPY_MODEL_f5998bf008e04ca2af4e7a9b48fdf121",
              "IPY_MODEL_d97d4394b418441392adb0e0e52cdbd4"
            ],
            "layout": "IPY_MODEL_2a09b7a9155d47cfb081697ed9321b7d"
          }
        },
        "6d5b72921f7d405cbb871b336afb5e8d": {
          "model_module": "@jupyter-widgets/controls",
          "model_name": "HTMLModel",
          "model_module_version": "1.5.0",
          "state": {
            "_dom_classes": [],
            "_model_module": "@jupyter-widgets/controls",
            "_model_module_version": "1.5.0",
            "_model_name": "HTMLModel",
            "_view_count": null,
            "_view_module": "@jupyter-widgets/controls",
            "_view_module_version": "1.5.0",
            "_view_name": "HTMLView",
            "description": "",
            "description_tooltip": null,
            "layout": "IPY_MODEL_2c1a29a6ad2242d6b67bd11b1883a9c0",
            "placeholder": "​",
            "style": "IPY_MODEL_4e3c75828f224e64a6416813e7852212",
            "value": "Downloading (…)okenizer_config.json: 100%"
          }
        },
        "f5998bf008e04ca2af4e7a9b48fdf121": {
          "model_module": "@jupyter-widgets/controls",
          "model_name": "FloatProgressModel",
          "model_module_version": "1.5.0",
          "state": {
            "_dom_classes": [],
            "_model_module": "@jupyter-widgets/controls",
            "_model_module_version": "1.5.0",
            "_model_name": "FloatProgressModel",
            "_view_count": null,
            "_view_module": "@jupyter-widgets/controls",
            "_view_module_version": "1.5.0",
            "_view_name": "ProgressView",
            "bar_style": "success",
            "description": "",
            "description_tooltip": null,
            "layout": "IPY_MODEL_cf0e88deade24d3f913ec852cec22207",
            "max": 200,
            "min": 0,
            "orientation": "horizontal",
            "style": "IPY_MODEL_6521f5aae2f0491c8c273db958b82eb9",
            "value": 200
          }
        },
        "d97d4394b418441392adb0e0e52cdbd4": {
          "model_module": "@jupyter-widgets/controls",
          "model_name": "HTMLModel",
          "model_module_version": "1.5.0",
          "state": {
            "_dom_classes": [],
            "_model_module": "@jupyter-widgets/controls",
            "_model_module_version": "1.5.0",
            "_model_name": "HTMLModel",
            "_view_count": null,
            "_view_module": "@jupyter-widgets/controls",
            "_view_module_version": "1.5.0",
            "_view_name": "HTMLView",
            "description": "",
            "description_tooltip": null,
            "layout": "IPY_MODEL_6bd59e12ac134594ac6f33d7e38a27b6",
            "placeholder": "​",
            "style": "IPY_MODEL_f62a1b3bfb6049f8830bd7d4624e6bf8",
            "value": " 200/200 [00:00&lt;00:00, 11.6kB/s]"
          }
        },
        "2a09b7a9155d47cfb081697ed9321b7d": {
          "model_module": "@jupyter-widgets/base",
          "model_name": "LayoutModel",
          "model_module_version": "1.2.0",
          "state": {
            "_model_module": "@jupyter-widgets/base",
            "_model_module_version": "1.2.0",
            "_model_name": "LayoutModel",
            "_view_count": null,
            "_view_module": "@jupyter-widgets/base",
            "_view_module_version": "1.2.0",
            "_view_name": "LayoutView",
            "align_content": null,
            "align_items": null,
            "align_self": null,
            "border": null,
            "bottom": null,
            "display": null,
            "flex": null,
            "flex_flow": null,
            "grid_area": null,
            "grid_auto_columns": null,
            "grid_auto_flow": null,
            "grid_auto_rows": null,
            "grid_column": null,
            "grid_gap": null,
            "grid_row": null,
            "grid_template_areas": null,
            "grid_template_columns": null,
            "grid_template_rows": null,
            "height": null,
            "justify_content": null,
            "justify_items": null,
            "left": null,
            "margin": null,
            "max_height": null,
            "max_width": null,
            "min_height": null,
            "min_width": null,
            "object_fit": null,
            "object_position": null,
            "order": null,
            "overflow": null,
            "overflow_x": null,
            "overflow_y": null,
            "padding": null,
            "right": null,
            "top": null,
            "visibility": null,
            "width": null
          }
        },
        "2c1a29a6ad2242d6b67bd11b1883a9c0": {
          "model_module": "@jupyter-widgets/base",
          "model_name": "LayoutModel",
          "model_module_version": "1.2.0",
          "state": {
            "_model_module": "@jupyter-widgets/base",
            "_model_module_version": "1.2.0",
            "_model_name": "LayoutModel",
            "_view_count": null,
            "_view_module": "@jupyter-widgets/base",
            "_view_module_version": "1.2.0",
            "_view_name": "LayoutView",
            "align_content": null,
            "align_items": null,
            "align_self": null,
            "border": null,
            "bottom": null,
            "display": null,
            "flex": null,
            "flex_flow": null,
            "grid_area": null,
            "grid_auto_columns": null,
            "grid_auto_flow": null,
            "grid_auto_rows": null,
            "grid_column": null,
            "grid_gap": null,
            "grid_row": null,
            "grid_template_areas": null,
            "grid_template_columns": null,
            "grid_template_rows": null,
            "height": null,
            "justify_content": null,
            "justify_items": null,
            "left": null,
            "margin": null,
            "max_height": null,
            "max_width": null,
            "min_height": null,
            "min_width": null,
            "object_fit": null,
            "object_position": null,
            "order": null,
            "overflow": null,
            "overflow_x": null,
            "overflow_y": null,
            "padding": null,
            "right": null,
            "top": null,
            "visibility": null,
            "width": null
          }
        },
        "4e3c75828f224e64a6416813e7852212": {
          "model_module": "@jupyter-widgets/controls",
          "model_name": "DescriptionStyleModel",
          "model_module_version": "1.5.0",
          "state": {
            "_model_module": "@jupyter-widgets/controls",
            "_model_module_version": "1.5.0",
            "_model_name": "DescriptionStyleModel",
            "_view_count": null,
            "_view_module": "@jupyter-widgets/base",
            "_view_module_version": "1.2.0",
            "_view_name": "StyleView",
            "description_width": ""
          }
        },
        "cf0e88deade24d3f913ec852cec22207": {
          "model_module": "@jupyter-widgets/base",
          "model_name": "LayoutModel",
          "model_module_version": "1.2.0",
          "state": {
            "_model_module": "@jupyter-widgets/base",
            "_model_module_version": "1.2.0",
            "_model_name": "LayoutModel",
            "_view_count": null,
            "_view_module": "@jupyter-widgets/base",
            "_view_module_version": "1.2.0",
            "_view_name": "LayoutView",
            "align_content": null,
            "align_items": null,
            "align_self": null,
            "border": null,
            "bottom": null,
            "display": null,
            "flex": null,
            "flex_flow": null,
            "grid_area": null,
            "grid_auto_columns": null,
            "grid_auto_flow": null,
            "grid_auto_rows": null,
            "grid_column": null,
            "grid_gap": null,
            "grid_row": null,
            "grid_template_areas": null,
            "grid_template_columns": null,
            "grid_template_rows": null,
            "height": null,
            "justify_content": null,
            "justify_items": null,
            "left": null,
            "margin": null,
            "max_height": null,
            "max_width": null,
            "min_height": null,
            "min_width": null,
            "object_fit": null,
            "object_position": null,
            "order": null,
            "overflow": null,
            "overflow_x": null,
            "overflow_y": null,
            "padding": null,
            "right": null,
            "top": null,
            "visibility": null,
            "width": null
          }
        },
        "6521f5aae2f0491c8c273db958b82eb9": {
          "model_module": "@jupyter-widgets/controls",
          "model_name": "ProgressStyleModel",
          "model_module_version": "1.5.0",
          "state": {
            "_model_module": "@jupyter-widgets/controls",
            "_model_module_version": "1.5.0",
            "_model_name": "ProgressStyleModel",
            "_view_count": null,
            "_view_module": "@jupyter-widgets/base",
            "_view_module_version": "1.2.0",
            "_view_name": "StyleView",
            "bar_color": null,
            "description_width": ""
          }
        },
        "6bd59e12ac134594ac6f33d7e38a27b6": {
          "model_module": "@jupyter-widgets/base",
          "model_name": "LayoutModel",
          "model_module_version": "1.2.0",
          "state": {
            "_model_module": "@jupyter-widgets/base",
            "_model_module_version": "1.2.0",
            "_model_name": "LayoutModel",
            "_view_count": null,
            "_view_module": "@jupyter-widgets/base",
            "_view_module_version": "1.2.0",
            "_view_name": "LayoutView",
            "align_content": null,
            "align_items": null,
            "align_self": null,
            "border": null,
            "bottom": null,
            "display": null,
            "flex": null,
            "flex_flow": null,
            "grid_area": null,
            "grid_auto_columns": null,
            "grid_auto_flow": null,
            "grid_auto_rows": null,
            "grid_column": null,
            "grid_gap": null,
            "grid_row": null,
            "grid_template_areas": null,
            "grid_template_columns": null,
            "grid_template_rows": null,
            "height": null,
            "justify_content": null,
            "justify_items": null,
            "left": null,
            "margin": null,
            "max_height": null,
            "max_width": null,
            "min_height": null,
            "min_width": null,
            "object_fit": null,
            "object_position": null,
            "order": null,
            "overflow": null,
            "overflow_x": null,
            "overflow_y": null,
            "padding": null,
            "right": null,
            "top": null,
            "visibility": null,
            "width": null
          }
        },
        "f62a1b3bfb6049f8830bd7d4624e6bf8": {
          "model_module": "@jupyter-widgets/controls",
          "model_name": "DescriptionStyleModel",
          "model_module_version": "1.5.0",
          "state": {
            "_model_module": "@jupyter-widgets/controls",
            "_model_module_version": "1.5.0",
            "_model_name": "DescriptionStyleModel",
            "_view_count": null,
            "_view_module": "@jupyter-widgets/base",
            "_view_module_version": "1.2.0",
            "_view_name": "StyleView",
            "description_width": ""
          }
        },
        "c48e4a889b1d42b2b9758c252cb7ef53": {
          "model_module": "@jupyter-widgets/controls",
          "model_name": "HBoxModel",
          "model_module_version": "1.5.0",
          "state": {
            "_dom_classes": [],
            "_model_module": "@jupyter-widgets/controls",
            "_model_module_version": "1.5.0",
            "_model_name": "HBoxModel",
            "_view_count": null,
            "_view_module": "@jupyter-widgets/controls",
            "_view_module_version": "1.5.0",
            "_view_name": "HBoxView",
            "box_style": "",
            "children": [
              "IPY_MODEL_393c27b0e6d8499788abb9d3d07ebce4",
              "IPY_MODEL_958d4953ad8b424c868fb138a866aa92",
              "IPY_MODEL_9cc7762dbd804e3daffc2749d539453a"
            ],
            "layout": "IPY_MODEL_c5c043db31a04de2855fdd0b0186ff99"
          }
        },
        "393c27b0e6d8499788abb9d3d07ebce4": {
          "model_module": "@jupyter-widgets/controls",
          "model_name": "HTMLModel",
          "model_module_version": "1.5.0",
          "state": {
            "_dom_classes": [],
            "_model_module": "@jupyter-widgets/controls",
            "_model_module_version": "1.5.0",
            "_model_name": "HTMLModel",
            "_view_count": null,
            "_view_module": "@jupyter-widgets/controls",
            "_view_module_version": "1.5.0",
            "_view_name": "HTMLView",
            "description": "",
            "description_tooltip": null,
            "layout": "IPY_MODEL_0639a7101f704a51ae6bde9b0c62c7a3",
            "placeholder": "​",
            "style": "IPY_MODEL_c0693720cb4e4fd4b6e10e6fc4b12d0a",
            "value": "Downloading (…)olve/main/vocab.json: 100%"
          }
        },
        "958d4953ad8b424c868fb138a866aa92": {
          "model_module": "@jupyter-widgets/controls",
          "model_name": "FloatProgressModel",
          "model_module_version": "1.5.0",
          "state": {
            "_dom_classes": [],
            "_model_module": "@jupyter-widgets/controls",
            "_model_module_version": "1.5.0",
            "_model_name": "FloatProgressModel",
            "_view_count": null,
            "_view_module": "@jupyter-widgets/controls",
            "_view_module_version": "1.5.0",
            "_view_name": "ProgressView",
            "bar_style": "success",
            "description": "",
            "description_tooltip": null,
            "layout": "IPY_MODEL_5982ec4eed5343c390ae39f6926dca53",
            "max": 798156,
            "min": 0,
            "orientation": "horizontal",
            "style": "IPY_MODEL_d9993b225dc54f4bb73924ee94fa19a1",
            "value": 798156
          }
        },
        "9cc7762dbd804e3daffc2749d539453a": {
          "model_module": "@jupyter-widgets/controls",
          "model_name": "HTMLModel",
          "model_module_version": "1.5.0",
          "state": {
            "_dom_classes": [],
            "_model_module": "@jupyter-widgets/controls",
            "_model_module_version": "1.5.0",
            "_model_name": "HTMLModel",
            "_view_count": null,
            "_view_module": "@jupyter-widgets/controls",
            "_view_module_version": "1.5.0",
            "_view_name": "HTMLView",
            "description": "",
            "description_tooltip": null,
            "layout": "IPY_MODEL_4b4313a460ce44a3900d2c5a56c5f51e",
            "placeholder": "​",
            "style": "IPY_MODEL_d3279cc5e9a246ba94dee2e2ca7e0170",
            "value": " 798k/798k [00:00&lt;00:00, 1.27MB/s]"
          }
        },
        "c5c043db31a04de2855fdd0b0186ff99": {
          "model_module": "@jupyter-widgets/base",
          "model_name": "LayoutModel",
          "model_module_version": "1.2.0",
          "state": {
            "_model_module": "@jupyter-widgets/base",
            "_model_module_version": "1.2.0",
            "_model_name": "LayoutModel",
            "_view_count": null,
            "_view_module": "@jupyter-widgets/base",
            "_view_module_version": "1.2.0",
            "_view_name": "LayoutView",
            "align_content": null,
            "align_items": null,
            "align_self": null,
            "border": null,
            "bottom": null,
            "display": null,
            "flex": null,
            "flex_flow": null,
            "grid_area": null,
            "grid_auto_columns": null,
            "grid_auto_flow": null,
            "grid_auto_rows": null,
            "grid_column": null,
            "grid_gap": null,
            "grid_row": null,
            "grid_template_areas": null,
            "grid_template_columns": null,
            "grid_template_rows": null,
            "height": null,
            "justify_content": null,
            "justify_items": null,
            "left": null,
            "margin": null,
            "max_height": null,
            "max_width": null,
            "min_height": null,
            "min_width": null,
            "object_fit": null,
            "object_position": null,
            "order": null,
            "overflow": null,
            "overflow_x": null,
            "overflow_y": null,
            "padding": null,
            "right": null,
            "top": null,
            "visibility": null,
            "width": null
          }
        },
        "0639a7101f704a51ae6bde9b0c62c7a3": {
          "model_module": "@jupyter-widgets/base",
          "model_name": "LayoutModel",
          "model_module_version": "1.2.0",
          "state": {
            "_model_module": "@jupyter-widgets/base",
            "_model_module_version": "1.2.0",
            "_model_name": "LayoutModel",
            "_view_count": null,
            "_view_module": "@jupyter-widgets/base",
            "_view_module_version": "1.2.0",
            "_view_name": "LayoutView",
            "align_content": null,
            "align_items": null,
            "align_self": null,
            "border": null,
            "bottom": null,
            "display": null,
            "flex": null,
            "flex_flow": null,
            "grid_area": null,
            "grid_auto_columns": null,
            "grid_auto_flow": null,
            "grid_auto_rows": null,
            "grid_column": null,
            "grid_gap": null,
            "grid_row": null,
            "grid_template_areas": null,
            "grid_template_columns": null,
            "grid_template_rows": null,
            "height": null,
            "justify_content": null,
            "justify_items": null,
            "left": null,
            "margin": null,
            "max_height": null,
            "max_width": null,
            "min_height": null,
            "min_width": null,
            "object_fit": null,
            "object_position": null,
            "order": null,
            "overflow": null,
            "overflow_x": null,
            "overflow_y": null,
            "padding": null,
            "right": null,
            "top": null,
            "visibility": null,
            "width": null
          }
        },
        "c0693720cb4e4fd4b6e10e6fc4b12d0a": {
          "model_module": "@jupyter-widgets/controls",
          "model_name": "DescriptionStyleModel",
          "model_module_version": "1.5.0",
          "state": {
            "_model_module": "@jupyter-widgets/controls",
            "_model_module_version": "1.5.0",
            "_model_name": "DescriptionStyleModel",
            "_view_count": null,
            "_view_module": "@jupyter-widgets/base",
            "_view_module_version": "1.2.0",
            "_view_name": "StyleView",
            "description_width": ""
          }
        },
        "5982ec4eed5343c390ae39f6926dca53": {
          "model_module": "@jupyter-widgets/base",
          "model_name": "LayoutModel",
          "model_module_version": "1.2.0",
          "state": {
            "_model_module": "@jupyter-widgets/base",
            "_model_module_version": "1.2.0",
            "_model_name": "LayoutModel",
            "_view_count": null,
            "_view_module": "@jupyter-widgets/base",
            "_view_module_version": "1.2.0",
            "_view_name": "LayoutView",
            "align_content": null,
            "align_items": null,
            "align_self": null,
            "border": null,
            "bottom": null,
            "display": null,
            "flex": null,
            "flex_flow": null,
            "grid_area": null,
            "grid_auto_columns": null,
            "grid_auto_flow": null,
            "grid_auto_rows": null,
            "grid_column": null,
            "grid_gap": null,
            "grid_row": null,
            "grid_template_areas": null,
            "grid_template_columns": null,
            "grid_template_rows": null,
            "height": null,
            "justify_content": null,
            "justify_items": null,
            "left": null,
            "margin": null,
            "max_height": null,
            "max_width": null,
            "min_height": null,
            "min_width": null,
            "object_fit": null,
            "object_position": null,
            "order": null,
            "overflow": null,
            "overflow_x": null,
            "overflow_y": null,
            "padding": null,
            "right": null,
            "top": null,
            "visibility": null,
            "width": null
          }
        },
        "d9993b225dc54f4bb73924ee94fa19a1": {
          "model_module": "@jupyter-widgets/controls",
          "model_name": "ProgressStyleModel",
          "model_module_version": "1.5.0",
          "state": {
            "_model_module": "@jupyter-widgets/controls",
            "_model_module_version": "1.5.0",
            "_model_name": "ProgressStyleModel",
            "_view_count": null,
            "_view_module": "@jupyter-widgets/base",
            "_view_module_version": "1.2.0",
            "_view_name": "StyleView",
            "bar_color": null,
            "description_width": ""
          }
        },
        "4b4313a460ce44a3900d2c5a56c5f51e": {
          "model_module": "@jupyter-widgets/base",
          "model_name": "LayoutModel",
          "model_module_version": "1.2.0",
          "state": {
            "_model_module": "@jupyter-widgets/base",
            "_model_module_version": "1.2.0",
            "_model_name": "LayoutModel",
            "_view_count": null,
            "_view_module": "@jupyter-widgets/base",
            "_view_module_version": "1.2.0",
            "_view_name": "LayoutView",
            "align_content": null,
            "align_items": null,
            "align_self": null,
            "border": null,
            "bottom": null,
            "display": null,
            "flex": null,
            "flex_flow": null,
            "grid_area": null,
            "grid_auto_columns": null,
            "grid_auto_flow": null,
            "grid_auto_rows": null,
            "grid_column": null,
            "grid_gap": null,
            "grid_row": null,
            "grid_template_areas": null,
            "grid_template_columns": null,
            "grid_template_rows": null,
            "height": null,
            "justify_content": null,
            "justify_items": null,
            "left": null,
            "margin": null,
            "max_height": null,
            "max_width": null,
            "min_height": null,
            "min_width": null,
            "object_fit": null,
            "object_position": null,
            "order": null,
            "overflow": null,
            "overflow_x": null,
            "overflow_y": null,
            "padding": null,
            "right": null,
            "top": null,
            "visibility": null,
            "width": null
          }
        },
        "d3279cc5e9a246ba94dee2e2ca7e0170": {
          "model_module": "@jupyter-widgets/controls",
          "model_name": "DescriptionStyleModel",
          "model_module_version": "1.5.0",
          "state": {
            "_model_module": "@jupyter-widgets/controls",
            "_model_module_version": "1.5.0",
            "_model_name": "DescriptionStyleModel",
            "_view_count": null,
            "_view_module": "@jupyter-widgets/base",
            "_view_module_version": "1.2.0",
            "_view_name": "StyleView",
            "description_width": ""
          }
        },
        "73f465aceede48e7a8b23b01b03afda7": {
          "model_module": "@jupyter-widgets/controls",
          "model_name": "HBoxModel",
          "model_module_version": "1.5.0",
          "state": {
            "_dom_classes": [],
            "_model_module": "@jupyter-widgets/controls",
            "_model_module_version": "1.5.0",
            "_model_name": "HBoxModel",
            "_view_count": null,
            "_view_module": "@jupyter-widgets/controls",
            "_view_module_version": "1.5.0",
            "_view_name": "HBoxView",
            "box_style": "",
            "children": [
              "IPY_MODEL_af38c06c59b04dec87ade930303fc777",
              "IPY_MODEL_0815fe6f2cc843978dfb9fb3b4435d99",
              "IPY_MODEL_64bf2143630a46289029398195aedd72"
            ],
            "layout": "IPY_MODEL_7fe13ca5f45d4c7c963155b8789a1616"
          }
        },
        "af38c06c59b04dec87ade930303fc777": {
          "model_module": "@jupyter-widgets/controls",
          "model_name": "HTMLModel",
          "model_module_version": "1.5.0",
          "state": {
            "_dom_classes": [],
            "_model_module": "@jupyter-widgets/controls",
            "_model_module_version": "1.5.0",
            "_model_name": "HTMLModel",
            "_view_count": null,
            "_view_module": "@jupyter-widgets/controls",
            "_view_module_version": "1.5.0",
            "_view_name": "HTMLView",
            "description": "",
            "description_tooltip": null,
            "layout": "IPY_MODEL_ec0213b366044a8fb692afe86d7132a6",
            "placeholder": "​",
            "style": "IPY_MODEL_fafaf541ce20491ca6ed5a52e5c49e3b",
            "value": "Downloading (…)olve/main/merges.txt: 100%"
          }
        },
        "0815fe6f2cc843978dfb9fb3b4435d99": {
          "model_module": "@jupyter-widgets/controls",
          "model_name": "FloatProgressModel",
          "model_module_version": "1.5.0",
          "state": {
            "_dom_classes": [],
            "_model_module": "@jupyter-widgets/controls",
            "_model_module_version": "1.5.0",
            "_model_name": "FloatProgressModel",
            "_view_count": null,
            "_view_module": "@jupyter-widgets/controls",
            "_view_module_version": "1.5.0",
            "_view_name": "ProgressView",
            "bar_style": "success",
            "description": "",
            "description_tooltip": null,
            "layout": "IPY_MODEL_3eec52d89322461fbee617aa19d2f335",
            "max": 456356,
            "min": 0,
            "orientation": "horizontal",
            "style": "IPY_MODEL_71d6b7a63ce94f01bf732564895a12b4",
            "value": 456356
          }
        },
        "64bf2143630a46289029398195aedd72": {
          "model_module": "@jupyter-widgets/controls",
          "model_name": "HTMLModel",
          "model_module_version": "1.5.0",
          "state": {
            "_dom_classes": [],
            "_model_module": "@jupyter-widgets/controls",
            "_model_module_version": "1.5.0",
            "_model_name": "HTMLModel",
            "_view_count": null,
            "_view_module": "@jupyter-widgets/controls",
            "_view_module_version": "1.5.0",
            "_view_name": "HTMLView",
            "description": "",
            "description_tooltip": null,
            "layout": "IPY_MODEL_be32ef9e54a947b6842d4b8f10878fa9",
            "placeholder": "​",
            "style": "IPY_MODEL_c85587d1a9234e35b21bda8771698dba",
            "value": " 456k/456k [00:00&lt;00:00, 27.9MB/s]"
          }
        },
        "7fe13ca5f45d4c7c963155b8789a1616": {
          "model_module": "@jupyter-widgets/base",
          "model_name": "LayoutModel",
          "model_module_version": "1.2.0",
          "state": {
            "_model_module": "@jupyter-widgets/base",
            "_model_module_version": "1.2.0",
            "_model_name": "LayoutModel",
            "_view_count": null,
            "_view_module": "@jupyter-widgets/base",
            "_view_module_version": "1.2.0",
            "_view_name": "LayoutView",
            "align_content": null,
            "align_items": null,
            "align_self": null,
            "border": null,
            "bottom": null,
            "display": null,
            "flex": null,
            "flex_flow": null,
            "grid_area": null,
            "grid_auto_columns": null,
            "grid_auto_flow": null,
            "grid_auto_rows": null,
            "grid_column": null,
            "grid_gap": null,
            "grid_row": null,
            "grid_template_areas": null,
            "grid_template_columns": null,
            "grid_template_rows": null,
            "height": null,
            "justify_content": null,
            "justify_items": null,
            "left": null,
            "margin": null,
            "max_height": null,
            "max_width": null,
            "min_height": null,
            "min_width": null,
            "object_fit": null,
            "object_position": null,
            "order": null,
            "overflow": null,
            "overflow_x": null,
            "overflow_y": null,
            "padding": null,
            "right": null,
            "top": null,
            "visibility": null,
            "width": null
          }
        },
        "ec0213b366044a8fb692afe86d7132a6": {
          "model_module": "@jupyter-widgets/base",
          "model_name": "LayoutModel",
          "model_module_version": "1.2.0",
          "state": {
            "_model_module": "@jupyter-widgets/base",
            "_model_module_version": "1.2.0",
            "_model_name": "LayoutModel",
            "_view_count": null,
            "_view_module": "@jupyter-widgets/base",
            "_view_module_version": "1.2.0",
            "_view_name": "LayoutView",
            "align_content": null,
            "align_items": null,
            "align_self": null,
            "border": null,
            "bottom": null,
            "display": null,
            "flex": null,
            "flex_flow": null,
            "grid_area": null,
            "grid_auto_columns": null,
            "grid_auto_flow": null,
            "grid_auto_rows": null,
            "grid_column": null,
            "grid_gap": null,
            "grid_row": null,
            "grid_template_areas": null,
            "grid_template_columns": null,
            "grid_template_rows": null,
            "height": null,
            "justify_content": null,
            "justify_items": null,
            "left": null,
            "margin": null,
            "max_height": null,
            "max_width": null,
            "min_height": null,
            "min_width": null,
            "object_fit": null,
            "object_position": null,
            "order": null,
            "overflow": null,
            "overflow_x": null,
            "overflow_y": null,
            "padding": null,
            "right": null,
            "top": null,
            "visibility": null,
            "width": null
          }
        },
        "fafaf541ce20491ca6ed5a52e5c49e3b": {
          "model_module": "@jupyter-widgets/controls",
          "model_name": "DescriptionStyleModel",
          "model_module_version": "1.5.0",
          "state": {
            "_model_module": "@jupyter-widgets/controls",
            "_model_module_version": "1.5.0",
            "_model_name": "DescriptionStyleModel",
            "_view_count": null,
            "_view_module": "@jupyter-widgets/base",
            "_view_module_version": "1.2.0",
            "_view_name": "StyleView",
            "description_width": ""
          }
        },
        "3eec52d89322461fbee617aa19d2f335": {
          "model_module": "@jupyter-widgets/base",
          "model_name": "LayoutModel",
          "model_module_version": "1.2.0",
          "state": {
            "_model_module": "@jupyter-widgets/base",
            "_model_module_version": "1.2.0",
            "_model_name": "LayoutModel",
            "_view_count": null,
            "_view_module": "@jupyter-widgets/base",
            "_view_module_version": "1.2.0",
            "_view_name": "LayoutView",
            "align_content": null,
            "align_items": null,
            "align_self": null,
            "border": null,
            "bottom": null,
            "display": null,
            "flex": null,
            "flex_flow": null,
            "grid_area": null,
            "grid_auto_columns": null,
            "grid_auto_flow": null,
            "grid_auto_rows": null,
            "grid_column": null,
            "grid_gap": null,
            "grid_row": null,
            "grid_template_areas": null,
            "grid_template_columns": null,
            "grid_template_rows": null,
            "height": null,
            "justify_content": null,
            "justify_items": null,
            "left": null,
            "margin": null,
            "max_height": null,
            "max_width": null,
            "min_height": null,
            "min_width": null,
            "object_fit": null,
            "object_position": null,
            "order": null,
            "overflow": null,
            "overflow_x": null,
            "overflow_y": null,
            "padding": null,
            "right": null,
            "top": null,
            "visibility": null,
            "width": null
          }
        },
        "71d6b7a63ce94f01bf732564895a12b4": {
          "model_module": "@jupyter-widgets/controls",
          "model_name": "ProgressStyleModel",
          "model_module_version": "1.5.0",
          "state": {
            "_model_module": "@jupyter-widgets/controls",
            "_model_module_version": "1.5.0",
            "_model_name": "ProgressStyleModel",
            "_view_count": null,
            "_view_module": "@jupyter-widgets/base",
            "_view_module_version": "1.2.0",
            "_view_name": "StyleView",
            "bar_color": null,
            "description_width": ""
          }
        },
        "be32ef9e54a947b6842d4b8f10878fa9": {
          "model_module": "@jupyter-widgets/base",
          "model_name": "LayoutModel",
          "model_module_version": "1.2.0",
          "state": {
            "_model_module": "@jupyter-widgets/base",
            "_model_module_version": "1.2.0",
            "_model_name": "LayoutModel",
            "_view_count": null,
            "_view_module": "@jupyter-widgets/base",
            "_view_module_version": "1.2.0",
            "_view_name": "LayoutView",
            "align_content": null,
            "align_items": null,
            "align_self": null,
            "border": null,
            "bottom": null,
            "display": null,
            "flex": null,
            "flex_flow": null,
            "grid_area": null,
            "grid_auto_columns": null,
            "grid_auto_flow": null,
            "grid_auto_rows": null,
            "grid_column": null,
            "grid_gap": null,
            "grid_row": null,
            "grid_template_areas": null,
            "grid_template_columns": null,
            "grid_template_rows": null,
            "height": null,
            "justify_content": null,
            "justify_items": null,
            "left": null,
            "margin": null,
            "max_height": null,
            "max_width": null,
            "min_height": null,
            "min_width": null,
            "object_fit": null,
            "object_position": null,
            "order": null,
            "overflow": null,
            "overflow_x": null,
            "overflow_y": null,
            "padding": null,
            "right": null,
            "top": null,
            "visibility": null,
            "width": null
          }
        },
        "c85587d1a9234e35b21bda8771698dba": {
          "model_module": "@jupyter-widgets/controls",
          "model_name": "DescriptionStyleModel",
          "model_module_version": "1.5.0",
          "state": {
            "_model_module": "@jupyter-widgets/controls",
            "_model_module_version": "1.5.0",
            "_model_name": "DescriptionStyleModel",
            "_view_count": null,
            "_view_module": "@jupyter-widgets/base",
            "_view_module_version": "1.2.0",
            "_view_name": "StyleView",
            "description_width": ""
          }
        },
        "0e50a3ed82554822af956500e8163d70": {
          "model_module": "@jupyter-widgets/controls",
          "model_name": "HBoxModel",
          "model_module_version": "1.5.0",
          "state": {
            "_dom_classes": [],
            "_model_module": "@jupyter-widgets/controls",
            "_model_module_version": "1.5.0",
            "_model_name": "HBoxModel",
            "_view_count": null,
            "_view_module": "@jupyter-widgets/controls",
            "_view_module_version": "1.5.0",
            "_view_name": "HBoxView",
            "box_style": "",
            "children": [
              "IPY_MODEL_a1c002855b764f64ac6ee805677ab601",
              "IPY_MODEL_08acf65096014a9c9f721c9610a6ac2c",
              "IPY_MODEL_7abd29f176814b1682374af8f98bf010"
            ],
            "layout": "IPY_MODEL_4c7300ffed8f4157bddcfac311a7dfda"
          }
        },
        "a1c002855b764f64ac6ee805677ab601": {
          "model_module": "@jupyter-widgets/controls",
          "model_name": "HTMLModel",
          "model_module_version": "1.5.0",
          "state": {
            "_dom_classes": [],
            "_model_module": "@jupyter-widgets/controls",
            "_model_module_version": "1.5.0",
            "_model_name": "HTMLModel",
            "_view_count": null,
            "_view_module": "@jupyter-widgets/controls",
            "_view_module_version": "1.5.0",
            "_view_name": "HTMLView",
            "description": "",
            "description_tooltip": null,
            "layout": "IPY_MODEL_27fea7b5f44f40e9a2755c6b01cbc8ff",
            "placeholder": "​",
            "style": "IPY_MODEL_551635c93c7e45eba46d9ae1d2543d41",
            "value": "Downloading (…)cial_tokens_map.json: 100%"
          }
        },
        "08acf65096014a9c9f721c9610a6ac2c": {
          "model_module": "@jupyter-widgets/controls",
          "model_name": "FloatProgressModel",
          "model_module_version": "1.5.0",
          "state": {
            "_dom_classes": [],
            "_model_module": "@jupyter-widgets/controls",
            "_model_module_version": "1.5.0",
            "_model_name": "FloatProgressModel",
            "_view_count": null,
            "_view_module": "@jupyter-widgets/controls",
            "_view_module_version": "1.5.0",
            "_view_name": "ProgressView",
            "bar_style": "success",
            "description": "",
            "description_tooltip": null,
            "layout": "IPY_MODEL_96a06bfb838a46398ef3796223033f3e",
            "max": 90,
            "min": 0,
            "orientation": "horizontal",
            "style": "IPY_MODEL_d0f606900075420eb21eb1d0027e65fe",
            "value": 90
          }
        },
        "7abd29f176814b1682374af8f98bf010": {
          "model_module": "@jupyter-widgets/controls",
          "model_name": "HTMLModel",
          "model_module_version": "1.5.0",
          "state": {
            "_dom_classes": [],
            "_model_module": "@jupyter-widgets/controls",
            "_model_module_version": "1.5.0",
            "_model_name": "HTMLModel",
            "_view_count": null,
            "_view_module": "@jupyter-widgets/controls",
            "_view_module_version": "1.5.0",
            "_view_name": "HTMLView",
            "description": "",
            "description_tooltip": null,
            "layout": "IPY_MODEL_a2a4d0d803884413994f42aedda37355",
            "placeholder": "​",
            "style": "IPY_MODEL_4f4f595657a74ea1bdc3bc46d507f8b2",
            "value": " 90.0/90.0 [00:00&lt;00:00, 2.00kB/s]"
          }
        },
        "4c7300ffed8f4157bddcfac311a7dfda": {
          "model_module": "@jupyter-widgets/base",
          "model_name": "LayoutModel",
          "model_module_version": "1.2.0",
          "state": {
            "_model_module": "@jupyter-widgets/base",
            "_model_module_version": "1.2.0",
            "_model_name": "LayoutModel",
            "_view_count": null,
            "_view_module": "@jupyter-widgets/base",
            "_view_module_version": "1.2.0",
            "_view_name": "LayoutView",
            "align_content": null,
            "align_items": null,
            "align_self": null,
            "border": null,
            "bottom": null,
            "display": null,
            "flex": null,
            "flex_flow": null,
            "grid_area": null,
            "grid_auto_columns": null,
            "grid_auto_flow": null,
            "grid_auto_rows": null,
            "grid_column": null,
            "grid_gap": null,
            "grid_row": null,
            "grid_template_areas": null,
            "grid_template_columns": null,
            "grid_template_rows": null,
            "height": null,
            "justify_content": null,
            "justify_items": null,
            "left": null,
            "margin": null,
            "max_height": null,
            "max_width": null,
            "min_height": null,
            "min_width": null,
            "object_fit": null,
            "object_position": null,
            "order": null,
            "overflow": null,
            "overflow_x": null,
            "overflow_y": null,
            "padding": null,
            "right": null,
            "top": null,
            "visibility": null,
            "width": null
          }
        },
        "27fea7b5f44f40e9a2755c6b01cbc8ff": {
          "model_module": "@jupyter-widgets/base",
          "model_name": "LayoutModel",
          "model_module_version": "1.2.0",
          "state": {
            "_model_module": "@jupyter-widgets/base",
            "_model_module_version": "1.2.0",
            "_model_name": "LayoutModel",
            "_view_count": null,
            "_view_module": "@jupyter-widgets/base",
            "_view_module_version": "1.2.0",
            "_view_name": "LayoutView",
            "align_content": null,
            "align_items": null,
            "align_self": null,
            "border": null,
            "bottom": null,
            "display": null,
            "flex": null,
            "flex_flow": null,
            "grid_area": null,
            "grid_auto_columns": null,
            "grid_auto_flow": null,
            "grid_auto_rows": null,
            "grid_column": null,
            "grid_gap": null,
            "grid_row": null,
            "grid_template_areas": null,
            "grid_template_columns": null,
            "grid_template_rows": null,
            "height": null,
            "justify_content": null,
            "justify_items": null,
            "left": null,
            "margin": null,
            "max_height": null,
            "max_width": null,
            "min_height": null,
            "min_width": null,
            "object_fit": null,
            "object_position": null,
            "order": null,
            "overflow": null,
            "overflow_x": null,
            "overflow_y": null,
            "padding": null,
            "right": null,
            "top": null,
            "visibility": null,
            "width": null
          }
        },
        "551635c93c7e45eba46d9ae1d2543d41": {
          "model_module": "@jupyter-widgets/controls",
          "model_name": "DescriptionStyleModel",
          "model_module_version": "1.5.0",
          "state": {
            "_model_module": "@jupyter-widgets/controls",
            "_model_module_version": "1.5.0",
            "_model_name": "DescriptionStyleModel",
            "_view_count": null,
            "_view_module": "@jupyter-widgets/base",
            "_view_module_version": "1.2.0",
            "_view_name": "StyleView",
            "description_width": ""
          }
        },
        "96a06bfb838a46398ef3796223033f3e": {
          "model_module": "@jupyter-widgets/base",
          "model_name": "LayoutModel",
          "model_module_version": "1.2.0",
          "state": {
            "_model_module": "@jupyter-widgets/base",
            "_model_module_version": "1.2.0",
            "_model_name": "LayoutModel",
            "_view_count": null,
            "_view_module": "@jupyter-widgets/base",
            "_view_module_version": "1.2.0",
            "_view_name": "LayoutView",
            "align_content": null,
            "align_items": null,
            "align_self": null,
            "border": null,
            "bottom": null,
            "display": null,
            "flex": null,
            "flex_flow": null,
            "grid_area": null,
            "grid_auto_columns": null,
            "grid_auto_flow": null,
            "grid_auto_rows": null,
            "grid_column": null,
            "grid_gap": null,
            "grid_row": null,
            "grid_template_areas": null,
            "grid_template_columns": null,
            "grid_template_rows": null,
            "height": null,
            "justify_content": null,
            "justify_items": null,
            "left": null,
            "margin": null,
            "max_height": null,
            "max_width": null,
            "min_height": null,
            "min_width": null,
            "object_fit": null,
            "object_position": null,
            "order": null,
            "overflow": null,
            "overflow_x": null,
            "overflow_y": null,
            "padding": null,
            "right": null,
            "top": null,
            "visibility": null,
            "width": null
          }
        },
        "d0f606900075420eb21eb1d0027e65fe": {
          "model_module": "@jupyter-widgets/controls",
          "model_name": "ProgressStyleModel",
          "model_module_version": "1.5.0",
          "state": {
            "_model_module": "@jupyter-widgets/controls",
            "_model_module_version": "1.5.0",
            "_model_name": "ProgressStyleModel",
            "_view_count": null,
            "_view_module": "@jupyter-widgets/base",
            "_view_module_version": "1.2.0",
            "_view_name": "StyleView",
            "bar_color": null,
            "description_width": ""
          }
        },
        "a2a4d0d803884413994f42aedda37355": {
          "model_module": "@jupyter-widgets/base",
          "model_name": "LayoutModel",
          "model_module_version": "1.2.0",
          "state": {
            "_model_module": "@jupyter-widgets/base",
            "_model_module_version": "1.2.0",
            "_model_name": "LayoutModel",
            "_view_count": null,
            "_view_module": "@jupyter-widgets/base",
            "_view_module_version": "1.2.0",
            "_view_name": "LayoutView",
            "align_content": null,
            "align_items": null,
            "align_self": null,
            "border": null,
            "bottom": null,
            "display": null,
            "flex": null,
            "flex_flow": null,
            "grid_area": null,
            "grid_auto_columns": null,
            "grid_auto_flow": null,
            "grid_auto_rows": null,
            "grid_column": null,
            "grid_gap": null,
            "grid_row": null,
            "grid_template_areas": null,
            "grid_template_columns": null,
            "grid_template_rows": null,
            "height": null,
            "justify_content": null,
            "justify_items": null,
            "left": null,
            "margin": null,
            "max_height": null,
            "max_width": null,
            "min_height": null,
            "min_width": null,
            "object_fit": null,
            "object_position": null,
            "order": null,
            "overflow": null,
            "overflow_x": null,
            "overflow_y": null,
            "padding": null,
            "right": null,
            "top": null,
            "visibility": null,
            "width": null
          }
        },
        "4f4f595657a74ea1bdc3bc46d507f8b2": {
          "model_module": "@jupyter-widgets/controls",
          "model_name": "DescriptionStyleModel",
          "model_module_version": "1.5.0",
          "state": {
            "_model_module": "@jupyter-widgets/controls",
            "_model_module_version": "1.5.0",
            "_model_name": "DescriptionStyleModel",
            "_view_count": null,
            "_view_module": "@jupyter-widgets/base",
            "_view_module_version": "1.2.0",
            "_view_name": "StyleView",
            "description_width": ""
          }
        }
      }
    }
  },
  "nbformat": 4,
  "nbformat_minor": 5
}