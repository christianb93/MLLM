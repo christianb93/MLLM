{
 "cells": [
  {
   "cell_type": "code",
   "execution_count": 1,
   "id": "37566b11-bf6a-4f65-bb5c-9272f5e3bd33",
   "metadata": {
    "colab": {
     "base_uri": "https://localhost:8080/"
    },
    "id": "37566b11-bf6a-4f65-bb5c-9272f5e3bd33",
    "outputId": "37af9d3c-da88-450a-bd63-886d4849786b",
    "tags": []
   },
   "outputs": [
    {
     "name": "stdout",
     "output_type": "stream",
     "text": [
      "True\n"
     ]
    }
   ],
   "source": [
    "#\n",
    "# Check that PyTorch is properly installed\n",
    "#\n",
    "import torch\n",
    "print(torch.cuda.is_available())"
   ]
  },
  {
   "cell_type": "code",
   "execution_count": null,
   "id": "e5c4d8c1-a8a6-4ee2-b812-549f6bfd271f",
   "metadata": {
    "colab": {
     "base_uri": "https://localhost:8080/"
    },
    "id": "e5c4d8c1-a8a6-4ee2-b812-549f6bfd271f",
    "outputId": "42c1b774-8eb0-4f55-a91f-77f9fab5863e"
   },
   "outputs": [],
   "source": [
    "!pip3 install torchtext portalocker"
   ]
  },
  {
   "cell_type": "markdown",
   "id": "41eed12e-1353-44aa-a064-5696951c4506",
   "metadata": {
    "id": "41eed12e-1353-44aa-a064-5696951c4506"
   },
   "source": [
    "First we need to download the WikiText2 dataset. The dataset consists of individual paragraphs, some of which are titles. We go through all paragraphs, clean them, and add all remaining paragraphs into a list. Note that we maintain the structure of paragraphs instead of merging all of them into a single list, as we want to avoid creating center and context pairs that span across paragraphs."
   ]
  },
  {
   "cell_type": "code",
   "execution_count": 3,
   "id": "0815b915-2fa3-43f1-843e-c05c01db1eac",
   "metadata": {
    "colab": {
     "base_uri": "https://localhost:8080/"
    },
    "id": "0815b915-2fa3-43f1-843e-c05c01db1eac",
    "outputId": "78e33413-1e13-457e-c968-739c04b00628",
    "tags": []
   },
   "outputs": [
    {
     "name": "stdout",
     "output_type": "stream",
     "text": [
      "['in', 'the', 'early', 'hours', 'of', '7', 'october', 'the', 'allied', 'artillery', 'and', 'mortar', 'bombardment', 'began', ',', 'targeting', 'chinese', 'positions', 'on', 'the', 'hinge', '.', 'hassett', 'moved', 'the', '3', 'rar', 'tactical', 'headquarters', 'on', 'to', 'hill', '317', 'just', 'before', 'the', 'assaulting', 'troops', 'stepped', 'off', 'the', 'line', 'of', 'departure', ',', 'allowing', 'him', 'to', 'direct', 'the', 'battle', 'from', 'a', 'forward', 'position', 'and', 'to', 'co', '-', '<unk>', 'fire', 'support', '.', 'waiting', 'for', 'the', 'fog', 'to', 'lift', 'so', 'that', 'the', 'artillery', 'could', 'fire', 'until', 'the', 'last', 'safe', 'moment', ',', 'the', 'attack', 'finally', 'began', 'at', '08', '00', '.', 'b', 'company', 'moved', 'off', 'down', 'the', '<unk>', ',', 'with', 'two', '-', 'up', 'and', 'one', '-', 'in', '-', 'depth', ',', 'using', 'the', 'trees', 'and', 'long', 'grass', 'for', 'concealment', '.', 'initially', 'it', 'seemed', 'that', 'the', 'chinese', 'had', 'withdrawn', 'during', 'the', 'night', ',', 'when', 'suddenly', 'the', 'lead', 'australian', 'platoons', 'were', '<unk>', 'by', 'small', 'arms', 'fire', 'from', 'their', 'rear', '.', 'a', 'series', 'of', 'intense', 'fire', '-', 'fights', 'ensued', 'as', 'the', 'australians', 'fought', 'back', 'and', 'by', '09', '20', 'the', 'hinge', 'finally', 'fell', ',', 'with', 'the', 'australians', 'losing', 'two', 'killed', 'and', '20', 'wounded', '.', 'chinese', 'casualties', 'included', 'more', 'than', '20', 'killed', '.', 'as', 'a', 'result', 'of', 'the', 'fighting', 'captain', 'henry', 'nicholls', 'and', 'lieutenant', 'jim', 'hughes', 'were', 'awarded', 'the', 'military', 'cross', ',', 'while', '<unk>', 'j', '.', 'park', 'and', '<unk>', '<unk>', 'bosworth', 'were', 'awarded', 'the', 'military', 'medal', '.', 'yet', 'even', 'as', 'the', 'surviving', 'chinese', 'withdrew', ',', 'artillery', 'and', 'mortar', 'fire', 'began', 'to', 'fall', 'on', 'the', 'hinge', '.', 'b', 'company', 'moved', 'quickly', 'to', 'consolidate', 'the', 'position', ',', 'but', 'were', 'hampered', 'by', 'the', 'shelling', ',', 'while', 'they', 'now', 'faced', 'a', 'pressing', 'shortage', 'of', 'ammunition', 'and', 'difficulties', 'evacuating', 'their', 'casualties', '.']\n"
     ]
    }
   ],
   "source": [
    "import re\n",
    "import torchtext\n",
    "import collections\n",
    "\n",
    "\n",
    "def to_paragraphs(_items, tokenizer):\n",
    "    paragraphs = []\n",
    "    for item in _items:\n",
    "        # Remove trailing whitespace and special characters\n",
    "        item = re.sub(\"^\\s+\", \"\", item)\n",
    "        item = re.sub(\"@\", \"\", item)\n",
    "        if not re.match(\"^=\", item):\n",
    "            p = tokenizer(item)\n",
    "            if len(p):\n",
    "                paragraphs.append(p)\n",
    "                        \n",
    "    return paragraphs\n",
    "\n",
    "#\n",
    "# Build list of paragraphs and print a sample\n",
    "#\n",
    "ds = torchtext.datasets.WikiText2(split=\"train\")\n",
    "tokenizer = torchtext.data.utils.get_tokenizer(\"basic_english\")\n",
    "paragraphs = to_paragraphs(ds, tokenizer)\n",
    "print(paragraphs[5000])"
   ]
  },
  {
   "cell_type": "markdown",
   "id": "7c296d54-d168-4bfd-b1e8-1242d6f33ac6",
   "metadata": {
    "id": "7c296d54-d168-4bfd-b1e8-1242d6f33ac6"
   },
   "source": [
    "Next we again tokenize the text and build a vocabulary. However, this time we will ignore all words that appear less than a given number of times in the text, and instead use a special token in the vocabulary that will be used for all token that are not in the vocabulary during encoding. "
   ]
  },
  {
   "cell_type": "code",
   "execution_count": 4,
   "id": "fa415ca2-e674-4acb-8565-71a41798a809",
   "metadata": {
    "id": "fa415ca2-e674-4acb-8565-71a41798a809",
    "tags": []
   },
   "outputs": [],
   "source": [
    "def build_vocab(paragraphs, min_freq = 50):\n",
    "        vocab = torchtext.vocab.build_vocab_from_iterator(paragraphs, min_freq=min_freq, specials=[\"<unk>\"])\n",
    "        vocab.set_default_index(vocab[\"<unk>\"])\n",
    "        return vocab\n",
    "\n",
    "def encode_paragraphs(paragraphs, vocab):\n",
    "    return [[vocab[_token] for _token in p] for p in paragraphs]\n",
    "\n",
    "vocab = build_vocab(paragraphs)\n",
    "encoded_paragraphs = encode_paragraphs(paragraphs, vocab)"
   ]
  },
  {
   "cell_type": "markdown",
   "id": "08a9a02a-a2d9-421c-880b-b1250f0ed602",
   "metadata": {
    "id": "08a9a02a-a2d9-421c-880b-b1250f0ed602"
   },
   "source": [
    "The next step in the processing is to create pairs consisting of a center token and a list of context tokens. We will do this paragraph for paragraph and later skip outputs which are two short. "
   ]
  },
  {
   "cell_type": "code",
   "execution_count": 5,
   "id": "dee1b3b7-0df9-4890-843b-d156d64a310e",
   "metadata": {
    "colab": {
     "base_uri": "https://localhost:8080/"
    },
    "id": "dee1b3b7-0df9-4890-843b-d156d64a310e",
    "outputId": "1d1c526f-b883-4b4d-cbd9-f1842239b303",
    "tags": []
   },
   "outputs": [
    {
     "name": "stdout",
     "output_type": "stream",
     "text": [
      "('This', ['is', 'a'])\n",
      "('is', ['This', 'a', 'short'])\n",
      "('a', ['This', 'is', 'short', 'test'])\n",
      "('short', ['is', 'a', 'test', 'paragraph'])\n",
      "('test', ['a', 'short', 'paragraph', 'to'])\n",
      "('paragraph', ['short', 'test', 'to', 'try'])\n",
      "('to', ['test', 'paragraph', 'try', 'out'])\n",
      "('try', ['paragraph', 'to', 'out', 'things'])\n",
      "('out', ['to', 'try', 'things'])\n",
      "('things', ['try', 'out'])\n"
     ]
    }
   ],
   "source": [
    "def yield_context(paragraphs, window_size = 8):\n",
    "    for p in paragraphs:\n",
    "        half = window_size // 2\n",
    "        #\n",
    "        # If we are not yet at the last token in the paragraph, \n",
    "        # yield window and advance center. \n",
    "        #\n",
    "        for index, center in  enumerate(p):\n",
    "            context = p[max(0, index - half):index]\n",
    "            context.extend(p[index + 1:min(len(p), index + half + 1)])\n",
    "            yield center, context\n",
    "\n",
    "test_paragraphs = [[\"This\", \"is\", \"a\", \"short\", \"test\", \"paragraph\", \"to\", \"try\", \"out\", \"things\"]]\n",
    "iter = yield_context(test_paragraphs, window_size = 4)\n",
    "for i in range(10):\n",
    "  print(next(iter))\n"
   ]
  },
  {
   "cell_type": "code",
   "execution_count": 6,
   "id": "9ca21a6e-062a-4206-a78a-1adaa24cc130",
   "metadata": {
    "colab": {
     "base_uri": "https://localhost:8080/"
    },
    "id": "9ca21a6e-062a-4206-a78a-1adaa24cc130",
    "outputId": "61bba339-4397-4b5a-d3bb-0b54279810b5",
    "tags": []
   },
   "outputs": [
    {
     "name": "stdout",
     "output_type": "stream",
     "text": [
      "['17', 'team', 'of', '24'] players [',', '<unk>', 'from', 'an']\n",
      "['team', 'of', '24', 'players'] , ['<unk>', 'from', 'an', 'initial']\n",
      "['of', '24', 'players', ','] <unk> ['from', 'an', 'initial', 'pool']\n",
      "['24', 'players', ',', '<unk>'] from ['an', 'initial', 'pool', 'of']\n",
      "['players', ',', '<unk>', 'from'] an ['initial', 'pool', 'of', '49']\n",
      "[',', '<unk>', 'from', 'an'] initial ['pool', 'of', '49', 'young']\n",
      "['<unk>', 'from', 'an', 'initial'] pool ['of', '49', 'young', 'women']\n",
      "['from', 'an', 'initial', 'pool'] of ['49', 'young', 'women', '.']\n",
      "['an', 'initial', 'pool', 'of'] 49 ['young', 'women', '.', 'two']\n",
      "['initial', 'pool', 'of', '49'] young ['women', '.', 'two', 'girls']\n"
     ]
    }
   ],
   "source": [
    "def print_sample(center, context):\n",
    "    left_context = context[:len(context) // 2]\n",
    "    right_context = context[len(context) // 2:]\n",
    "    print(f\"{[vocab.lookup_token(idx) for idx in left_context]} {vocab.lookup_token(center)} {[vocab.lookup_token(idx) for idx in right_context]}\")\n",
    "    \n",
    "iter = yield_context(encoded_paragraphs)\n",
    "#\n",
    "# Advance by a few items, then print a few examples\n",
    "#\n",
    "for i in range(10800):\n",
    "    next(iter)\n",
    "for i in range(10):\n",
    "    center, context = next(iter)\n",
    "    if len(context) != 8:\n",
    "        continue\n",
    "    print_sample(center, context)"
   ]
  },
  {
   "cell_type": "markdown",
   "id": "4f092890-a369-47e7-94f3-5bc44187bec5",
   "metadata": {
    "id": "4f092890-a369-47e7-94f3-5bc44187bec5"
   },
   "source": [
    "We are now ready to put all this into a PyTorch data set, use a data loader to load a batch and print a few examples from the batch to verify that our code works. This is not an introduction into datasets, but basically a dataset is an object that implements *__getitem__* and *__len__* so that it can be handled by a data loader. As our text is rather short, we can afford to build all center / context pairs in memory when the dataset is created."
   ]
  },
  {
   "cell_type": "code",
   "execution_count": 7,
   "id": "7549e100-c8fa-474c-b379-b4aa38a38869",
   "metadata": {
    "id": "7549e100-c8fa-474c-b379-b4aa38a38869",
    "tags": []
   },
   "outputs": [],
   "source": [
    "import torch\n",
    "\n",
    "class CBOWDataSet(torch.utils.data.Dataset):\n",
    "\n",
    "    def yield_context(self, paragraphs):\n",
    "        window_size = self._window_size\n",
    "        for p in paragraphs:\n",
    "            half = window_size // 2\n",
    "            for index, center in  enumerate(p):\n",
    "                context = p[max(0, index - half):index]\n",
    "                context.extend(p[index + 1:min(len(p), index + half + 1)])\n",
    "                yield center, context\n",
    "    \n",
    "    def __init__(self, min_freq = 50, window_size = 8):\n",
    "        super().__init__()\n",
    "        self._window_size = window_size\n",
    "        #\n",
    "        # Build vocabulary\n",
    "        #\n",
    "        ds = torchtext.datasets.WikiText2(split=\"train\")\n",
    "        tokenizer = torchtext.data.utils.get_tokenizer(\"basic_english\")\n",
    "        paragraphs = []\n",
    "        for item in ds:\n",
    "            # Remove trailing whitespace and special characters\n",
    "            item = re.sub(\"^\\s+\", \"\", item)\n",
    "            item = re.sub(\"@\", \"\", item)\n",
    "            if not re.match(\"^=\", item):\n",
    "                p = tokenizer(item)\n",
    "                if len(p):\n",
    "                    paragraphs.append(p)\n",
    "        self._vocab = torchtext.vocab.build_vocab_from_iterator(paragraphs, min_freq=min_freq, specials=[\"<unk>\"])\n",
    "        self._vocab.set_default_index(self._vocab[\"<unk>\"])\n",
    "        #\n",
    "        # Encode paragraphs\n",
    "        #\n",
    "        encoded_paragraphs = [[self._vocab[_token] for _token in p] for p in paragraphs]\n",
    "       #\n",
    "        # Create a list of all center / context pairs\n",
    "        #\n",
    "        self._x = []\n",
    "        self._y = []\n",
    "        for center, context in self.yield_context(encoded_paragraphs):\n",
    "            if len(context) == self._window_size:\n",
    "                self._x.append(center)\n",
    "                self._y.append(context)\n",
    "                \n",
    "    def __getitem__(self, index):\n",
    "        if index < len(self._x):\n",
    "            return self._x[index], self._y[index]\n",
    "        else:\n",
    "            raise KeyError\n",
    "\n",
    "    def __len__(self):\n",
    "        return len(self._x)\n",
    "\n",
    "    \n",
    "    def get_vocab(self):\n",
    "        return self._vocab\n",
    "\n",
    "    \n",
    "def collate_fn(list):\n",
    "    X = []\n",
    "    Y = []\n",
    "    for index, [center, context] in enumerate(list):\n",
    "        Y.append(context)\n",
    "        X.append(center)\n",
    "            \n",
    "    X = torch.tensor(X, dtype=torch.long)\n",
    "    Y = torch.tensor(Y, dtype=torch.long)\n",
    "    return X, Y \n",
    "\n"
   ]
  },
  {
   "cell_type": "code",
   "execution_count": 8,
   "id": "baac3f2d-a230-43ef-b600-42d1b497d557",
   "metadata": {
    "id": "baac3f2d-a230-43ef-b600-42d1b497d557",
    "tags": []
   },
   "outputs": [],
   "source": [
    "ds = CBOWDataSet(min_freq=50)\n",
    "BATCH_SIZE = 4\n",
    "training_data = torch.utils.data.DataLoader(ds, batch_size = BATCH_SIZE, collate_fn = collate_fn)"
   ]
  },
  {
   "cell_type": "markdown",
   "id": "69ab7763-385b-4acf-a3f0-dea7e893189a",
   "metadata": {
    "id": "69ab7763-385b-4acf-a3f0-dea7e893189a"
   },
   "source": [
    "Let us try this. We expect that each batch consists of two tensor of dimensions $B$ (the batch size) respectively $B \\times W$ where $W$ is the window size. Each row corresponds to a center index and a list of context indices."
   ]
  },
  {
   "cell_type": "code",
   "execution_count": 9,
   "id": "42f024cb-26e5-403a-b849-ea7f8d90bc1e",
   "metadata": {
    "colab": {
     "base_uri": "https://localhost:8080/"
    },
    "id": "42f024cb-26e5-403a-b849-ea7f8d90bc1e",
    "outputId": "ee0b1550-c28b-4ca9-9b6b-62aac4e90a60",
    "tags": []
   },
   "outputs": [
    {
     "name": "stdout",
     "output_type": "stream",
     "text": [
      "['it', 'met', 'with', 'positive'] sales ['in', 'japan', ',', 'and']\n",
      "['met', 'with', 'positive', 'sales'] in ['japan', ',', 'and', 'was']\n",
      "['with', 'positive', 'sales', 'in'] japan [',', 'and', 'was', 'praised']\n",
      "['positive', 'sales', 'in', 'japan'] , ['and', 'was', 'praised', 'by']\n",
      "['sales', 'in', 'japan', ','] and ['was', 'praised', 'by', 'both']\n",
      "['in', 'japan', ',', 'and'] was ['praised', 'by', 'both', 'japanese']\n",
      "['japan', ',', 'and', 'was'] praised ['by', 'both', 'japanese', 'and']\n",
      "[',', 'and', 'was', 'praised'] by ['both', 'japanese', 'and', 'western']\n"
     ]
    }
   ],
   "source": [
    "iter = training_data.__iter__()\n",
    "for i in range(50):\n",
    "    next(iter)\n",
    "for i in range(2):\n",
    "    X, Y = next(iter)\n",
    "    for b in range(BATCH_SIZE):\n",
    "        x, y = X[b].item(), Y[b].tolist()\n",
    "        print_sample(x, y)"
   ]
  },
  {
   "cell_type": "markdown",
   "id": "e8403fec-6888-4261-a010-b2e894d528d2",
   "metadata": {
    "id": "e8403fec-6888-4261-a010-b2e894d528d2"
   },
   "source": [
    "Next we build our model - we use a PyTorch embedding, which is essentially a matrix, where the number of embedding is the size of the vocabulary and the dimension is the model dimension which we can choose freely. On top of the embedding, we have a linear layer which translates back from the model dimension into the vocabulary. As recommended in [this blog post](https://towardsdatascience.com/word2vec-with-pytorch-implementing-original-paper-2cd7040120b0), I use the *max_norm* parameter of the embedding to avoid overtraining."
   ]
  },
  {
   "cell_type": "code",
   "execution_count": 10,
   "id": "9ec218d6-2c88-46a1-ad64-b3df27bf5743",
   "metadata": {
    "id": "9ec218d6-2c88-46a1-ad64-b3df27bf5743",
    "tags": []
   },
   "outputs": [],
   "source": [
    "EMBED_MAX_NORM = 1\n",
    "\n",
    "class CBOW(torch.nn.Module):\n",
    "    \n",
    "    def __init__(self, model_dim, V, bias = False):\n",
    "        super().__init__()\n",
    "        self.embedding = torch.nn.Embedding(\n",
    "            num_embeddings=V,\n",
    "            embedding_dim=model_dim,\n",
    "            max_norm=EMBED_MAX_NORM,\n",
    "        )\n",
    "        self.linear = torch.nn.Linear(\n",
    "            in_features=model_dim,\n",
    "            out_features=V,\n",
    "            bias = bias\n",
    "        )\n",
    "        \n",
    "        \n",
    "    def forward(self, Y):\n",
    "        E = self.embedding(Y).mean(axis=1)\n",
    "        U = self.linear(E)\n",
    "        return U\n",
    "        \n",
    "   \n",
    "    def get_embedding(self, index):\n",
    "        with torch.no_grad():\n",
    "            return self.embedding(torch.tensor([index], dtype=torch.long))"
   ]
  },
  {
   "cell_type": "code",
   "execution_count": 11,
   "id": "75efa4be-9673-483f-ad05-2e0c7c7df0fa",
   "metadata": {
    "id": "75efa4be-9673-483f-ad05-2e0c7c7df0fa",
    "tags": []
   },
   "outputs": [],
   "source": [
    "import tqdm\n",
    "\n",
    "def train(model, epochs, train_data_loader, lr = 0.00025, device = \"cpu\", loss_fn = torch.nn.functional.cross_entropy):\n",
    "    losses = []\n",
    "    optimizer = torch.optim.Adam(model.parameters(), lr = lr)\n",
    "    lr_lambda = lambda epoch: (epochs - epoch) / epochs\n",
    "    scheduler = torch.optim.lr_scheduler.LambdaLR(optimizer, lr_lambda=lr_lambda, verbose = False)\n",
    "    for epoch in range(epochs):\n",
    "        epoch_loss = 0\n",
    "        items_in_epoch = 0\n",
    "        for X, Y in tqdm.tqdm(train_data_loader,  desc = f\"Epoch {epoch}\"):\n",
    "            items_in_epoch = items_in_epoch + 1\n",
    "            f = model(Y.to(device))\n",
    "            targets = X.to(device)\n",
    "            loss = loss_fn(f, targets)            \n",
    "            optimizer.zero_grad()\n",
    "            loss.backward()\n",
    "            optimizer.step()\n",
    "            \n",
    "            losses.append(loss.item())\n",
    "            epoch_loss = epoch_loss + loss.item()\n",
    "\n",
    "        epoch_loss = epoch_loss / items_in_epoch\n",
    "        print(f\"Completed epoch {epoch}, mean loss in epoch is {epoch_loss}. Current learning rate is {optimizer.param_groups[0]['lr']}\")\n",
    "        scheduler.step()\n",
    "\n",
    "    return losses\n"
   ]
  },
  {
   "cell_type": "markdown",
   "id": "bbbc0bb2-3a47-4c05-8bd3-c32933e8e095",
   "metadata": {
    "id": "bbbc0bb2-3a47-4c05-8bd3-c32933e8e095"
   },
   "source": [
    "Let us now train. I found that large batch sizes and large learning rates work well in combination with the Adam optimizer. We do of course train on the GPU if that is available. We plot the losses after completing the training and save the results. I found that with the chosen parameters, 5 - 10 epochs are sufficient to produce reasonable results. Even on my not so modern GPU, this took less than 2 minutes."
   ]
  },
  {
   "cell_type": "code",
   "execution_count": 12,
   "id": "f8ea1efd-4b26-4e72-b547-f1543c981f3d",
   "metadata": {
    "colab": {
     "base_uri": "https://localhost:8080/"
    },
    "id": "f8ea1efd-4b26-4e72-b547-f1543c981f3d",
    "outputId": "efa5ff4b-13be-4768-9c4d-ace8fc7177b7",
    "tags": []
   },
   "outputs": [
    {
     "name": "stdout",
     "output_type": "stream",
     "text": [
      "Using device cuda\n",
      "Size of vocabulary: 4056\n",
      "CBOW(\n",
      "  (embedding): Embedding(4056, 300, max_norm=1)\n",
      "  (linear): Linear(in_features=300, out_features=4056, bias=False)\n",
      ")\n"
     ]
    }
   ],
   "source": [
    "\n",
    "device = \"cuda\" if torch.cuda.is_available() else \"cpu\"\n",
    "print(f\"Using device {device}\")\n",
    "D = 300\n",
    "BATCH_SIZE = 20000\n",
    "V = len(ds.get_vocab())\n",
    "print(f\"Size of vocabulary: {V}\")\n",
    "model = CBOW(model_dim=D, V=V, bias = False)\n",
    "print(model)\n",
    "model = model.to(device)\n",
    "    \n",
    "training_data = torch.utils.data.DataLoader(ds, batch_size = BATCH_SIZE, collate_fn = collate_fn, shuffle = True, num_workers = 2)\n"
   ]
  },
  {
   "cell_type": "code",
   "execution_count": 13,
   "id": "5b31b900-bd89-4770-985c-602c207af799",
   "metadata": {
    "colab": {
     "base_uri": "https://localhost:8080/"
    },
    "id": "5b31b900-bd89-4770-985c-602c207af799",
    "outputId": "f8d4426e-4b2a-4049-ba95-f1a707a692e1",
    "tags": []
   },
   "outputs": [
    {
     "name": "stderr",
     "output_type": "stream",
     "text": [
      "Epoch 0: 100%|█████████████████████████████████████████████████████████████████████████████████████████████████████████████████████████████████████████████████████████████████████████████████████████████████████████████████████████████████████| 93/93 [00:08<00:00, 11.17it/s]\n"
     ]
    },
    {
     "name": "stdout",
     "output_type": "stream",
     "text": [
      "Completed epoch 0, mean loss in epoch is 5.384986067330965. Current learning rate is 0.1\n"
     ]
    },
    {
     "name": "stderr",
     "output_type": "stream",
     "text": [
      "Epoch 1: 100%|█████████████████████████████████████████████████████████████████████████████████████████████████████████████████████████████████████████████████████████████████████████████████████████████████████████████████████████████████████| 93/93 [00:08<00:00, 11.47it/s]\n"
     ]
    },
    {
     "name": "stdout",
     "output_type": "stream",
     "text": [
      "Completed epoch 1, mean loss in epoch is 4.912747911227647. Current learning rate is 0.08571428571428572\n"
     ]
    },
    {
     "name": "stderr",
     "output_type": "stream",
     "text": [
      "Epoch 2: 100%|█████████████████████████████████████████████████████████████████████████████████████████████████████████████████████████████████████████████████████████████████████████████████████████████████████████████████████████████████████| 93/93 [00:08<00:00, 11.25it/s]\n"
     ]
    },
    {
     "name": "stdout",
     "output_type": "stream",
     "text": [
      "Completed epoch 2, mean loss in epoch is 4.765877031510876. Current learning rate is 0.07142857142857144\n"
     ]
    },
    {
     "name": "stderr",
     "output_type": "stream",
     "text": [
      "Epoch 3: 100%|█████████████████████████████████████████████████████████████████████████████████████████████████████████████████████████████████████████████████████████████████████████████████████████████████████████████████████████████████████| 93/93 [00:08<00:00, 11.29it/s]\n"
     ]
    },
    {
     "name": "stdout",
     "output_type": "stream",
     "text": [
      "Completed epoch 3, mean loss in epoch is 4.689463015525572. Current learning rate is 0.05714285714285714\n"
     ]
    },
    {
     "name": "stderr",
     "output_type": "stream",
     "text": [
      "Epoch 4: 100%|█████████████████████████████████████████████████████████████████████████████████████████████████████████████████████████████████████████████████████████████████████████████████████████████████████████████████████████████████████| 93/93 [00:08<00:00, 11.14it/s]\n"
     ]
    },
    {
     "name": "stdout",
     "output_type": "stream",
     "text": [
      "Completed epoch 4, mean loss in epoch is 4.625309380151892. Current learning rate is 0.04285714285714286\n"
     ]
    },
    {
     "name": "stderr",
     "output_type": "stream",
     "text": [
      "Epoch 5: 100%|█████████████████████████████████████████████████████████████████████████████████████████████████████████████████████████████████████████████████████████████████████████████████████████████████████████████████████████████████████| 93/93 [00:08<00:00, 11.45it/s]\n"
     ]
    },
    {
     "name": "stdout",
     "output_type": "stream",
     "text": [
      "Completed epoch 5, mean loss in epoch is 4.565894480674498. Current learning rate is 0.02857142857142857\n"
     ]
    },
    {
     "name": "stderr",
     "output_type": "stream",
     "text": [
      "Epoch 6: 100%|█████████████████████████████████████████████████████████████████████████████████████████████████████████████████████████████████████████████████████████████████████████████████████████████████████████████████████████████████████| 93/93 [00:08<00:00, 11.43it/s]"
     ]
    },
    {
     "name": "stdout",
     "output_type": "stream",
     "text": [
      "Completed epoch 6, mean loss in epoch is 4.485608782819522. Current learning rate is 0.014285714285714285\n"
     ]
    },
    {
     "name": "stderr",
     "output_type": "stream",
     "text": [
      "\n"
     ]
    }
   ],
   "source": [
    "losses = train(model, lr=0.1, epochs=7, train_data_loader = training_data, device = device)"
   ]
  },
  {
   "cell_type": "code",
   "execution_count": 14,
   "id": "f147ca08-811e-4959-a16a-a5852a8e6390",
   "metadata": {
    "colab": {
     "base_uri": "https://localhost:8080/",
     "height": 452
    },
    "id": "f147ca08-811e-4959-a16a-a5852a8e6390",
    "outputId": "c2bf5c93-c35e-41fa-a0c1-ba7798d6297f",
    "tags": []
   },
   "outputs": [
    {
     "data": {
      "text/plain": [
       "[<matplotlib.lines.Line2D at 0x7f98b30df760>]"
      ]
     },
     "execution_count": 14,
     "metadata": {},
     "output_type": "execute_result"
    },
    {
     "data": {
      "image/png": "[encoded data removed]",
      "text/plain": [
       "<Figure size 640x480 with 1 Axes>"
      ]
     },
     "metadata": {},
     "output_type": "display_data"
    }
   ],
   "source": [
    "import matplotlib.pyplot as plt\n",
    "plt.plot(losses) "
   ]
  },
  {
   "cell_type": "code",
   "execution_count": 15,
   "id": "1e1395ca-e719-4230-8e17-f639605a837b",
   "metadata": {
    "id": "1e1395ca-e719-4230-8e17-f639605a837b"
   },
   "outputs": [],
   "source": [
    "#\n",
    "# Save embeddings and vocab for later use\n",
    "#\n",
    "torch.save(model.embedding.weight, \"context_embeddings.pt\")\n",
    "torch.save(model.linear.weight, \"center_embeddings.pt\")\n",
    "torch.save(ds.get_vocab(), \"vocab.pt\")"
   ]
  },
  {
   "cell_type": "code",
   "execution_count": 16,
   "id": "a0ae08a2-4ca6-43a0-8f0b-6d7a3e860b27",
   "metadata": {
    "colab": {
     "base_uri": "https://localhost:8080/"
    },
    "id": "a0ae08a2-4ca6-43a0-8f0b-6d7a3e860b27",
    "outputId": "f96118e0-6c5d-43cb-ed48-674530501d36"
   },
   "outputs": [
    {
     "name": "stdout",
     "output_type": "stream",
     "text": [
      "V = 4056, D = 300\n",
      "Shape of context embeddings: torch.Size([4056, 300])\n",
      "Shape of center embeddings:  torch.Size([4056, 300])\n"
     ]
    }
   ],
   "source": [
    "#\n",
    "# Load embeddings and vocab. Note that the embeddings are stored \n",
    "# with dimensions V x D, so the embeddings are the rows\n",
    "#\n",
    "vocab = torch.load(\"vocab.pt\")\n",
    "context_embeddings = torch.load(\"context_embeddings.pt\")\n",
    "center_embeddings = torch.load(\"center_embeddings.pt\")\n",
    "V = len(vocab)\n",
    "D = context_embeddings.shape[1]\n",
    "print(f\"V = {V}, D = {D}\")\n",
    "print(f\"Shape of context embeddings: {context_embeddings.shape}\")\n",
    "print(f\"Shape of center embeddings:  {center_embeddings.shape}\")"
   ]
  },
  {
   "cell_type": "code",
   "execution_count": 17,
   "id": "e9741b7d-b62e-4f47-b175-19992029c50a",
   "metadata": {
    "colab": {
     "base_uri": "https://localhost:8080/"
    },
    "id": "e9741b7d-b62e-4f47-b175-19992029c50a",
    "outputId": "3c1d6cf1-2a9c-4a29-a3c9-4f1cdbc6f763",
    "tags": []
   },
   "outputs": [
    {
     "name": "stdout",
     "output_type": "stream",
     "text": [
      "Most similar token for france\n",
      "      france -- 0.9999999403953552\n",
      "      spain -- 0.6880383491516113\n",
      "      italy -- 0.6732332706451416\n",
      "      argentina -- 0.6491516828536987\n",
      "      germany -- 0.646877646446228\n",
      "Most similar token for king\n",
      "      king -- 1.0000001192092896\n",
      "      pope -- 0.6250259876251221\n",
      "      gerard -- 0.5856004953384399\n",
      "      monarch -- 0.5732649564743042\n",
      "      bishop -- 0.5599410533905029\n",
      "Most similar token for father\n",
      "      father -- 1.0000001192092896\n",
      "      wife -- 0.7066431045532227\n",
      "      mother -- 0.7002478837966919\n",
      "      brother -- 0.646498441696167\n",
      "      son -- 0.644016444683075\n"
     ]
    }
   ],
   "source": [
    "#\n",
    "# Print the 5 most similar words for a given token\n",
    "#\n",
    "def print_most_similar(token, embeddings, vocab):\n",
    "    #\n",
    "    # Normalize embeddings\n",
    "    #\n",
    "    _embeddings = torch.nn.functional.normalize(embeddings, dim = 1)\n",
    "    #\n",
    "    # get u, the embedding of our token\n",
    "    #\n",
    "    u = _embeddings[vocab[token], :]\n",
    "    #\n",
    "    # Now we need to perform the dot product of u with every other word, i.e. with\n",
    "    # every row of _embeddings. But this simply amounts to taking the matrix product\n",
    "    #\n",
    "    v = torch.matmul(_embeddings, u)\n",
    "    #\n",
    "    # Sort this\n",
    "    #\n",
    "    values, indices = torch.sort(v, descending=True)\n",
    "    print(f\"Most similar token for {token}\")\n",
    "    for i in range(5):\n",
    "        print(f\"      {vocab.lookup_token(indices[i])} -- {values[i]}\")\n",
    "    \n",
    "print_most_similar(\"france\", context_embeddings, vocab)\n",
    "print_most_similar(\"king\", context_embeddings, vocab)\n",
    "print_most_similar(\"father\", context_embeddings, vocab)"
   ]
  },
  {
   "cell_type": "code",
   "execution_count": 18,
   "id": "6TZ4r5XVzHEm",
   "metadata": {
    "colab": {
     "base_uri": "https://localhost:8080/"
    },
    "id": "6TZ4r5XVzHEm",
    "outputId": "cd6518b2-2392-42e2-ba90-5df5a664a446",
    "tags": []
   },
   "outputs": [
    {
     "name": "stdout",
     "output_type": "stream",
     "text": [
      "Most similar token for france\n",
      "      france -- 1.0000001192092896\n",
      "      italy -- 0.7553751468658447\n",
      "      spain -- 0.6878049969673157\n",
      "      russia -- 0.664093554019928\n",
      "      germany -- 0.6439176201820374\n",
      "Most similar token for king\n",
      "      king -- 1.0\n",
      "      pope -- 0.6872796416282654\n",
      "      edward -- 0.6148213744163513\n",
      "      henry -- 0.5906969904899597\n",
      "      son -- 0.5880035161972046\n",
      "Most similar token for father\n",
      "      father -- 1.0\n",
      "      mother -- 0.8521094918251038\n",
      "      brother -- 0.7779375314712524\n",
      "      wife -- 0.7714092135429382\n",
      "      daughter -- 0.757207989692688\n"
     ]
    }
   ],
   "source": [
    "print_most_similar(\"france\", center_embeddings, vocab)\n",
    "print_most_similar(\"king\", center_embeddings, vocab)\n",
    "print_most_similar(\"father\", center_embeddings, vocab)"
   ]
  }
 ],
 "metadata": {
  "accelerator": "GPU",
  "colab": {
   "provenance": []
  },
  "gpuClass": "standard",
  "kernelspec": {
   "display_name": "llm",
   "language": "python",
   "name": "llm"
  },
  "language_info": {
   "codemirror_mode": {
    "name": "ipython",
    "version": 3
   },
   "file_extension": ".py",
   "mimetype": "text/x-python",
   "name": "python",
   "nbconvert_exporter": "python",
   "pygments_lexer": "ipython3",
   "version": "3.10.6"
  }
 },
 "nbformat": 4,
 "nbformat_minor": 5
}
