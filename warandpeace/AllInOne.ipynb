{
  "nbformat": 4,
  "nbformat_minor": 0,
  "metadata": {
    "colab": {
      "provenance": [],
      "authorship_tag": "ABX9TyMM9q7xJGHEilt7AeMg5dkq"
    },
    "kernelspec": {
      "name": "python3",
      "display_name": "Python 3"
    },
    "language_info": {
      "name": "python"
    },
    "accelerator": "GPU",
    "gpuClass": "standard"
  },
  "cells": [
    {
      "cell_type": "code",
      "execution_count": 1,
      "metadata": {
        "id": "fD6JpxdMMWfh"
      },
      "outputs": [],
      "source": [
        "import os\n",
        "import requests\n",
        "import collections\n",
        "import torch\n",
        "import torchtext \n",
        "import re\n",
        "import tqdm"
      ]
    },
    {
      "cell_type": "code",
      "source": [
        "BOOK_ID = 2600\n",
        "TRAIN_DATA = \"train.json\"\n",
        "VAL_DATA = \"val.json\"\n",
        "VOCAB_FILE = \"vocab.pt\"\n",
        "\n",
        "#\n",
        "# Download book and return content\n",
        "#\n",
        "def get_book(book_id):\n",
        "    url = f\"https://www.gutenberg.org/files/{book_id}/{book_id}-0.txt\"\n",
        "    dest_file = f\"{book_id}.txt\"\n",
        "    if not os.path.exists(dest_file):\n",
        "        response = requests.get(url)\n",
        "        f = open(dest_file, \"wb\")\n",
        "        f.write(response.content)\n",
        "        f.close()\n",
        "    f = open(dest_file, \"r\")\n",
        "    content = f.read(-1)\n",
        "    f.close()\n",
        "    return content\n",
        "\n",
        "#\n",
        "# Build a character-level vocabulary from the token\n",
        "#\n",
        "def build_vocab(token):\n",
        "    counter = collections.Counter(token)\n",
        "    vocab = torchtext.vocab.build_vocab_from_iterator(counter, specials=[\"<unk>\"])\n",
        "    vocab.set_default_index(0)\n",
        "    return vocab\n",
        "\n",
        "#\n",
        "# A simple tokenizer that converts the input into a\n",
        "# sequence of characters\n",
        "#\n",
        "def tokenize(text):\n",
        "    #\n",
        "    # Remove all unknown characters\n",
        "    # \n",
        "    text = re.sub(r\"[^A-Za-z0-9 \\-\\.;,\\n\\?!]\", '', text)\n",
        "    #\n",
        "    # Replace linebreaks and multiple spaces by a single space\n",
        "    #\n",
        "    text = re.sub(\"\\n+\", \" \", text)\n",
        "    text = re.sub(\" +\", \" \", text)\n",
        "    #\n",
        "    # Split into characters\n",
        "    #\n",
        "    return [_t for _t in text]\n",
        "\n",
        "#\n",
        "# Decode a sequence of ids\n",
        "#\n",
        "def decode(indices, vocab):\n",
        "    return \"\".join(vocab.lookup_tokens(indices))\n"
      ],
      "metadata": {
        "id": "HDY-uLL-MkOV"
      },
      "execution_count": 2,
      "outputs": []
    },
    {
      "cell_type": "code",
      "source": [
        "book = get_book(BOOK_ID)\n",
        "token = tokenize(book)\n",
        "vocab = build_vocab(token)\n",
        "#\n",
        "# Encode book\n",
        "#\n",
        "encoded_book = [vocab[t] for t in token]\n",
        "#\n",
        "# Split into train and validation set\n",
        "#\n",
        "total_length = len(encoded_book)\n",
        "train_length = int(0.9*total_length)\n",
        "print(f\"Splitting file into {train_length} training items and {total_length - train_length} validation items\")\n",
        "train_book = encoded_book[:train_length]\n",
        "val_book = encoded_book[train_length:]\n",
        "\n"
      ],
      "metadata": {
        "colab": {
          "base_uri": "https://localhost:8080/"
        },
        "id": "S49W-FJGMlXx",
        "outputId": "4946486f-0dbe-49b0-d3e5-4dc6dfae693a"
      },
      "execution_count": 3,
      "outputs": [
        {
          "output_type": "stream",
          "name": "stdout",
          "text": [
            "Splitting file into 2852672 training items and 316964 validation items\n"
          ]
        }
      ]
    },
    {
      "cell_type": "code",
      "source": [
        "#\n",
        "# Default values for the parameter\n",
        "#\n",
        "# Inner dimension of the LSTM\n",
        "D = 128\n",
        "# Embedding dimension, i.e. input dimension of the LSTM\n",
        "E = 32\n",
        "# Number of layers\n",
        "LAYERS = 4\n",
        "\n",
        "\n",
        "class TheModel(torch.nn.Module):\n",
        "\n",
        "    def __init__(self, vocab_size, hidden_dim = D, embedding_dim = E, num_layers = LAYERS, dropout = 0):\n",
        "        super().__init__()\n",
        "        self._embedding = torch.nn.Embedding(vocab_size, embedding_dim)\n",
        "        self._lstm = torch.nn.LSTM(input_size = embedding_dim, hidden_size = hidden_dim, num_layers = num_layers, dropout = dropout)\n",
        "        self._out = torch.nn.Linear(in_features = hidden_dim, out_features = vocab_size)\n",
        "\n",
        "    def forward(self, x, hidden = None):\n",
        "        x = self._embedding(x) # shape is now (L, B, E)\n",
        "        x, hidden = self._lstm(x, hidden) # shape (L, B, H)\n",
        "        x = self._out(x)\n",
        "        return x, hidden\n",
        "\n",
        "    \n"
      ],
      "metadata": {
        "id": "dmq9H0PWOWV1"
      },
      "execution_count": 4,
      "outputs": []
    },
    {
      "cell_type": "code",
      "source": [
        "class BookDataset(torch.utils.data.Dataset):\n",
        "\n",
        "    def __init__(self, encoded_book, window_size = 64, limit = None):\n",
        "        super().__init__()\n",
        "        self._encoded_book = encoded_book\n",
        "        self._window_size = window_size\n",
        "        #\n",
        "        # For index i, we need window_size + i + 1 still to be a valid \n",
        "        # index into the encoded book, i.e. the index we can serve is constrained by\n",
        "        # i  < len(book) - window_size - 1\n",
        "        # so that the length of our dataset is len(book) - window_size - 1\n",
        "        if limit is None:\n",
        "            self._len = len(self._encoded_book) - window_size - 1\n",
        "        else:\n",
        "            self._len = limit\n",
        "        assert self._len > 0, \"Book is to short, please validate input file\"\n",
        " \n",
        "    def __getitem__(self, i):\n",
        "        if (i < self._len):\n",
        "            x = self._encoded_book[i: i + self._window_size]\n",
        "            y = self._encoded_book[i + 1: i + self._window_size + 1]\n",
        "            return torch.tensor(x), torch.tensor(y)\n",
        "        else:\n",
        "            raise KeyError\n",
        "\n",
        "    def __len__(self):\n",
        "        return self._len\n",
        "\n",
        "\n",
        "#\n",
        "# Collate function for batch loading\n",
        "# We use the second dimension as the batch dimension\n",
        "# so that the output has shape L x B\n",
        "#\n",
        "def collate_fn(list):\n",
        "    batch_size = len(list)\n",
        "    _x = []\n",
        "    _y = []\n",
        "    for i in list:\n",
        "        x,y = i\n",
        "        _x.append(x)\n",
        "        _y.append(y)\n",
        "    return torch.stack(_x, dim = 1), torch.stack(_y, dim = 1)\n"
      ],
      "metadata": {
        "id": "4ilEW-hbNPvj"
      },
      "execution_count": 5,
      "outputs": []
    },
    {
      "cell_type": "code",
      "source": [
        "#\n",
        "# Training parameters\n",
        "#\n",
        "LR = 0.001\n",
        "DROPOUT = 0.2\n",
        "WINDOW_SIZE = 64\n",
        "EPOCHS = 7\n",
        "BATCH_SIZE=1024\n"
      ],
      "metadata": {
        "id": "0q-Xyr-_NoK2"
      },
      "execution_count": 6,
      "outputs": []
    },
    {
      "cell_type": "code",
      "source": [
        "import time\n",
        "#\n",
        "# A simple training loop\n",
        "#\n",
        "def train(model, epochs, train_data_loader, val_data_loader, lr = LR, device = \"cpu\", log_steps = 250):\n",
        "    losses = []\n",
        "    optimizer = torch.optim.Adam(model.parameters(), lr = lr)\n",
        "    loss_fn = torch.nn.functional.cross_entropy\n",
        "    steps = 0    \n",
        "    start_logging_period = time.time()\n",
        "    model.train()\n",
        "        \n",
        "    for epoch in range(epochs):\n",
        "        start_epoch = time.time()\n",
        "        for x, y in tqdm.tqdm(train_data_loader,desc = f\"Epoch {epoch}\"):\n",
        "            steps += 1\n",
        "            optimizer.zero_grad()\n",
        "\n",
        "            f, _ = model(x.to(device))\n",
        "            V = f.shape[2]\n",
        "            f = f.view(-1, V)            \n",
        "            y = y.to(device).flatten()\n",
        "            loss = loss_fn(f, y)\n",
        "            loss.backward()\n",
        "            optimizer.step()\n",
        "\n",
        "            losses.append(loss.item())\n",
        "\n",
        "            if (0 == (steps % log_steps)):\n",
        "                time_per_step = (time.time() - start_logging_period) / log_steps\n",
        "                start_logging_period = time.time()\n",
        "                print(f\"Completed {steps} steps ({time_per_step:.3f} seconds per step), current loss is {loss.item()}\")\n",
        "\n",
        "        elapsed_time = time.time() - start_epoch\n",
        "        #\n",
        "        # Do validation\n",
        "        #\n",
        "        val_loss = 0\n",
        "        items_in_val = 0\n",
        "        if val_data_loader is not None:\n",
        "            model.eval()\n",
        "            with torch.no_grad():\n",
        "                for x, y in val_data_loader:\n",
        "                    f, _ = model(x.to(device))\n",
        "                    f = f.view(-1, V)            \n",
        "                    y = y.to(device).flatten()\n",
        "                    val_loss = val_loss + loss_fn(f, y).item()\n",
        "                    items_in_val += 1\n",
        "            val_loss = val_loss / items_in_val\n",
        "            model.train()\n",
        "        print(f\"Completed epoch {epoch}, validation loss is {val_loss}, duration {elapsed_time} seconds, {steps} done in total\")\n",
        "    \n",
        "    return losses\n",
        "\n"
      ],
      "metadata": {
        "id": "e7MR2ndlNry7"
      },
      "execution_count": 7,
      "outputs": []
    },
    {
      "cell_type": "code",
      "source": [
        "train_ds = BookDataset(train_book, window_size = WINDOW_SIZE)\n",
        "val_ds  = BookDataset(val_book, window_size = WINDOW_SIZE)\n",
        "print(f\"Using data set with {len(train_ds)} training items and {len(val_ds)} validation items\")\n"
      ],
      "metadata": {
        "colab": {
          "base_uri": "https://localhost:8080/"
        },
        "id": "mKmSg6CWN2CD",
        "outputId": "1ab7714f-da3d-45d5-fd1f-08b2e8f8907f"
      },
      "execution_count": 8,
      "outputs": [
        {
          "output_type": "stream",
          "name": "stdout",
          "text": [
            "Using data set with 2852607 training items and 316899 validation items\n"
          ]
        }
      ]
    },
    {
      "cell_type": "code",
      "source": [
        "training_data = torch.utils.data.DataLoader(train_ds, batch_size = BATCH_SIZE, \n",
        "                                            collate_fn = collate_fn, \n",
        "                                            shuffle = True, \n",
        "                                            drop_last = True, \n",
        "                                            num_workers = 2)\n",
        "val_data = torch.utils.data.DataLoader(val_ds, batch_size = BATCH_SIZE, \n",
        "                                            collate_fn = collate_fn, \n",
        "                                            shuffle = True, \n",
        "                                            drop_last = True)\n"
      ],
      "metadata": {
        "id": "TDUNW7W3OHOg"
      },
      "execution_count": 9,
      "outputs": []
    },
    {
      "cell_type": "code",
      "source": [
        "device = \"cuda\" if torch.cuda.is_available() else \"cpu\"\n",
        "V = len(vocab)\n",
        "_model = TheModel(vocab_size = V,  dropout = DROPOUT).to(device)\n",
        "print(_model)\n",
        "losses = []\n",
        "steps_per_epoch = train_ds.__len__() // BATCH_SIZE\n",
        "print(f\"Training for {EPOCHS} epochs ({steps_per_epoch} steps per epoch), using device {device} and batch size {BATCH_SIZE}, lr = {LR}\")\n",
        "start_time = time.time()\n",
        "losses = train(_model, \n",
        "               epochs = EPOCHS, \n",
        "               train_data_loader = training_data,\n",
        "               val_data_loader = val_data, \n",
        "               device = device, \n",
        "               log_steps = 250, \n",
        "               lr = LR)\n",
        "  \n"
      ],
      "metadata": {
        "colab": {
          "base_uri": "https://localhost:8080/"
        },
        "id": "E4pLSK6COP7u",
        "outputId": "652b4920-6c3d-4435-86a5-aaafc1fc3da0"
      },
      "execution_count": 10,
      "outputs": [
        {
          "output_type": "stream",
          "name": "stdout",
          "text": [
            "TheModel(\n",
            "  (_embedding): Embedding(70, 32)\n",
            "  (_lstm): LSTM(32, 128, num_layers=4, dropout=0.2)\n",
            "  (_out): Linear(in_features=128, out_features=70, bias=True)\n",
            ")\n",
            "Training for 7 epochs (2785 steps per epoch), using device cuda and batch size 1024, lr = 0.001\n"
          ]
        },
        {
          "output_type": "stream",
          "name": "stderr",
          "text": [
            "Epoch 0:   9%|▉         | 251/2785 [00:28<04:31,  9.34it/s]"
          ]
        },
        {
          "output_type": "stream",
          "name": "stdout",
          "text": [
            "Completed 250 steps (0.114 seconds per step), current loss is 2.9995646476745605\n"
          ]
        },
        {
          "output_type": "stream",
          "name": "stderr",
          "text": [
            "Epoch 0:  18%|█▊        | 501/2785 [00:54<04:06,  9.26it/s]"
          ]
        },
        {
          "output_type": "stream",
          "name": "stdout",
          "text": [
            "Completed 500 steps (0.104 seconds per step), current loss is 2.546661138534546\n"
          ]
        },
        {
          "output_type": "stream",
          "name": "stderr",
          "text": [
            "Epoch 0:  27%|██▋       | 751/2785 [01:21<03:47,  8.93it/s]"
          ]
        },
        {
          "output_type": "stream",
          "name": "stdout",
          "text": [
            "Completed 750 steps (0.106 seconds per step), current loss is 2.1884469985961914\n"
          ]
        },
        {
          "output_type": "stream",
          "name": "stderr",
          "text": [
            "Epoch 0:  36%|███▌      | 1001/2785 [01:48<03:18,  9.00it/s]"
          ]
        },
        {
          "output_type": "stream",
          "name": "stdout",
          "text": [
            "Completed 1000 steps (0.108 seconds per step), current loss is 1.9741411209106445\n"
          ]
        },
        {
          "output_type": "stream",
          "name": "stderr",
          "text": [
            "Epoch 0:  45%|████▍     | 1251/2785 [02:15<02:45,  9.25it/s]"
          ]
        },
        {
          "output_type": "stream",
          "name": "stdout",
          "text": [
            "Completed 1250 steps (0.109 seconds per step), current loss is 1.8640658855438232\n"
          ]
        },
        {
          "output_type": "stream",
          "name": "stderr",
          "text": [
            "Epoch 0:  54%|█████▍    | 1501/2785 [02:43<02:21,  9.07it/s]"
          ]
        },
        {
          "output_type": "stream",
          "name": "stdout",
          "text": [
            "Completed 1500 steps (0.111 seconds per step), current loss is 1.755682349205017\n"
          ]
        },
        {
          "output_type": "stream",
          "name": "stderr",
          "text": [
            "Epoch 0:  63%|██████▎   | 1751/2785 [03:11<01:54,  9.03it/s]"
          ]
        },
        {
          "output_type": "stream",
          "name": "stdout",
          "text": [
            "Completed 1750 steps (0.111 seconds per step), current loss is 1.7011827230453491\n"
          ]
        },
        {
          "output_type": "stream",
          "name": "stderr",
          "text": [
            "Epoch 0:  72%|███████▏  | 2001/2785 [03:38<01:24,  9.24it/s]"
          ]
        },
        {
          "output_type": "stream",
          "name": "stdout",
          "text": [
            "Completed 2000 steps (0.111 seconds per step), current loss is 1.6291804313659668\n"
          ]
        },
        {
          "output_type": "stream",
          "name": "stderr",
          "text": [
            "Epoch 0:  81%|████████  | 2251/2785 [04:06<01:00,  8.79it/s]"
          ]
        },
        {
          "output_type": "stream",
          "name": "stdout",
          "text": [
            "Completed 2250 steps (0.112 seconds per step), current loss is 1.5921344757080078\n"
          ]
        },
        {
          "output_type": "stream",
          "name": "stderr",
          "text": [
            "Epoch 0:  90%|████████▉ | 2501/2785 [04:34<00:31,  9.12it/s]"
          ]
        },
        {
          "output_type": "stream",
          "name": "stdout",
          "text": [
            "Completed 2500 steps (0.111 seconds per step), current loss is 1.5530152320861816\n"
          ]
        },
        {
          "output_type": "stream",
          "name": "stderr",
          "text": [
            "Epoch 0:  99%|█████████▉| 2751/2785 [05:02<00:03,  9.18it/s]"
          ]
        },
        {
          "output_type": "stream",
          "name": "stdout",
          "text": [
            "Completed 2750 steps (0.111 seconds per step), current loss is 1.5109808444976807\n"
          ]
        },
        {
          "output_type": "stream",
          "name": "stderr",
          "text": [
            "Epoch 0: 100%|██████████| 2785/2785 [05:06<00:00,  9.09it/s]\n"
          ]
        },
        {
          "output_type": "stream",
          "name": "stdout",
          "text": [
            "Completed epoch 0, validation loss is 1.5214068384232258, duration 306.3944625854492 seconds, 2785 done in total\n"
          ]
        },
        {
          "output_type": "stream",
          "name": "stderr",
          "text": [
            "Epoch 1:   8%|▊         | 216/2785 [00:24<04:45,  8.99it/s]"
          ]
        },
        {
          "output_type": "stream",
          "name": "stdout",
          "text": [
            "Completed 3000 steps (0.204 seconds per step), current loss is 1.4848177433013916\n"
          ]
        },
        {
          "output_type": "stream",
          "name": "stderr",
          "text": [
            "Epoch 1:  17%|█▋        | 466/2785 [00:52<04:13,  9.15it/s]"
          ]
        },
        {
          "output_type": "stream",
          "name": "stdout",
          "text": [
            "Completed 3250 steps (0.111 seconds per step), current loss is 1.4573642015457153\n"
          ]
        },
        {
          "output_type": "stream",
          "name": "stderr",
          "text": [
            "Epoch 1:  26%|██▌       | 716/2785 [01:20<03:47,  9.09it/s]"
          ]
        },
        {
          "output_type": "stream",
          "name": "stdout",
          "text": [
            "Completed 3500 steps (0.111 seconds per step), current loss is 1.4451818466186523\n"
          ]
        },
        {
          "output_type": "stream",
          "name": "stderr",
          "text": [
            "Epoch 1:  35%|███▍      | 966/2785 [01:48<03:22,  9.00it/s]"
          ]
        },
        {
          "output_type": "stream",
          "name": "stdout",
          "text": [
            "Completed 3750 steps (0.111 seconds per step), current loss is 1.4343540668487549\n"
          ]
        },
        {
          "output_type": "stream",
          "name": "stderr",
          "text": [
            "Epoch 1:  44%|████▎     | 1216/2785 [02:15<03:02,  8.61it/s]"
          ]
        },
        {
          "output_type": "stream",
          "name": "stdout",
          "text": [
            "Completed 4000 steps (0.112 seconds per step), current loss is 1.4070688486099243\n"
          ]
        },
        {
          "output_type": "stream",
          "name": "stderr",
          "text": [
            "Epoch 1:  53%|█████▎    | 1466/2785 [02:44<02:24,  9.15it/s]"
          ]
        },
        {
          "output_type": "stream",
          "name": "stdout",
          "text": [
            "Completed 4250 steps (0.112 seconds per step), current loss is 1.3886675834655762\n"
          ]
        },
        {
          "output_type": "stream",
          "name": "stderr",
          "text": [
            "Epoch 1:  62%|██████▏   | 1716/2785 [03:11<01:59,  8.98it/s]"
          ]
        },
        {
          "output_type": "stream",
          "name": "stdout",
          "text": [
            "Completed 4500 steps (0.111 seconds per step), current loss is 1.386600136756897\n"
          ]
        },
        {
          "output_type": "stream",
          "name": "stderr",
          "text": [
            "Epoch 1:  71%|███████   | 1966/2785 [03:39<01:30,  9.01it/s]"
          ]
        },
        {
          "output_type": "stream",
          "name": "stdout",
          "text": [
            "Completed 4750 steps (0.111 seconds per step), current loss is 1.3744481801986694\n"
          ]
        },
        {
          "output_type": "stream",
          "name": "stderr",
          "text": [
            "Epoch 1:  80%|███████▉  | 2216/2785 [04:07<01:02,  9.12it/s]"
          ]
        },
        {
          "output_type": "stream",
          "name": "stdout",
          "text": [
            "Completed 5000 steps (0.111 seconds per step), current loss is 1.3659141063690186\n"
          ]
        },
        {
          "output_type": "stream",
          "name": "stderr",
          "text": [
            "Epoch 1:  89%|████████▊ | 2466/2785 [04:35<00:35,  8.90it/s]"
          ]
        },
        {
          "output_type": "stream",
          "name": "stdout",
          "text": [
            "Completed 5250 steps (0.111 seconds per step), current loss is 1.3453865051269531\n"
          ]
        },
        {
          "output_type": "stream",
          "name": "stderr",
          "text": [
            "Epoch 1:  98%|█████████▊| 2716/2785 [05:03<00:07,  8.77it/s]"
          ]
        },
        {
          "output_type": "stream",
          "name": "stdout",
          "text": [
            "Completed 5500 steps (0.112 seconds per step), current loss is 1.3442890644073486\n"
          ]
        },
        {
          "output_type": "stream",
          "name": "stderr",
          "text": [
            "Epoch 1: 100%|██████████| 2785/2785 [05:10<00:00,  8.96it/s]\n"
          ]
        },
        {
          "output_type": "stream",
          "name": "stdout",
          "text": [
            "Completed epoch 1, validation loss is 1.360988477287169, duration 310.98856496810913 seconds, 5570 done in total\n"
          ]
        },
        {
          "output_type": "stream",
          "name": "stderr",
          "text": [
            "Epoch 2:   6%|▋         | 181/2785 [00:20<04:49,  9.01it/s]"
          ]
        },
        {
          "output_type": "stream",
          "name": "stdout",
          "text": [
            "Completed 5750 steps (0.204 seconds per step), current loss is 1.3282932043075562\n"
          ]
        },
        {
          "output_type": "stream",
          "name": "stderr",
          "text": [
            "Epoch 2:  15%|█▌        | 431/2785 [00:48<04:20,  9.03it/s]"
          ]
        },
        {
          "output_type": "stream",
          "name": "stdout",
          "text": [
            "Completed 6000 steps (0.112 seconds per step), current loss is 1.3210567235946655\n"
          ]
        },
        {
          "output_type": "stream",
          "name": "stderr",
          "text": [
            "Epoch 2:  24%|██▍       | 681/2785 [01:16<03:53,  9.00it/s]"
          ]
        },
        {
          "output_type": "stream",
          "name": "stdout",
          "text": [
            "Completed 6250 steps (0.111 seconds per step), current loss is 1.3280755281448364\n"
          ]
        },
        {
          "output_type": "stream",
          "name": "stderr",
          "text": [
            "Epoch 2:  33%|███▎      | 931/2785 [01:44<03:22,  9.17it/s]"
          ]
        },
        {
          "output_type": "stream",
          "name": "stdout",
          "text": [
            "Completed 6500 steps (0.111 seconds per step), current loss is 1.3344682455062866\n"
          ]
        },
        {
          "output_type": "stream",
          "name": "stderr",
          "text": [
            "Epoch 2:  42%|████▏     | 1181/2785 [02:11<03:00,  8.89it/s]"
          ]
        },
        {
          "output_type": "stream",
          "name": "stdout",
          "text": [
            "Completed 6750 steps (0.112 seconds per step), current loss is 1.3031132221221924\n"
          ]
        },
        {
          "output_type": "stream",
          "name": "stderr",
          "text": [
            "Epoch 2:  51%|█████▏    | 1431/2785 [02:40<02:35,  8.73it/s]"
          ]
        },
        {
          "output_type": "stream",
          "name": "stdout",
          "text": [
            "Completed 7000 steps (0.112 seconds per step), current loss is 1.3004746437072754\n"
          ]
        },
        {
          "output_type": "stream",
          "name": "stderr",
          "text": [
            "Epoch 2:  60%|██████    | 1681/2785 [03:07<02:03,  8.93it/s]"
          ]
        },
        {
          "output_type": "stream",
          "name": "stdout",
          "text": [
            "Completed 7250 steps (0.111 seconds per step), current loss is 1.3036197423934937\n"
          ]
        },
        {
          "output_type": "stream",
          "name": "stderr",
          "text": [
            "Epoch 2:  69%|██████▉   | 1931/2785 [03:35<01:33,  9.16it/s]"
          ]
        },
        {
          "output_type": "stream",
          "name": "stdout",
          "text": [
            "Completed 7500 steps (0.112 seconds per step), current loss is 1.2985419034957886\n"
          ]
        },
        {
          "output_type": "stream",
          "name": "stderr",
          "text": [
            "Epoch 2:  78%|███████▊  | 2181/2785 [04:03<01:06,  9.09it/s]"
          ]
        },
        {
          "output_type": "stream",
          "name": "stdout",
          "text": [
            "Completed 7750 steps (0.112 seconds per step), current loss is 1.2788753509521484\n"
          ]
        },
        {
          "output_type": "stream",
          "name": "stderr",
          "text": [
            "Epoch 2:  87%|████████▋ | 2431/2785 [04:31<00:42,  8.33it/s]"
          ]
        },
        {
          "output_type": "stream",
          "name": "stdout",
          "text": [
            "Completed 8000 steps (0.111 seconds per step), current loss is 1.2909075021743774\n"
          ]
        },
        {
          "output_type": "stream",
          "name": "stderr",
          "text": [
            "Epoch 2:  96%|█████████▋| 2681/2785 [04:59<00:11,  8.91it/s]"
          ]
        },
        {
          "output_type": "stream",
          "name": "stdout",
          "text": [
            "Completed 8250 steps (0.111 seconds per step), current loss is 1.2726150751113892\n"
          ]
        },
        {
          "output_type": "stream",
          "name": "stderr",
          "text": [
            "Epoch 2: 100%|██████████| 2785/2785 [05:11<00:00,  8.94it/s]\n"
          ]
        },
        {
          "output_type": "stream",
          "name": "stdout",
          "text": [
            "Completed epoch 2, validation loss is 1.3155826488359075, duration 311.3835115432739 seconds, 8355 done in total\n"
          ]
        },
        {
          "output_type": "stream",
          "name": "stderr",
          "text": [
            "Epoch 3:   5%|▌         | 146/2785 [00:16<05:06,  8.62it/s]"
          ]
        },
        {
          "output_type": "stream",
          "name": "stdout",
          "text": [
            "Completed 8500 steps (0.204 seconds per step), current loss is 1.2720352411270142\n"
          ]
        },
        {
          "output_type": "stream",
          "name": "stderr",
          "text": [
            "Epoch 3:  14%|█▍        | 396/2785 [00:44<04:22,  9.10it/s]"
          ]
        },
        {
          "output_type": "stream",
          "name": "stdout",
          "text": [
            "Completed 8750 steps (0.112 seconds per step), current loss is 1.266629934310913\n"
          ]
        },
        {
          "output_type": "stream",
          "name": "stderr",
          "text": [
            "Epoch 3:  23%|██▎       | 646/2785 [01:12<03:59,  8.94it/s]"
          ]
        },
        {
          "output_type": "stream",
          "name": "stdout",
          "text": [
            "Completed 9000 steps (0.112 seconds per step), current loss is 1.2605295181274414\n"
          ]
        },
        {
          "output_type": "stream",
          "name": "stderr",
          "text": [
            "Epoch 3:  32%|███▏      | 896/2785 [01:40<03:28,  9.08it/s]"
          ]
        },
        {
          "output_type": "stream",
          "name": "stdout",
          "text": [
            "Completed 9250 steps (0.111 seconds per step), current loss is 1.2646225690841675\n"
          ]
        },
        {
          "output_type": "stream",
          "name": "stderr",
          "text": [
            "Epoch 3:  41%|████      | 1146/2785 [02:08<03:01,  9.03it/s]"
          ]
        },
        {
          "output_type": "stream",
          "name": "stdout",
          "text": [
            "Completed 9500 steps (0.111 seconds per step), current loss is 1.2697135210037231\n"
          ]
        },
        {
          "output_type": "stream",
          "name": "stderr",
          "text": [
            "Epoch 3:  50%|█████     | 1396/2785 [02:36<02:37,  8.81it/s]"
          ]
        },
        {
          "output_type": "stream",
          "name": "stdout",
          "text": [
            "Completed 9750 steps (0.111 seconds per step), current loss is 1.2649306058883667\n"
          ]
        },
        {
          "output_type": "stream",
          "name": "stderr",
          "text": [
            "Epoch 3:  59%|█████▉    | 1646/2785 [03:04<02:10,  8.76it/s]"
          ]
        },
        {
          "output_type": "stream",
          "name": "stdout",
          "text": [
            "Completed 10000 steps (0.112 seconds per step), current loss is 1.2583186626434326\n"
          ]
        },
        {
          "output_type": "stream",
          "name": "stderr",
          "text": [
            "Epoch 3:  68%|██████▊   | 1896/2785 [03:31<01:38,  9.07it/s]"
          ]
        },
        {
          "output_type": "stream",
          "name": "stdout",
          "text": [
            "Completed 10250 steps (0.111 seconds per step), current loss is 1.2504627704620361\n"
          ]
        },
        {
          "output_type": "stream",
          "name": "stderr",
          "text": [
            "Epoch 3:  77%|███████▋  | 2146/2785 [03:59<01:10,  9.01it/s]"
          ]
        },
        {
          "output_type": "stream",
          "name": "stdout",
          "text": [
            "Completed 10500 steps (0.111 seconds per step), current loss is 1.2433819770812988\n"
          ]
        },
        {
          "output_type": "stream",
          "name": "stderr",
          "text": [
            "Epoch 3:  86%|████████▌ | 2396/2785 [04:27<00:42,  9.09it/s]"
          ]
        },
        {
          "output_type": "stream",
          "name": "stdout",
          "text": [
            "Completed 10750 steps (0.112 seconds per step), current loss is 1.2530035972595215\n"
          ]
        },
        {
          "output_type": "stream",
          "name": "stderr",
          "text": [
            "Epoch 3:  95%|█████████▌| 2646/2785 [04:55<00:15,  9.01it/s]"
          ]
        },
        {
          "output_type": "stream",
          "name": "stdout",
          "text": [
            "Completed 11000 steps (0.111 seconds per step), current loss is 1.2407712936401367\n"
          ]
        },
        {
          "output_type": "stream",
          "name": "stderr",
          "text": [
            "Epoch 3: 100%|██████████| 2785/2785 [05:11<00:00,  8.94it/s]\n"
          ]
        },
        {
          "output_type": "stream",
          "name": "stdout",
          "text": [
            "Completed epoch 3, validation loss is 1.296902580940222, duration 311.36900305747986 seconds, 11140 done in total\n"
          ]
        },
        {
          "output_type": "stream",
          "name": "stderr",
          "text": [
            "Epoch 4:   4%|▍         | 111/2785 [00:12<04:52,  9.14it/s]"
          ]
        },
        {
          "output_type": "stream",
          "name": "stdout",
          "text": [
            "Completed 11250 steps (0.202 seconds per step), current loss is 1.252968668937683\n"
          ]
        },
        {
          "output_type": "stream",
          "name": "stderr",
          "text": [
            "Epoch 4:  13%|█▎        | 361/2785 [00:40<04:37,  8.73it/s]"
          ]
        },
        {
          "output_type": "stream",
          "name": "stdout",
          "text": [
            "Completed 11500 steps (0.111 seconds per step), current loss is 1.2405009269714355\n"
          ]
        },
        {
          "output_type": "stream",
          "name": "stderr",
          "text": [
            "Epoch 4:  22%|██▏       | 611/2785 [01:08<03:59,  9.09it/s]"
          ]
        },
        {
          "output_type": "stream",
          "name": "stdout",
          "text": [
            "Completed 11750 steps (0.112 seconds per step), current loss is 1.2435894012451172\n"
          ]
        },
        {
          "output_type": "stream",
          "name": "stderr",
          "text": [
            "Epoch 4:  31%|███       | 861/2785 [01:36<03:34,  8.98it/s]"
          ]
        },
        {
          "output_type": "stream",
          "name": "stdout",
          "text": [
            "Completed 12000 steps (0.112 seconds per step), current loss is 1.2310340404510498\n"
          ]
        },
        {
          "output_type": "stream",
          "name": "stderr",
          "text": [
            "Epoch 4:  40%|███▉      | 1111/2785 [02:04<03:05,  9.01it/s]"
          ]
        },
        {
          "output_type": "stream",
          "name": "stdout",
          "text": [
            "Completed 12250 steps (0.111 seconds per step), current loss is 1.229120135307312\n"
          ]
        },
        {
          "output_type": "stream",
          "name": "stderr",
          "text": [
            "Epoch 4:  49%|████▉     | 1361/2785 [02:32<02:38,  8.98it/s]"
          ]
        },
        {
          "output_type": "stream",
          "name": "stdout",
          "text": [
            "Completed 12500 steps (0.112 seconds per step), current loss is 1.236557960510254\n"
          ]
        },
        {
          "output_type": "stream",
          "name": "stderr",
          "text": [
            "Epoch 4:  58%|█████▊    | 1611/2785 [03:00<02:11,  8.94it/s]"
          ]
        },
        {
          "output_type": "stream",
          "name": "stdout",
          "text": [
            "Completed 12750 steps (0.111 seconds per step), current loss is 1.2366726398468018\n"
          ]
        },
        {
          "output_type": "stream",
          "name": "stderr",
          "text": [
            "Epoch 4:  67%|██████▋   | 1861/2785 [03:28<01:46,  8.70it/s]"
          ]
        },
        {
          "output_type": "stream",
          "name": "stdout",
          "text": [
            "Completed 13000 steps (0.112 seconds per step), current loss is 1.2294689416885376\n"
          ]
        },
        {
          "output_type": "stream",
          "name": "stderr",
          "text": [
            "Epoch 4:  76%|███████▌  | 2111/2785 [03:55<01:14,  9.01it/s]"
          ]
        },
        {
          "output_type": "stream",
          "name": "stdout",
          "text": [
            "Completed 13250 steps (0.111 seconds per step), current loss is 1.2166868448257446\n"
          ]
        },
        {
          "output_type": "stream",
          "name": "stderr",
          "text": [
            "Epoch 4:  85%|████████▍ | 2361/2785 [04:23<00:46,  9.20it/s]"
          ]
        },
        {
          "output_type": "stream",
          "name": "stdout",
          "text": [
            "Completed 13500 steps (0.111 seconds per step), current loss is 1.2220007181167603\n"
          ]
        },
        {
          "output_type": "stream",
          "name": "stderr",
          "text": [
            "Epoch 4:  94%|█████████▍| 2611/2785 [04:51<00:19,  9.09it/s]"
          ]
        },
        {
          "output_type": "stream",
          "name": "stdout",
          "text": [
            "Completed 13750 steps (0.111 seconds per step), current loss is 1.221069574356079\n"
          ]
        },
        {
          "output_type": "stream",
          "name": "stderr",
          "text": [
            "Epoch 4: 100%|██████████| 2785/2785 [05:11<00:00,  8.95it/s]\n"
          ]
        },
        {
          "output_type": "stream",
          "name": "stdout",
          "text": [
            "Completed epoch 4, validation loss is 1.2848480581079873, duration 311.2053368091583 seconds, 13925 done in total\n"
          ]
        },
        {
          "output_type": "stream",
          "name": "stderr",
          "text": [
            "Epoch 5:   3%|▎         | 76/2785 [00:08<04:57,  9.11it/s]"
          ]
        },
        {
          "output_type": "stream",
          "name": "stdout",
          "text": [
            "Completed 14000 steps (0.202 seconds per step), current loss is 1.2306522130966187\n"
          ]
        },
        {
          "output_type": "stream",
          "name": "stderr",
          "text": [
            "Epoch 5:  12%|█▏        | 326/2785 [00:36<04:39,  8.79it/s]"
          ]
        },
        {
          "output_type": "stream",
          "name": "stdout",
          "text": [
            "Completed 14250 steps (0.112 seconds per step), current loss is 1.2271313667297363\n"
          ]
        },
        {
          "output_type": "stream",
          "name": "stderr",
          "text": [
            "Epoch 5:  21%|██        | 576/2785 [01:04<04:02,  9.11it/s]"
          ]
        },
        {
          "output_type": "stream",
          "name": "stdout",
          "text": [
            "Completed 14500 steps (0.111 seconds per step), current loss is 1.2187557220458984\n"
          ]
        },
        {
          "output_type": "stream",
          "name": "stderr",
          "text": [
            "Epoch 5:  30%|██▉       | 826/2785 [01:32<03:42,  8.80it/s]"
          ]
        },
        {
          "output_type": "stream",
          "name": "stdout",
          "text": [
            "Completed 14750 steps (0.112 seconds per step), current loss is 1.219143033027649\n"
          ]
        },
        {
          "output_type": "stream",
          "name": "stderr",
          "text": [
            "Epoch 5:  39%|███▊      | 1076/2785 [02:00<03:06,  9.17it/s]"
          ]
        },
        {
          "output_type": "stream",
          "name": "stdout",
          "text": [
            "Completed 15000 steps (0.112 seconds per step), current loss is 1.2215403318405151\n"
          ]
        },
        {
          "output_type": "stream",
          "name": "stderr",
          "text": [
            "Epoch 5:  48%|████▊     | 1326/2785 [02:28<02:42,  9.00it/s]"
          ]
        },
        {
          "output_type": "stream",
          "name": "stdout",
          "text": [
            "Completed 15250 steps (0.111 seconds per step), current loss is 1.2160032987594604\n"
          ]
        },
        {
          "output_type": "stream",
          "name": "stderr",
          "text": [
            "Epoch 5:  57%|█████▋    | 1576/2785 [02:56<02:13,  9.07it/s]"
          ]
        },
        {
          "output_type": "stream",
          "name": "stdout",
          "text": [
            "Completed 15500 steps (0.111 seconds per step), current loss is 1.2239692211151123\n"
          ]
        },
        {
          "output_type": "stream",
          "name": "stderr",
          "text": [
            "Epoch 5:  66%|██████▌   | 1826/2785 [03:24<01:47,  8.91it/s]"
          ]
        },
        {
          "output_type": "stream",
          "name": "stdout",
          "text": [
            "Completed 15750 steps (0.111 seconds per step), current loss is 1.2253355979919434\n"
          ]
        },
        {
          "output_type": "stream",
          "name": "stderr",
          "text": [
            "Epoch 5:  75%|███████▍  | 2076/2785 [03:52<01:19,  8.92it/s]"
          ]
        },
        {
          "output_type": "stream",
          "name": "stdout",
          "text": [
            "Completed 16000 steps (0.112 seconds per step), current loss is 1.2124030590057373\n"
          ]
        },
        {
          "output_type": "stream",
          "name": "stderr",
          "text": [
            "Epoch 5:  84%|████████▎ | 2326/2785 [04:20<00:53,  8.62it/s]"
          ]
        },
        {
          "output_type": "stream",
          "name": "stdout",
          "text": [
            "Completed 16250 steps (0.112 seconds per step), current loss is 1.2208473682403564\n"
          ]
        },
        {
          "output_type": "stream",
          "name": "stderr",
          "text": [
            "Epoch 5:  92%|█████████▏| 2576/2785 [04:47<00:22,  9.17it/s]"
          ]
        },
        {
          "output_type": "stream",
          "name": "stdout",
          "text": [
            "Completed 16500 steps (0.111 seconds per step), current loss is 1.20844304561615\n"
          ]
        },
        {
          "output_type": "stream",
          "name": "stderr",
          "text": [
            "Epoch 5: 100%|██████████| 2785/2785 [05:11<00:00,  8.94it/s]\n"
          ]
        },
        {
          "output_type": "stream",
          "name": "stdout",
          "text": [
            "Completed epoch 5, validation loss is 1.2771915324683327, duration 311.59077429771423 seconds, 16710 done in total\n"
          ]
        },
        {
          "output_type": "stream",
          "name": "stderr",
          "text": [
            "Epoch 6:   1%|▏         | 41/2785 [00:05<04:58,  9.18it/s]"
          ]
        },
        {
          "output_type": "stream",
          "name": "stdout",
          "text": [
            "Completed 16750 steps (0.203 seconds per step), current loss is 1.2110888957977295\n"
          ]
        },
        {
          "output_type": "stream",
          "name": "stderr",
          "text": [
            "Epoch 6:  10%|█         | 291/2785 [00:32<04:37,  8.97it/s]"
          ]
        },
        {
          "output_type": "stream",
          "name": "stdout",
          "text": [
            "Completed 17000 steps (0.112 seconds per step), current loss is 1.2183605432510376\n"
          ]
        },
        {
          "output_type": "stream",
          "name": "stderr",
          "text": [
            "Epoch 6:  19%|█▉        | 541/2785 [01:00<04:08,  9.04it/s]"
          ]
        },
        {
          "output_type": "stream",
          "name": "stdout",
          "text": [
            "Completed 17250 steps (0.112 seconds per step), current loss is 1.2246614694595337\n"
          ]
        },
        {
          "output_type": "stream",
          "name": "stderr",
          "text": [
            "Epoch 6:  28%|██▊       | 791/2785 [01:28<03:41,  9.02it/s]"
          ]
        },
        {
          "output_type": "stream",
          "name": "stdout",
          "text": [
            "Completed 17500 steps (0.111 seconds per step), current loss is 1.2064162492752075\n"
          ]
        },
        {
          "output_type": "stream",
          "name": "stderr",
          "text": [
            "Epoch 6:  37%|███▋      | 1041/2785 [01:56<03:17,  8.82it/s]"
          ]
        },
        {
          "output_type": "stream",
          "name": "stdout",
          "text": [
            "Completed 17750 steps (0.111 seconds per step), current loss is 1.2139626741409302\n"
          ]
        },
        {
          "output_type": "stream",
          "name": "stderr",
          "text": [
            "Epoch 6:  46%|████▋     | 1291/2785 [02:24<02:47,  8.94it/s]"
          ]
        },
        {
          "output_type": "stream",
          "name": "stdout",
          "text": [
            "Completed 18000 steps (0.112 seconds per step), current loss is 1.2182852029800415\n"
          ]
        },
        {
          "output_type": "stream",
          "name": "stderr",
          "text": [
            "Epoch 6:  55%|█████▌    | 1541/2785 [02:52<02:15,  9.21it/s]"
          ]
        },
        {
          "output_type": "stream",
          "name": "stdout",
          "text": [
            "Completed 18250 steps (0.112 seconds per step), current loss is 1.207981824874878\n"
          ]
        },
        {
          "output_type": "stream",
          "name": "stderr",
          "text": [
            "Epoch 6:  64%|██████▍   | 1791/2785 [03:20<01:49,  9.11it/s]"
          ]
        },
        {
          "output_type": "stream",
          "name": "stdout",
          "text": [
            "Completed 18500 steps (0.112 seconds per step), current loss is 1.1958818435668945\n"
          ]
        },
        {
          "output_type": "stream",
          "name": "stderr",
          "text": [
            "Epoch 6:  73%|███████▎  | 2041/2785 [03:47<01:22,  9.04it/s]"
          ]
        },
        {
          "output_type": "stream",
          "name": "stdout",
          "text": [
            "Completed 18750 steps (0.111 seconds per step), current loss is 1.2059664726257324\n"
          ]
        },
        {
          "output_type": "stream",
          "name": "stderr",
          "text": [
            "Epoch 6:  82%|████████▏ | 2291/2785 [04:15<00:54,  9.04it/s]"
          ]
        },
        {
          "output_type": "stream",
          "name": "stdout",
          "text": [
            "Completed 19000 steps (0.111 seconds per step), current loss is 1.202332854270935\n"
          ]
        },
        {
          "output_type": "stream",
          "name": "stderr",
          "text": [
            "Epoch 6:  91%|█████████ | 2541/2785 [04:43<00:27,  8.75it/s]"
          ]
        },
        {
          "output_type": "stream",
          "name": "stdout",
          "text": [
            "Completed 19250 steps (0.111 seconds per step), current loss is 1.2103331089019775\n"
          ]
        },
        {
          "output_type": "stream",
          "name": "stderr",
          "text": [
            "Epoch 6: 100%|██████████| 2785/2785 [05:11<00:00,  8.95it/s]\n"
          ]
        },
        {
          "output_type": "stream",
          "name": "stdout",
          "text": [
            "Completed epoch 6, validation loss is 1.2713023412574842, duration 311.2374234199524 seconds, 19495 done in total\n"
          ]
        }
      ]
    },
    {
      "cell_type": "code",
      "source": [
        "import matplotlib.pyplot as plt\n",
        "plt.plot(losses) "
      ],
      "metadata": {
        "colab": {
          "base_uri": "https://localhost:8080/",
          "height": 447
        },
        "id": "NDRgT_yVPMyP",
        "outputId": "37e28b24-0b52-4f4b-8362-52af3f45b3b1"
      },
      "execution_count": 11,
      "outputs": [
        {
          "output_type": "execute_result",
          "data": {
            "text/plain": [
              "[<matplotlib.lines.Line2D at 0x7f1656612670>]"
            ]
          },
          "metadata": {},
          "execution_count": 11
        },
        {
          "output_type": "display_data",
          "data": {
            "text/plain": [
              "<Figure size 640x480 with 1 Axes>"
            ],
            "image/png": "[encoded data removed]"
          },
          "metadata": {}
        }
      ]
    },
    {
      "cell_type": "code",
      "source": [
        "#\n",
        "# Sample starting with a given prompt \n",
        "# Supported methods:\n",
        "# 0 - greedy search\n",
        "# 1 - multinomial sampling\n",
        "# 2 - top-k sampling\n",
        "# 3 - top-p (nucleus) sampling\n",
        "#\n",
        "@torch.no_grad()\n",
        "def do_sample(prompt, model, vocab, length = 50, device = \"cpu\", temperature = 0.7, method = 3, k_val = 5, p_val = 0.95):\n",
        "    input_ids = [vocab[t] for t in tokenize(prompt)]\n",
        "    hidden = None\n",
        "    while (len(input_ids) < length):\n",
        "        x = torch.tensor(input_ids, dtype = torch.long).to(device)\n",
        "        #\n",
        "        # Feed input ids into model\n",
        "        #\n",
        "        if hidden is None:\n",
        "            f, hidden = model(x)\n",
        "        else:\n",
        "            f, hidden = model(x[-1].unsqueeze(dim = 0), hidden)\n",
        "    \t#\n",
        "        # f has shape (L, V). Take last element and apply softmax as well as temperature\n",
        "        #\n",
        "        p = torch.softmax(f[-1] / temperature, dim = 0)\n",
        "        #\n",
        "        # Sample\n",
        "        if 0 == method:\n",
        "            idx = torch.argmax(p).item()\n",
        "        elif 1 == method:\n",
        "            idx = torch.distributions.categorical.Categorical(probs = p).sample().item()\n",
        "        elif 2 == method:\n",
        "            #\n",
        "            # Sort and remove all indices after the k-th index\n",
        "            #\n",
        "            _, indices = torch.sort(p, descending = True)\n",
        "            keep = indices[:k_val]\n",
        "            #\n",
        "            # Sample over the items that are left\n",
        "            #\n",
        "            _p = [p[i] for i in keep]\n",
        "            idx = torch.distributions.categorical.Categorical(probs = torch.tensor(_p)).sample().item()\n",
        "            idx = keep[idx]        \n",
        "        elif 3 == method:    \n",
        "            items , indices = torch.sort(p, descending = True)    \n",
        "            items = iter(items.tolist())\n",
        "            _sum = 0\n",
        "            _k = 0\n",
        "            while _sum <= p_val:\n",
        "                _sum, _k =  _sum + next(items), _k + 1\n",
        "            keep = indices[:_k]\n",
        "            _p = [p[i] for i in keep]\n",
        "            idx = torch.distributions.categorical.Categorical(probs = torch.tensor(_p)).sample().item()\n",
        "            idx = keep[idx]    \n",
        "        else: \n",
        "            print(f\"Sampling method {method} not supported\")\n",
        "            exit(1)\n",
        "        input_ids.append(idx)\n",
        "\n",
        "    return decode(input_ids, vocab)\n"
      ],
      "metadata": {
        "id": "Z9v2uDQDP3uk"
      },
      "execution_count": 12,
      "outputs": []
    },
    {
      "cell_type": "code",
      "source": [
        "prompt = \". \"\n",
        "sample = do_sample(prompt, _model, vocab, device = device, method = 3, length = 300, temperature = .7)\n",
        "#\n",
        "# Strip off prompt again if we have used the default prompt\n",
        "#\n",
        "if prompt == \". \":\n",
        "    sample = sample[len(prompt):]\n",
        "print(sample)\n"
      ],
      "metadata": {
        "colab": {
          "base_uri": "https://localhost:8080/"
        },
        "id": "e3m7bWTnQy_u",
        "outputId": "77b2af68-a4d7-4584-bce4-946f88a20cd9"
      },
      "execution_count": 13,
      "outputs": [
        {
          "output_type": "stream",
          "name": "stdout",
          "text": [
            "The sun at the country was the part of his feet in the gone and stronger company with a commanding from Moscow in the front of the shoulders with a state of all that dispersed and she recalled the genius and did not want to see him. Behind the merry princess and the count stepped back to the old o\n"
          ]
        }
      ]
    }
  ]
}