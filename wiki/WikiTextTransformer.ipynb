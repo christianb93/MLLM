{
  "nbformat": 4,
  "nbformat_minor": 0,
  "metadata": {
    "colab": {
      "provenance": [],
      "authorship_tag": "ABX9TyNUcLPbZRl5LiW4FcjhDHte",
      "include_colab_link": true
    },
    "kernelspec": {
      "name": "python3",
      "display_name": "Python 3"
    },
    "language_info": {
      "name": "python"
    },
    "accelerator": "GPU",
    "gpuClass": "standard"
  },
  "cells": [
    {
      "cell_type": "markdown",
      "metadata": {
        "id": "view-in-github",
        "colab_type": "text"
      },
      "source": [
        "<a href=\"https://colab.research.google.com/github/christianb93/MLLM/blob/main/wiki/WikiTextTransformer.ipynb\" target=\"_parent\"><img src=\"https://colab.research.google.com/assets/colab-badge.svg\" alt=\"Open In Colab\"/></a>"
      ]
    },
    {
      "cell_type": "code",
      "execution_count": 1,
      "metadata": {
        "id": "kco8E6kYjTgz"
      },
      "outputs": [],
      "source": [
        "#\n",
        "# Import a few libraries that we need\n",
        "#\n",
        "import torch\n",
        "import os\n",
        "import argparse\n",
        "from tqdm import tqdm\n",
        "import json\n",
        "import re\n",
        "from torchtext.datasets import WikiText2\n",
        "import requests\n",
        "import time\n"
      ]
    },
    {
      "cell_type": "code",
      "source": [
        "#\n",
        "# Install portalocker\n",
        "#\n",
        "#\n",
        "# IMPORTANT: you might have to restart the runtime to allow Python to detect the library\n",
        "#\n",
        "!pip3 install portalocker"
      ],
      "metadata": {
        "colab": {
          "base_uri": "https://localhost:8080/"
        },
        "id": "h28yW2rHlmZ-",
        "outputId": "21dd7ec5-f998-4fd1-e822-e5f671078e1a"
      },
      "execution_count": 2,
      "outputs": [
        {
          "output_type": "stream",
          "name": "stdout",
          "text": [
            "Looking in indexes: https://pypi.org/simple, https://us-python.pkg.dev/colab-wheels/public/simple/\n",
            "Requirement already satisfied: portalocker in /usr/local/lib/python3.10/dist-packages (2.7.0)\n"
          ]
        }
      ]
    },
    {
      "cell_type": "code",
      "source": [
        "#\n",
        "# Download a few files from my GitHub repository that we will need\n",
        "#\n",
        "files = [\"BPE.py\", \"util.py\"]\n",
        "URL = \"https://raw.githubusercontent.com/christianb93/MLLM/main/wiki/\"\n",
        "for file in files:\n",
        "    data = requests.get(URL+file)\n",
        "    with open(file, 'wb')as f:\n",
        "        f.write(data.content)\n",
        "  \n",
        "#\n",
        "# and import them\n",
        "# \n",
        "import BPE\n",
        "import util"
      ],
      "metadata": {
        "id": "j3F_Frv1jmt6"
      },
      "execution_count": 3,
      "outputs": []
    },
    {
      "cell_type": "code",
      "source": [
        "#\n",
        "# Define a few constants\n",
        "#\n",
        "MERGES = 6000\n",
        "VFILE= \"vocab.dat\"\n",
        "RFILE = \"rules.dat\"\n",
        "FULL_DATA = \"data.json\"\n",
        "TRAIN_DATA = \"train.json\"\n",
        "VAL_DATA = \"val.json\""
      ],
      "metadata": {
        "id": "vVMZQ2AblAFK"
      },
      "execution_count": 4,
      "outputs": []
    },
    {
      "cell_type": "code",
      "source": [
        "#\n",
        "# Download WikiText2 dataset \n",
        "#\n",
        "text = \"\"\n",
        "print(\"Downloading WikiText2 data set\")\n",
        "ds = WikiText2(split=\"train\")\n",
        "items = [_p for _p in ds]\n",
        "print(\"Cleaning data\")\n",
        "#\n",
        "# Each item is a paragraph as a long string. Clean and concatenate\n",
        "# \n",
        "for item in items:\n",
        "    # Remove trailing whitespace and @\n",
        "    item = re.sub(\"^\\s+\", \"\", item)\n",
        "    item = re.sub(\"@\", \"\", item)\n",
        "    item = re.sub(\"\\n\", \"\", item)\n",
        "    if not re.match(\"^=\", item):\n",
        "        text = text + item\n",
        "\n",
        "#\n",
        "# pretokenize to create a list of words\n",
        "#\n",
        "print(\"Pre-tokenizing text\")\n",
        "tokenizer = util.get_tokenizer()\n",
        "pre_tokenized_text = tokenizer(text)\n",
        "del text\n"
      ],
      "metadata": {
        "colab": {
          "base_uri": "https://localhost:8080/"
        },
        "id": "TGBNaZcwlKG-",
        "outputId": "b1fd5b5f-fb2a-437e-aac2-6f1ae56ea074"
      },
      "execution_count": 5,
      "outputs": [
        {
          "output_type": "stream",
          "name": "stdout",
          "text": [
            "Downloading WikiText2 data set\n",
            "Cleaning data\n",
            "Pre-tokenizing text\n"
          ]
        }
      ]
    },
    {
      "cell_type": "code",
      "source": [
        "encoder = BPE.BPEEncoder(progress_bars = True)\n",
        "if not (os.path.exists(VFILE) and os.path.exists(RFILE)):\n",
        "    print(\"Initializing vocabulary\")\n",
        "    encoder.init_vocab(pre_tokenized_text)\n",
        "    print(f\"Start BPE learning phase ({MERGES} merges)\")\n",
        "    encoder.learn(s = MERGES, align_vocab = True)\n",
        "    encoder.save_rules(RFILE)\n",
        "    encoder.save_vocab(VFILE)\n",
        "else:\n",
        "    print(\"Loading vocabulary and rules\")\n",
        "    encoder.load_rules(RFILE)\n",
        "    encoder.load_vocab(VFILE)\n",
        "print(f\"Vocabulary size is now {len(encoder.get_vocab())}\")\n"
      ],
      "metadata": {
        "colab": {
          "base_uri": "https://localhost:8080/"
        },
        "id": "eu72ZRcRmKmP",
        "outputId": "38dd0b13-73b2-4951-da6d-57b65dd8032f"
      },
      "execution_count": 6,
      "outputs": [
        {
          "output_type": "stream",
          "name": "stdout",
          "text": [
            "Initializing vocabulary\n",
            "Counting words in input\n",
            "Building word frequencies\n"
          ]
        },
        {
          "output_type": "stream",
          "name": "stderr",
          "text": [
            "Calculating frequencies: 100%|██████████| 33227/33227 [00:00<00:00, 668374.67it/s]\n"
          ]
        },
        {
          "output_type": "stream",
          "name": "stdout",
          "text": [
            "Start BPE learning phase (6000 merges)\n"
          ]
        },
        {
          "output_type": "stream",
          "name": "stderr",
          "text": [
            "Merging: 100%|██████████| 6034/6034 [01:34<00:00, 64.06it/s]"
          ]
        },
        {
          "output_type": "stream",
          "name": "stdout",
          "text": [
            "Vocabulary size is now 6400\n"
          ]
        },
        {
          "output_type": "stream",
          "name": "stderr",
          "text": [
            "\n"
          ]
        }
      ]
    },
    {
      "cell_type": "code",
      "source": [
        "#\n",
        "# encode the input and save the results (or load from file)\n",
        "#\n",
        "if not os.path.exists(FULL_DATA):\n",
        "    encoded_text = []\n",
        "    encoder.compile_rules()\n",
        "    for word in tqdm(pre_tokenized_text, desc=\"Encoding\"):\n",
        "        encoded_text.extend(encoder.encode(word))\n",
        "    with open(FULL_DATA, \"w\") as f:\n",
        "        json.dump(encoded_text, f) \n",
        "else:\n",
        "    with open(FULL_DATA, \"r\") as f:\n",
        "        encoded_text = json.load(f) \n",
        "\n",
        "del pre_tokenized_text\n"
      ],
      "metadata": {
        "colab": {
          "base_uri": "https://localhost:8080/"
        },
        "id": "899ByuU1m31u",
        "outputId": "72cc6a8c-f65d-4e80-b6fe-a825428a4ed2"
      },
      "execution_count": 7,
      "outputs": [
        {
          "output_type": "stream",
          "name": "stderr",
          "text": [
            "Encoding: 100%|██████████| 2007146/2007146 [04:00<00:00, 8350.52it/s] \n"
          ]
        }
      ]
    },
    {
      "cell_type": "code",
      "source": [
        "#\n",
        "# split into a training and a validation set\n",
        "#\n",
        "total_length = len(encoded_text)\n",
        "train_length = int(0.9*total_length)\n",
        "print(f\"Splitting file into {train_length} training items and {total_length - train_length} validation items\")\n",
        "with open(TRAIN_DATA, \"w\") as f:\n",
        "    json.dump(encoded_text[:train_length], f) \n",
        "with open(VAL_DATA, \"w\") as f:\n",
        "    json.dump(encoded_text[train_length:], f) \n"
      ],
      "metadata": {
        "colab": {
          "base_uri": "https://localhost:8080/"
        },
        "id": "8rBDR1m0oO6-",
        "outputId": "77a293e9-5fda-40bd-d133-f8033c68cbc3"
      },
      "execution_count": 8,
      "outputs": [
        {
          "output_type": "stream",
          "name": "stdout",
          "text": [
            "Splitting file into 2360047 training items and 262228 validation items\n"
          ]
        }
      ]
    },
    {
      "cell_type": "code",
      "source": [
        "#\n",
        "# Training parameters\n",
        "#\n",
        "LR = 0.0005\n",
        "DROPOUT = 0.2\n",
        "BATCH_SIZE = 512\n",
        "CONTEXT_SIZE = 48\n",
        "#\n",
        "# Create datasets for training and validation\n",
        "#\n",
        "train_ds = util.DataSet(window_size = CONTEXT_SIZE, encoder = None)\n",
        "val_ds  = util.DataSet(window_size =CONTEXT_SIZE, data = \"valid\", encoder = train_ds.get_vocab())\n",
        "print(f\"Using data set with {len(train_ds)} training items and {len(val_ds)} validation items\")"
      ],
      "metadata": {
        "colab": {
          "base_uri": "https://localhost:8080/"
        },
        "id": "ts1Rf7vHoYO-",
        "outputId": "9f58710b-b3ff-4621-ecff-a675401b9725"
      },
      "execution_count": 9,
      "outputs": [
        {
          "output_type": "stream",
          "name": "stdout",
          "text": [
            "Using data set with 2359998 training items and 262179 validation items\n"
          ]
        }
      ]
    },
    {
      "cell_type": "code",
      "source": [
        "#\n",
        "# Create data loader. We drop the last batch to avoid spikes in the loss function, and we use two workers \n",
        "# which should be enough to keep most GPUs busy\n",
        "#\n",
        "training_data = torch.utils.data.DataLoader(train_ds, batch_size = BATCH_SIZE, collate_fn = util.collate_fn, shuffle = True, drop_last = True, num_workers = 2)\n",
        "val_data = torch.utils.data.DataLoader(val_ds, batch_size = BATCH_SIZE, collate_fn = util.collate_fn, shuffle = True, drop_last = True)\n"
      ],
      "metadata": {
        "id": "I-kVnRQzooiz"
      },
      "execution_count": 10,
      "outputs": []
    },
    {
      "cell_type": "code",
      "source": [
        "#\n",
        "# Our model\n",
        "# \n",
        "MODEL_DIM = 192\n",
        "FF_DIM = 1024\n",
        "HEADS = 8\n",
        "LAYERS = 4\n",
        "DROPOUT = 0.2\n",
        "\n",
        "#\n",
        "# A layer that adds a positional embedding to a given input. We use a fixed\n",
        "# sinusoidal embeddings as in the original \"Attention is all you need\" paper\n",
        "#\n",
        "class PosEmbeddingLayer(torch.nn.Module):\n",
        "    \n",
        "    def __init__(self, context_size, model_dim):\n",
        "        super().__init__()\n",
        "        _p = torch.arange(context_size , dtype=torch.float32).unsqueeze(dim = 1)\n",
        "        _i = torch.arange(0, model_dim , step = 2) / model_dim \n",
        "        x = _p / torch.pow(10000, _i)\n",
        "        self.register_buffer(\"_pe\", torch.zeros(context_size, model_dim))        \n",
        "        self._pe[:, 0::2] = torch.sin(x)\n",
        "        self._pe[:, 1::2] = torch.cos(x)\n",
        "        self._pe = torch.unsqueeze(self._pe, dim = 1)\n",
        "        self._model_dim = model_dim\n",
        "        self._context_size = context_size\n",
        "        \n",
        "    #\n",
        "    # Shape of input: (sequence length, batch_size, model_dim) \n",
        "    #\n",
        "    def forward(self, x):\n",
        "        assert len(x.shape) == 3, \"Shape (L, B, D) required\"\n",
        "        assert x.shape[2] == self._model_dim, \"Last dimension needs to be model dimension\"\n",
        "        L = x.shape[0]\n",
        "        assert L <= self._context_size, \"Length exceeds context size\"\n",
        "        pe = self._pe[:L, :, :]\n",
        "        return x + pe\n",
        "\n",
        "#\n",
        "# A simple decoder-only transformer model, with a learned\n",
        "# word embedding, a sinusoidal positional embedding and a linear\n",
        "# output layer\n",
        "#\n",
        "class Model(torch.nn.Module):\n",
        "    \n",
        "    def __init__(self, vocab_size, model_dim = MODEL_DIM, context_size = CONTEXT_SIZE, ff_dim = FF_DIM, heads = HEADS, layers = LAYERS, dropout = DROPOUT):\n",
        "        super().__init__()\n",
        "        self._word_embedding = torch.nn.Embedding(vocab_size, model_dim)\n",
        "        self._pe_embedding = PosEmbeddingLayer(context_size, model_dim)\n",
        "        layer = torch.nn.TransformerEncoderLayer(d_model = model_dim, nhead = heads, dim_feedforward = ff_dim, dropout = dropout)\n",
        "        self._transformer = torch.nn.TransformerEncoder(layer, num_layers = layers)\n",
        "        self._linear = torch.nn.Linear(in_features = model_dim, out_features = vocab_size)\n",
        "        self._model_dim = model_dim\n",
        "        self._context_size = context_size\n",
        "        self._vocab_size = vocab_size\n",
        "        cached_mask = torch.tril(torch.ones(context_size, context_size)*(-1)*float('inf'), diagonal = -1).t()\n",
        "        self.register_buffer(\"_cached_mask\", cached_mask)\n",
        "    \n",
        "    #\n",
        "    # Create a causal self-attention mask\n",
        "    #\n",
        "    def get_self_attention_mask(self):\n",
        "        return self._cached_mask\n",
        "        \n",
        "    #\n",
        "    # Shape of input: (L, B)\n",
        "    # \n",
        "    def forward(self, x):\n",
        "        assert len(x.shape) == 2, \"Expecting two-dimensional input\"\n",
        "        (L, B) = x.shape\n",
        "        x = self._word_embedding(x) # shape (L, B, model_dim)\n",
        "        x = self._pe_embedding(x) \n",
        "        #\n",
        "        # Mask input. As we have registered this is a buffer, it\n",
        "        # should already be on the same device as the model\n",
        "        #\n",
        "        mask = self.get_self_attention_mask()[:L, :L]\n",
        "        x = self._transformer(x, mask = mask)\n",
        "        return self._linear(x)        \n",
        "\n",
        "    #\n",
        "    # Get context size\n",
        "    #\n",
        "    def get_context_size(self):\n",
        "        return self._context_size\n",
        "\n"
      ],
      "metadata": {
        "id": "ClIEqOzbo1_d"
      },
      "execution_count": 11,
      "outputs": []
    },
    {
      "cell_type": "code",
      "source": [
        "V = len(train_ds.get_vocab())\n",
        "device = \"cuda\" if torch.cuda.is_available() else \"cpu\"\n",
        "\n",
        "model = Model(vocab_size = V, model_dim = MODEL_DIM, context_size = CONTEXT_SIZE,  dropout = DROPOUT).to(device)\n",
        "model.train()"
      ],
      "metadata": {
        "colab": {
          "base_uri": "https://localhost:8080/"
        },
        "id": "bhclBRudpGTx",
        "outputId": "d005c13e-454c-4977-be5e-2349acf88781"
      },
      "execution_count": 12,
      "outputs": [
        {
          "output_type": "execute_result",
          "data": {
            "text/plain": [
              "Model(\n",
              "  (_word_embedding): Embedding(6400, 192)\n",
              "  (_pe_embedding): PosEmbeddingLayer()\n",
              "  (_transformer): TransformerEncoder(\n",
              "    (layers): ModuleList(\n",
              "      (0-3): 4 x TransformerEncoderLayer(\n",
              "        (self_attn): MultiheadAttention(\n",
              "          (out_proj): NonDynamicallyQuantizableLinear(in_features=192, out_features=192, bias=True)\n",
              "        )\n",
              "        (linear1): Linear(in_features=192, out_features=1024, bias=True)\n",
              "        (dropout): Dropout(p=0.2, inplace=False)\n",
              "        (linear2): Linear(in_features=1024, out_features=192, bias=True)\n",
              "        (norm1): LayerNorm((192,), eps=1e-05, elementwise_affine=True)\n",
              "        (norm2): LayerNorm((192,), eps=1e-05, elementwise_affine=True)\n",
              "        (dropout1): Dropout(p=0.2, inplace=False)\n",
              "        (dropout2): Dropout(p=0.2, inplace=False)\n",
              "      )\n",
              "    )\n",
              "  )\n",
              "  (_linear): Linear(in_features=192, out_features=6400, bias=True)\n",
              ")"
            ]
          },
          "metadata": {},
          "execution_count": 12
        }
      ]
    },
    {
      "cell_type": "code",
      "source": [
        "EPOCHS = 3\n",
        "print(f\"Training for {EPOCHS} epochs\")\n",
        "print(f\"Using device {device} and batch size {BATCH_SIZE}, lr = {LR} (min {LR*0.1}), dropout = {DROPOUT}\")\n",
        "start_time = time.time()\n",
        "torch.set_float32_matmul_precision('high')\n",
        "losses, val_losses = util.train(model, EPOCHS, batch_size = BATCH_SIZE,\n",
        "               train_data_loader = training_data, val_data_loader = val_data, \n",
        "               device = device, log_steps = 250, \n",
        "               lr = LR, lr_min = LR*0.1, autocast = True)\n",
        "end_time = time.time()\n",
        "print(f\"Total training time: {end_time - start_time}\")\n"
      ],
      "metadata": {
        "colab": {
          "base_uri": "https://localhost:8080/"
        },
        "id": "Co1fA39gq-VC",
        "outputId": "456d9c1a-a183-42c9-df11-499f8560e96f"
      },
      "execution_count": 13,
      "outputs": [
        {
          "output_type": "stream",
          "name": "stdout",
          "text": [
            "Training for 3 epochs\n",
            "Using device cuda and batch size 512, lr = 0.0005 (min 5e-05), dropout = 0.2\n",
            "Steps per epoch: 4609\n"
          ]
        },
        {
          "output_type": "stream",
          "name": "stderr",
          "text": [
            "Epoch 0:   5%|▌         | 251/4609 [00:29<07:59,  9.08it/s]"
          ]
        },
        {
          "output_type": "stream",
          "name": "stdout",
          "text": [
            "Completed 250 steps (0.117 seconds per step), current loss is 6.037606716156006\n"
          ]
        },
        {
          "output_type": "stream",
          "name": "stderr",
          "text": [
            "Epoch 0:  11%|█         | 501/4609 [00:57<07:46,  8.81it/s]"
          ]
        },
        {
          "output_type": "stream",
          "name": "stdout",
          "text": [
            "Completed 500 steps (0.112 seconds per step), current loss is 5.241933345794678\n"
          ]
        },
        {
          "output_type": "stream",
          "name": "stderr",
          "text": [
            "Epoch 0:  16%|█▋        | 751/4609 [01:26<07:39,  8.40it/s]"
          ]
        },
        {
          "output_type": "stream",
          "name": "stdout",
          "text": [
            "Completed 750 steps (0.116 seconds per step), current loss is 4.964645862579346\n"
          ]
        },
        {
          "output_type": "stream",
          "name": "stderr",
          "text": [
            "Epoch 0:  22%|██▏       | 1001/4609 [01:55<06:53,  8.72it/s]"
          ]
        },
        {
          "output_type": "stream",
          "name": "stdout",
          "text": [
            "Completed 1000 steps (0.117 seconds per step), current loss is 4.779524326324463\n"
          ]
        },
        {
          "output_type": "stream",
          "name": "stderr",
          "text": [
            "Epoch 0:  27%|██▋       | 1251/4609 [02:24<06:18,  8.87it/s]"
          ]
        },
        {
          "output_type": "stream",
          "name": "stdout",
          "text": [
            "Completed 1250 steps (0.115 seconds per step), current loss is 4.606695652008057\n"
          ]
        },
        {
          "output_type": "stream",
          "name": "stderr",
          "text": [
            "Epoch 0:  33%|███▎      | 1501/4609 [02:53<05:55,  8.74it/s]"
          ]
        },
        {
          "output_type": "stream",
          "name": "stdout",
          "text": [
            "Completed 1500 steps (0.115 seconds per step), current loss is 4.497130393981934\n"
          ]
        },
        {
          "output_type": "stream",
          "name": "stderr",
          "text": [
            "Epoch 0:  38%|███▊      | 1751/4609 [03:22<05:43,  8.33it/s]"
          ]
        },
        {
          "output_type": "stream",
          "name": "stdout",
          "text": [
            "Completed 1750 steps (0.116 seconds per step), current loss is 4.441714763641357\n"
          ]
        },
        {
          "output_type": "stream",
          "name": "stderr",
          "text": [
            "Epoch 0:  43%|████▎     | 2001/4609 [03:50<04:53,  8.87it/s]"
          ]
        },
        {
          "output_type": "stream",
          "name": "stdout",
          "text": [
            "Completed 2000 steps (0.113 seconds per step), current loss is 4.370137691497803\n"
          ]
        },
        {
          "output_type": "stream",
          "name": "stderr",
          "text": [
            "Epoch 0:  49%|████▉     | 2251/4609 [04:19<04:25,  8.88it/s]"
          ]
        },
        {
          "output_type": "stream",
          "name": "stdout",
          "text": [
            "Completed 2250 steps (0.113 seconds per step), current loss is 4.298154830932617\n"
          ]
        },
        {
          "output_type": "stream",
          "name": "stderr",
          "text": [
            "Epoch 0:  54%|█████▍    | 2501/4609 [04:47<04:02,  8.70it/s]"
          ]
        },
        {
          "output_type": "stream",
          "name": "stdout",
          "text": [
            "Completed 2500 steps (0.113 seconds per step), current loss is 4.228367328643799\n"
          ]
        },
        {
          "output_type": "stream",
          "name": "stderr",
          "text": [
            "Epoch 0:  60%|█████▉    | 2751/4609 [05:15<03:36,  8.59it/s]"
          ]
        },
        {
          "output_type": "stream",
          "name": "stdout",
          "text": [
            "Completed 2750 steps (0.114 seconds per step), current loss is 4.217047691345215\n"
          ]
        },
        {
          "output_type": "stream",
          "name": "stderr",
          "text": [
            "Epoch 0:  65%|██████▌   | 3001/4609 [05:44<03:02,  8.83it/s]"
          ]
        },
        {
          "output_type": "stream",
          "name": "stdout",
          "text": [
            "Completed 3000 steps (0.114 seconds per step), current loss is 4.180335998535156\n"
          ]
        },
        {
          "output_type": "stream",
          "name": "stderr",
          "text": [
            "Epoch 0:  71%|███████   | 3251/4609 [06:12<02:33,  8.87it/s]"
          ]
        },
        {
          "output_type": "stream",
          "name": "stdout",
          "text": [
            "Completed 3250 steps (0.113 seconds per step), current loss is 4.125865459442139\n"
          ]
        },
        {
          "output_type": "stream",
          "name": "stderr",
          "text": [
            "Epoch 0:  76%|███████▌  | 3501/4609 [06:41<02:04,  8.87it/s]"
          ]
        },
        {
          "output_type": "stream",
          "name": "stdout",
          "text": [
            "Completed 3500 steps (0.115 seconds per step), current loss is 4.051138401031494\n"
          ]
        },
        {
          "output_type": "stream",
          "name": "stderr",
          "text": [
            "Epoch 0:  81%|████████▏ | 3751/4609 [07:09<01:41,  8.46it/s]"
          ]
        },
        {
          "output_type": "stream",
          "name": "stdout",
          "text": [
            "Completed 3750 steps (0.114 seconds per step), current loss is 4.076267719268799\n"
          ]
        },
        {
          "output_type": "stream",
          "name": "stderr",
          "text": [
            "Epoch 0:  87%|████████▋ | 4001/4609 [07:38<01:08,  8.89it/s]"
          ]
        },
        {
          "output_type": "stream",
          "name": "stdout",
          "text": [
            "Completed 4000 steps (0.114 seconds per step), current loss is 4.061057090759277\n"
          ]
        },
        {
          "output_type": "stream",
          "name": "stderr",
          "text": [
            "Epoch 0:  92%|█████████▏| 4251/4609 [08:06<00:40,  8.86it/s]"
          ]
        },
        {
          "output_type": "stream",
          "name": "stdout",
          "text": [
            "Completed 4250 steps (0.113 seconds per step), current loss is 3.9958536624908447\n"
          ]
        },
        {
          "output_type": "stream",
          "name": "stderr",
          "text": [
            "Epoch 0:  98%|█████████▊| 4501/4609 [08:35<00:12,  8.82it/s]"
          ]
        },
        {
          "output_type": "stream",
          "name": "stdout",
          "text": [
            "Completed 4500 steps (0.115 seconds per step), current loss is 3.9946582317352295\n"
          ]
        },
        {
          "output_type": "stream",
          "name": "stderr",
          "text": [
            "Epoch 0: 100%|██████████| 4609/4609 [08:47<00:00,  8.73it/s]\n"
          ]
        },
        {
          "output_type": "stream",
          "name": "stdout",
          "text": [
            "Completed epoch 0, validation loss is 4.8175, duration 570.89 seconds, current learning rate is 0.000390\n",
            "Saved model checkpoint at model_0.pt\n"
          ]
        },
        {
          "output_type": "stream",
          "name": "stderr",
          "text": [
            "Epoch 1:   3%|▎         | 142/4609 [00:16<08:24,  8.86it/s]"
          ]
        },
        {
          "output_type": "stream",
          "name": "stdout",
          "text": [
            "Completed 4750 steps (0.290 seconds per step), current loss is 4.021607398986816\n"
          ]
        },
        {
          "output_type": "stream",
          "name": "stderr",
          "text": [
            "Epoch 1:   9%|▊         | 392/4609 [00:45<07:51,  8.94it/s]"
          ]
        },
        {
          "output_type": "stream",
          "name": "stdout",
          "text": [
            "Completed 5000 steps (0.114 seconds per step), current loss is 3.9419784545898438\n"
          ]
        },
        {
          "output_type": "stream",
          "name": "stderr",
          "text": [
            "Epoch 1:  14%|█▍        | 642/4609 [01:13<07:58,  8.29it/s]"
          ]
        },
        {
          "output_type": "stream",
          "name": "stdout",
          "text": [
            "Completed 5250 steps (0.114 seconds per step), current loss is 3.921334981918335\n"
          ]
        },
        {
          "output_type": "stream",
          "name": "stderr",
          "text": [
            "Epoch 1:  19%|█▉        | 892/4609 [01:42<06:55,  8.94it/s]"
          ]
        },
        {
          "output_type": "stream",
          "name": "stdout",
          "text": [
            "Completed 5500 steps (0.116 seconds per step), current loss is 3.9249675273895264\n"
          ]
        },
        {
          "output_type": "stream",
          "name": "stderr",
          "text": [
            "Epoch 1:  25%|██▍       | 1142/4609 [02:11<06:29,  8.91it/s]"
          ]
        },
        {
          "output_type": "stream",
          "name": "stdout",
          "text": [
            "Completed 5750 steps (0.114 seconds per step), current loss is 3.914746046066284\n"
          ]
        },
        {
          "output_type": "stream",
          "name": "stderr",
          "text": [
            "Epoch 1:  30%|███       | 1392/4609 [02:39<06:02,  8.88it/s]"
          ]
        },
        {
          "output_type": "stream",
          "name": "stdout",
          "text": [
            "Completed 6000 steps (0.114 seconds per step), current loss is 3.9185609817504883\n"
          ]
        },
        {
          "output_type": "stream",
          "name": "stderr",
          "text": [
            "Epoch 1:  36%|███▌      | 1642/4609 [03:08<05:58,  8.28it/s]"
          ]
        },
        {
          "output_type": "stream",
          "name": "stdout",
          "text": [
            "Completed 6250 steps (0.116 seconds per step), current loss is 3.869535207748413\n"
          ]
        },
        {
          "output_type": "stream",
          "name": "stderr",
          "text": [
            "Epoch 1:  41%|████      | 1892/4609 [03:37<05:11,  8.74it/s]"
          ]
        },
        {
          "output_type": "stream",
          "name": "stdout",
          "text": [
            "Completed 6500 steps (0.114 seconds per step), current loss is 3.870013952255249\n"
          ]
        },
        {
          "output_type": "stream",
          "name": "stderr",
          "text": [
            "Epoch 1:  46%|████▋     | 2142/4609 [04:05<04:38,  8.85it/s]"
          ]
        },
        {
          "output_type": "stream",
          "name": "stdout",
          "text": [
            "Completed 6750 steps (0.115 seconds per step), current loss is 3.90073561668396\n"
          ]
        },
        {
          "output_type": "stream",
          "name": "stderr",
          "text": [
            "Epoch 1:  52%|█████▏    | 2392/4609 [04:34<04:10,  8.86it/s]"
          ]
        },
        {
          "output_type": "stream",
          "name": "stdout",
          "text": [
            "Completed 7000 steps (0.116 seconds per step), current loss is 3.8645694255828857\n"
          ]
        },
        {
          "output_type": "stream",
          "name": "stderr",
          "text": [
            "Epoch 1:  57%|█████▋    | 2642/4609 [05:04<04:02,  8.10it/s]"
          ]
        },
        {
          "output_type": "stream",
          "name": "stdout",
          "text": [
            "Completed 7250 steps (0.116 seconds per step), current loss is 3.814094305038452\n"
          ]
        },
        {
          "output_type": "stream",
          "name": "stderr",
          "text": [
            "Epoch 1:  63%|██████▎   | 2892/4609 [05:33<03:14,  8.84it/s]"
          ]
        },
        {
          "output_type": "stream",
          "name": "stdout",
          "text": [
            "Completed 7500 steps (0.119 seconds per step), current loss is 3.865384340286255\n"
          ]
        },
        {
          "output_type": "stream",
          "name": "stderr",
          "text": [
            "Epoch 1:  68%|██████▊   | 3142/4609 [06:02<02:53,  8.47it/s]"
          ]
        },
        {
          "output_type": "stream",
          "name": "stdout",
          "text": [
            "Completed 7750 steps (0.115 seconds per step), current loss is 3.831814765930176\n"
          ]
        },
        {
          "output_type": "stream",
          "name": "stderr",
          "text": [
            "Epoch 1:  74%|███████▎  | 3392/4609 [06:31<02:17,  8.82it/s]"
          ]
        },
        {
          "output_type": "stream",
          "name": "stdout",
          "text": [
            "Completed 8000 steps (0.116 seconds per step), current loss is 3.7883388996124268\n"
          ]
        },
        {
          "output_type": "stream",
          "name": "stderr",
          "text": [
            "Epoch 1:  79%|███████▉  | 3642/4609 [07:00<01:48,  8.94it/s]"
          ]
        },
        {
          "output_type": "stream",
          "name": "stdout",
          "text": [
            "Completed 8250 steps (0.115 seconds per step), current loss is 3.8557214736938477\n"
          ]
        },
        {
          "output_type": "stream",
          "name": "stderr",
          "text": [
            "Epoch 1:  84%|████████▍ | 3892/4609 [07:29<01:24,  8.44it/s]"
          ]
        },
        {
          "output_type": "stream",
          "name": "stdout",
          "text": [
            "Completed 8500 steps (0.117 seconds per step), current loss is 3.7882261276245117\n"
          ]
        },
        {
          "output_type": "stream",
          "name": "stderr",
          "text": [
            "Epoch 1:  90%|████████▉ | 4142/4609 [07:58<00:53,  8.80it/s]"
          ]
        },
        {
          "output_type": "stream",
          "name": "stdout",
          "text": [
            "Completed 8750 steps (0.115 seconds per step), current loss is 3.806849718093872\n"
          ]
        },
        {
          "output_type": "stream",
          "name": "stderr",
          "text": [
            "Epoch 1:  95%|█████████▌| 4392/4609 [08:27<00:25,  8.58it/s]"
          ]
        },
        {
          "output_type": "stream",
          "name": "stdout",
          "text": [
            "Completed 9000 steps (0.115 seconds per step), current loss is 3.7906405925750732\n"
          ]
        },
        {
          "output_type": "stream",
          "name": "stderr",
          "text": [
            "Epoch 1: 100%|██████████| 4609/4609 [08:53<00:00,  8.65it/s]\n"
          ]
        },
        {
          "output_type": "stream",
          "name": "stdout",
          "text": [
            "Completed epoch 1, validation loss is 4.8115, duration 576.60 seconds, current learning rate is 0.000164\n",
            "Saved model checkpoint at model_1.pt\n"
          ]
        },
        {
          "output_type": "stream",
          "name": "stderr",
          "text": [
            "Epoch 2:   1%|          | 33/4609 [00:04<09:02,  8.43it/s]"
          ]
        },
        {
          "output_type": "stream",
          "name": "stdout",
          "text": [
            "Completed 9250 steps (0.295 seconds per step), current loss is 3.764889717102051\n"
          ]
        },
        {
          "output_type": "stream",
          "name": "stderr",
          "text": [
            "Epoch 2:   6%|▌         | 283/4609 [00:33<08:10,  8.82it/s]"
          ]
        },
        {
          "output_type": "stream",
          "name": "stdout",
          "text": [
            "Completed 9500 steps (0.116 seconds per step), current loss is 3.7943499088287354\n"
          ]
        },
        {
          "output_type": "stream",
          "name": "stderr",
          "text": [
            "Epoch 2:  12%|█▏        | 533/4609 [01:01<07:38,  8.89it/s]"
          ]
        },
        {
          "output_type": "stream",
          "name": "stdout",
          "text": [
            "Completed 9750 steps (0.113 seconds per step), current loss is 3.7868385314941406\n"
          ]
        },
        {
          "output_type": "stream",
          "name": "stderr",
          "text": [
            "Epoch 2:  17%|█▋        | 783/4609 [01:30<07:20,  8.69it/s]"
          ]
        },
        {
          "output_type": "stream",
          "name": "stdout",
          "text": [
            "Completed 10000 steps (0.114 seconds per step), current loss is 3.776592493057251\n"
          ]
        },
        {
          "output_type": "stream",
          "name": "stderr",
          "text": [
            "Epoch 2:  22%|██▏       | 1033/4609 [01:58<06:41,  8.91it/s]"
          ]
        },
        {
          "output_type": "stream",
          "name": "stdout",
          "text": [
            "Completed 10250 steps (0.114 seconds per step), current loss is 3.7608869075775146\n"
          ]
        },
        {
          "output_type": "stream",
          "name": "stderr",
          "text": [
            "Epoch 2:  28%|██▊       | 1283/4609 [02:27<06:15,  8.85it/s]"
          ]
        },
        {
          "output_type": "stream",
          "name": "stdout",
          "text": [
            "Completed 10500 steps (0.114 seconds per step), current loss is 3.768221616744995\n"
          ]
        },
        {
          "output_type": "stream",
          "name": "stderr",
          "text": [
            "Epoch 2:  33%|███▎      | 1533/4609 [02:56<05:51,  8.75it/s]"
          ]
        },
        {
          "output_type": "stream",
          "name": "stdout",
          "text": [
            "Completed 10750 steps (0.116 seconds per step), current loss is 3.7297658920288086\n"
          ]
        },
        {
          "output_type": "stream",
          "name": "stderr",
          "text": [
            "Epoch 2:  39%|███▊      | 1783/4609 [03:25<05:18,  8.87it/s]"
          ]
        },
        {
          "output_type": "stream",
          "name": "stdout",
          "text": [
            "Completed 11000 steps (0.115 seconds per step), current loss is 3.7596170902252197\n"
          ]
        },
        {
          "output_type": "stream",
          "name": "stderr",
          "text": [
            "Epoch 2:  44%|████▍     | 2033/4609 [03:53<04:54,  8.76it/s]"
          ]
        },
        {
          "output_type": "stream",
          "name": "stdout",
          "text": [
            "Completed 11250 steps (0.115 seconds per step), current loss is 3.7774746417999268\n"
          ]
        },
        {
          "output_type": "stream",
          "name": "stderr",
          "text": [
            "Epoch 2:  50%|████▉     | 2283/4609 [04:22<04:30,  8.60it/s]"
          ]
        },
        {
          "output_type": "stream",
          "name": "stdout",
          "text": [
            "Completed 11500 steps (0.116 seconds per step), current loss is 3.733886480331421\n"
          ]
        },
        {
          "output_type": "stream",
          "name": "stderr",
          "text": [
            "Epoch 2:  55%|█████▍    | 2533/4609 [04:51<03:54,  8.85it/s]"
          ]
        },
        {
          "output_type": "stream",
          "name": "stdout",
          "text": [
            "Completed 11750 steps (0.115 seconds per step), current loss is 3.755983352661133\n"
          ]
        },
        {
          "output_type": "stream",
          "name": "stderr",
          "text": [
            "Epoch 2:  60%|██████    | 2783/4609 [05:20<03:35,  8.47it/s]"
          ]
        },
        {
          "output_type": "stream",
          "name": "stdout",
          "text": [
            "Completed 12000 steps (0.116 seconds per step), current loss is 3.7482786178588867\n"
          ]
        },
        {
          "output_type": "stream",
          "name": "stderr",
          "text": [
            "Epoch 2:  66%|██████▌   | 3033/4609 [05:49<03:00,  8.73it/s]"
          ]
        },
        {
          "output_type": "stream",
          "name": "stdout",
          "text": [
            "Completed 12250 steps (0.116 seconds per step), current loss is 3.7699458599090576\n"
          ]
        },
        {
          "output_type": "stream",
          "name": "stderr",
          "text": [
            "Epoch 2:  71%|███████   | 3283/4609 [06:18<02:31,  8.78it/s]"
          ]
        },
        {
          "output_type": "stream",
          "name": "stdout",
          "text": [
            "Completed 12500 steps (0.116 seconds per step), current loss is 3.7269277572631836\n"
          ]
        },
        {
          "output_type": "stream",
          "name": "stderr",
          "text": [
            "Epoch 2:  77%|███████▋  | 3533/4609 [06:47<02:03,  8.72it/s]"
          ]
        },
        {
          "output_type": "stream",
          "name": "stdout",
          "text": [
            "Completed 12750 steps (0.116 seconds per step), current loss is 3.7200326919555664\n"
          ]
        },
        {
          "output_type": "stream",
          "name": "stderr",
          "text": [
            "Epoch 2:  82%|████████▏ | 3783/4609 [07:16<01:38,  8.38it/s]"
          ]
        },
        {
          "output_type": "stream",
          "name": "stdout",
          "text": [
            "Completed 13000 steps (0.116 seconds per step), current loss is 3.7289021015167236\n"
          ]
        },
        {
          "output_type": "stream",
          "name": "stderr",
          "text": [
            "Epoch 2:  88%|████████▊ | 4033/4609 [07:45<01:06,  8.67it/s]"
          ]
        },
        {
          "output_type": "stream",
          "name": "stdout",
          "text": [
            "Completed 13250 steps (0.116 seconds per step), current loss is 3.759183645248413\n"
          ]
        },
        {
          "output_type": "stream",
          "name": "stderr",
          "text": [
            "Epoch 2:  93%|█████████▎| 4283/4609 [08:13<00:37,  8.68it/s]"
          ]
        },
        {
          "output_type": "stream",
          "name": "stdout",
          "text": [
            "Completed 13500 steps (0.115 seconds per step), current loss is 3.7053349018096924\n"
          ]
        },
        {
          "output_type": "stream",
          "name": "stderr",
          "text": [
            "Epoch 2:  98%|█████████▊| 4533/4609 [08:42<00:08,  8.59it/s]"
          ]
        },
        {
          "output_type": "stream",
          "name": "stdout",
          "text": [
            "Completed 13750 steps (0.116 seconds per step), current loss is 3.758755922317505\n"
          ]
        },
        {
          "output_type": "stream",
          "name": "stderr",
          "text": [
            "Epoch 2: 100%|██████████| 4609/4609 [08:52<00:00,  8.66it/s]\n"
          ]
        },
        {
          "output_type": "stream",
          "name": "stdout",
          "text": [
            "Completed epoch 2, validation loss is 4.8143, duration 575.48 seconds, current learning rate is 0.000050\n",
            "Saved model checkpoint at model_2.pt\n",
            "Total training time: 1723.1558029651642\n"
          ]
        }
      ]
    },
    {
      "cell_type": "code",
      "source": [
        "import matplotlib.pyplot as plt\n",
        "plt.plot(losses) \n",
        "for epoch, loss in enumerate(val_losses):\n",
        "    print(f\"Epoch {epoch} ---> validation loss {loss:.4f}\")\n"
      ],
      "metadata": {
        "colab": {
          "base_uri": "https://localhost:8080/",
          "height": 482
        },
        "id": "DDd5KP94rZf2",
        "outputId": "95fca531-9d1f-47af-e364-96b0b46dc211"
      },
      "execution_count": 14,
      "outputs": [
        {
          "output_type": "stream",
          "name": "stdout",
          "text": [
            "Epoch 0 ---> validation loss 4.8175\n",
            "Epoch 1 ---> validation loss 4.8115\n",
            "Epoch 2 ---> validation loss 4.8143\n"
          ]
        },
        {
          "output_type": "display_data",
          "data": {
            "text/plain": [
              "<Figure size 640x480 with 1 Axes>"
            ],
            "image/png": "[encoded data removed]"
          },
          "metadata": {}
        }
      ]
    },
    {
      "cell_type": "code",
      "source": [
        "#\n",
        "# Sample using nucleus sampling\n",
        "#\n",
        "def predict(prompt = \". \", length = 200, temperature = 0.7):\n",
        "    sample_ids = util.do_sample(prompt, model, encoder, device = device, method = 3, length = length, temperature = temperature)\n",
        "    sample = util.beautify_decoder_output(encoder.decode(sample_ids))\n",
        "    #\n",
        "    # Strip off prompt again if we have used the default prompt\n",
        "    #\n",
        "    if prompt == \". \":\n",
        "        sample = sample[len(prompt):]\n",
        "\n",
        "    return sample\n",
        "\n"
      ],
      "metadata": {
        "id": "zv4Kc1hvzOjP"
      },
      "execution_count": 15,
      "outputs": []
    },
    {
      "cell_type": "code",
      "source": [
        "sample = predict()\n",
        "\n",
        "from IPython.display import display, Markdown\n",
        "display(Markdown(f\"{sample}\"))"
      ],
      "metadata": {
        "colab": {
          "base_uri": "https://localhost:8080/",
          "height": 116
        },
        "id": "m5s5IBbNzjYx",
        "outputId": "b846076f-72e2-436e-d7f1-020d3c6be5b9"
      },
      "execution_count": 16,
      "outputs": [
        {
          "output_type": "display_data",
          "data": {
            "text/plain": [
              "<IPython.core.display.Markdown object>"
            ],
            "text/markdown": "For the time, the actors of the <unk> 's first minister. The people involved in the commune with a second verse, including <unk>, a <unk> and a <unk>, <unk>, which has to <unk> <unk> and to help him a <unk>. He ended his claim to his parties, and was an English was the most memory of the year. He is a supporter and thus fever in his own life. He was a second son of Bobby Hall of Fame, and played as a member of the leadership in the Japanese role of the Garden Fill. Federer also received the first title of the Australian Open in the finals, including the Madonna Open, the Duke of Florence, and his first tournament. Federer won the final, losing to the finals, having scored a record nine times to five consecutive weeks before losing 19, in the Bir 'Shoot <unk>, an injury. Bellers were <unk>, they were defeated "
          },
          "metadata": {}
        }
      ]
    }
  ]
}